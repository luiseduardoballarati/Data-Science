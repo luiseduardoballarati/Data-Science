{
  "nbformat": 4,
  "nbformat_minor": 0,
  "metadata": {
    "colab": {
      "provenance": []
    },
    "kernelspec": {
      "name": "python3",
      "display_name": "Python 3"
    },
    "language_info": {
      "name": "python"
    }
  },
  "cells": [
    {
      "cell_type": "markdown",
      "source": [
        "# Classificação KNN\n",
        "\n",
        "O objetivo desse documento e mostrar uma análise de um dataset simples e ao fim demonstrar a aplicação de um algorimto de classificação (KNN). Será escrito inteiramente em português para ajudar pessoas que não tem um inglês tão forte ainda. \n",
        "\n",
        "Irei explicar os imports, análises e gráficos.\n",
        "\n",
        "O mais legal aqui é realizar as análises e destrinchar o dataset para podermos pensar em insights!\n",
        "\n",
        "Vamos inicialmente importar algumas bibliotecas para análise e visualização de dados. \n",
        "\n",
        "Como o Git Hub não consegue renderizar gráficos dinâmicos - que nem os que o plotly gera - usaremos uma técnica para plotarmos os gráficos como imagens estéticas PNG.\n",
        "\n",
        "Vamos lá."
      ],
      "metadata": {
        "id": "0yssaB25Dc0V"
      }
    },
    {
      "cell_type": "code",
      "execution_count": 1,
      "metadata": {
        "id": "KbpcI0PrT43c"
      },
      "outputs": [],
      "source": [
        "import pandas as pd\n",
        "import plotly.express as px"
      ]
    },
    {
      "cell_type": "code",
      "source": [
        "!pip install -U kaleido"
      ],
      "metadata": {
        "colab": {
          "base_uri": "https://localhost:8080/"
        },
        "id": "OXdHCcxDKp-g",
        "outputId": "9e323ac4-2d46-4cb6-db33-be9ae8cf4f0b"
      },
      "execution_count": 17,
      "outputs": [
        {
          "output_type": "stream",
          "name": "stdout",
          "text": [
            "Looking in indexes: https://pypi.org/simple, https://us-python.pkg.dev/colab-wheels/public/simple/\n",
            "Collecting kaleido\n",
            "  Downloading kaleido-0.2.1-py2.py3-none-manylinux1_x86_64.whl (79.9 MB)\n",
            "\u001b[2K     \u001b[90m━━━━━━━━━━━━━━━━━━━━━━━━━━━━━━━━━━━━━━━━\u001b[0m \u001b[32m79.9/79.9 MB\u001b[0m \u001b[31m10.7 MB/s\u001b[0m eta \u001b[36m0:00:00\u001b[0m\n",
            "\u001b[?25hInstalling collected packages: kaleido\n",
            "Successfully installed kaleido-0.2.1\n"
          ]
        }
      ]
    },
    {
      "cell_type": "markdown",
      "source": [
        "Esse dataset inclui descrições de amostras hipotéticas de 23 espécies de cogumelos. Cada espécie é identificada como comestível (edible) ou venenosa (poisonous). Vamos realizar algumas análises e posteriormente desenvolver um modelo de classificação para descobrirmos se aquele cogumelo é comestível ou não."
      ],
      "metadata": {
        "id": "d-ZqlpAZAliX"
      }
    },
    {
      "cell_type": "code",
      "source": [
        "df = pd.read_csv(\"/content/drive/MyDrive/Colab Notebooks/datasets/mushrooms.csv\")"
      ],
      "metadata": {
        "id": "T8RpnWYXshXf"
      },
      "execution_count": 2,
      "outputs": []
    },
    {
      "cell_type": "markdown",
      "source": [
        "Vamos ver a descrição dos atributos (preferi deixar em inglês mesmo, mais fácil):\n",
        "\n",
        "Attribute Information: (classes: edible=e, poisonous=p) - Objetivo (variável target)\n",
        "\n",
        "cap-shape: bell=b,conical=c,convex=x,flat=f, knobbed=k,sunken=s\n",
        "\n",
        "cap-surface: fibrous=f,grooves=g,scaly=y,smooth=s\n",
        "\n",
        "cap-color: brown=n,buff=b,cinnamon=c,gray=g,green=r,pink=p,purple=u,red=e,white=w,yellow=y\n",
        "\n",
        "bruises: bruises=t,no=f\n",
        "\n",
        "odor: almond=a,anise=l,creosote=c,fishy=y,foul=f,musty=m,none=n,pungent=p,spicy=s\n",
        "\n",
        "gill-attachment: attached=a,descending=d,free=f,notched=n\n",
        "\n",
        "gill-spacing: close=c,crowded=w,distant=d\n",
        "\n",
        "gill-size: broad=b,narrow=n\n",
        "\n",
        "gill-color: black=k,brown=n,buff=b,chocolate=h,gray=g, green=r,orange=o,pink=p,purple=u,red=e,white=w,yellow=y\n",
        "\n",
        "stalk-shape: enlarging=e,tapering=t\n",
        "\n",
        "stalk-root: bulbous=b,club=c,cup=u,equal=e,rhizomorphs=z,rooted=r,missing=?\n",
        "\n",
        "stalk-surface-above-ring: fibrous=f,scaly=y,silky=k,smooth=s\n",
        "\n",
        "stalk-surface-below-ring: fibrous=f,scaly=y,silky=k,smooth=s\n",
        "\n",
        "stalk-color-above-ring: brown=n,buff=b,cinnamon=c,gray=g,orange=o,pink=p,red=e,white=w,yellow=y\n",
        "\n",
        "stalk-color-below-ring: brown=n,buff=b,cinnamon=c,gray=g,orange=o,pink=p,red=e,white=w,yellow=y\n",
        "\n",
        "veil-type: partial=p,universal=u\n",
        "\n",
        "veil-color: brown=n,orange=o,white=w,yellow=y\n",
        "\n",
        "ring-number: none=n,one=o,two=t\n",
        "\n",
        "ring-type: cobwebby=c,evanescent=e,flaring=f,large=l,none=n,pendant=p,sheathing=s,zone=z\n",
        "\n",
        "spore-print-color: black=k,brown=n,buff=b,chocolate=h,green=r,orange=o,purple=u,white=w,yellow=y\n",
        "\n",
        "population: abundant=a,clustered=c,numerous=n,scattered=s,several=v,solitary=y\n",
        "\n",
        "habitat: grasses=g,leaves=l,meadows=m,paths=p,urban=u,waste=w,woods=d"
      ],
      "metadata": {
        "id": "1yRh_qJ5_uyp"
      }
    },
    {
      "cell_type": "code",
      "source": [
        "df.head()"
      ],
      "metadata": {
        "colab": {
          "base_uri": "https://localhost:8080/",
          "height": 332
        },
        "id": "eWirJ_v7sw4b",
        "outputId": "17a77da5-1543-4957-b726-30c862aec2c5"
      },
      "execution_count": 3,
      "outputs": [
        {
          "output_type": "execute_result",
          "data": {
            "text/plain": [
              "  class cap-shape cap-surface cap-color bruises odor gill-attachment  \\\n",
              "0     p         x           s         n       t    p               f   \n",
              "1     e         x           s         y       t    a               f   \n",
              "2     e         b           s         w       t    l               f   \n",
              "3     p         x           y         w       t    p               f   \n",
              "4     e         x           s         g       f    n               f   \n",
              "\n",
              "  gill-spacing gill-size gill-color  ... stalk-surface-below-ring  \\\n",
              "0            c         n          k  ...                        s   \n",
              "1            c         b          k  ...                        s   \n",
              "2            c         b          n  ...                        s   \n",
              "3            c         n          n  ...                        s   \n",
              "4            w         b          k  ...                        s   \n",
              "\n",
              "  stalk-color-above-ring stalk-color-below-ring veil-type veil-color  \\\n",
              "0                      w                      w         p          w   \n",
              "1                      w                      w         p          w   \n",
              "2                      w                      w         p          w   \n",
              "3                      w                      w         p          w   \n",
              "4                      w                      w         p          w   \n",
              "\n",
              "  ring-number ring-type spore-print-color population habitat  \n",
              "0           o         p                 k          s       u  \n",
              "1           o         p                 n          n       g  \n",
              "2           o         p                 n          n       m  \n",
              "3           o         p                 k          s       u  \n",
              "4           o         e                 n          a       g  \n",
              "\n",
              "[5 rows x 23 columns]"
            ],
            "text/html": [
              "\n",
              "  <div id=\"df-6101b376-3d41-44ef-8ffa-8a39130951e6\">\n",
              "    <div class=\"colab-df-container\">\n",
              "      <div>\n",
              "<style scoped>\n",
              "    .dataframe tbody tr th:only-of-type {\n",
              "        vertical-align: middle;\n",
              "    }\n",
              "\n",
              "    .dataframe tbody tr th {\n",
              "        vertical-align: top;\n",
              "    }\n",
              "\n",
              "    .dataframe thead th {\n",
              "        text-align: right;\n",
              "    }\n",
              "</style>\n",
              "<table border=\"1\" class=\"dataframe\">\n",
              "  <thead>\n",
              "    <tr style=\"text-align: right;\">\n",
              "      <th></th>\n",
              "      <th>class</th>\n",
              "      <th>cap-shape</th>\n",
              "      <th>cap-surface</th>\n",
              "      <th>cap-color</th>\n",
              "      <th>bruises</th>\n",
              "      <th>odor</th>\n",
              "      <th>gill-attachment</th>\n",
              "      <th>gill-spacing</th>\n",
              "      <th>gill-size</th>\n",
              "      <th>gill-color</th>\n",
              "      <th>...</th>\n",
              "      <th>stalk-surface-below-ring</th>\n",
              "      <th>stalk-color-above-ring</th>\n",
              "      <th>stalk-color-below-ring</th>\n",
              "      <th>veil-type</th>\n",
              "      <th>veil-color</th>\n",
              "      <th>ring-number</th>\n",
              "      <th>ring-type</th>\n",
              "      <th>spore-print-color</th>\n",
              "      <th>population</th>\n",
              "      <th>habitat</th>\n",
              "    </tr>\n",
              "  </thead>\n",
              "  <tbody>\n",
              "    <tr>\n",
              "      <th>0</th>\n",
              "      <td>p</td>\n",
              "      <td>x</td>\n",
              "      <td>s</td>\n",
              "      <td>n</td>\n",
              "      <td>t</td>\n",
              "      <td>p</td>\n",
              "      <td>f</td>\n",
              "      <td>c</td>\n",
              "      <td>n</td>\n",
              "      <td>k</td>\n",
              "      <td>...</td>\n",
              "      <td>s</td>\n",
              "      <td>w</td>\n",
              "      <td>w</td>\n",
              "      <td>p</td>\n",
              "      <td>w</td>\n",
              "      <td>o</td>\n",
              "      <td>p</td>\n",
              "      <td>k</td>\n",
              "      <td>s</td>\n",
              "      <td>u</td>\n",
              "    </tr>\n",
              "    <tr>\n",
              "      <th>1</th>\n",
              "      <td>e</td>\n",
              "      <td>x</td>\n",
              "      <td>s</td>\n",
              "      <td>y</td>\n",
              "      <td>t</td>\n",
              "      <td>a</td>\n",
              "      <td>f</td>\n",
              "      <td>c</td>\n",
              "      <td>b</td>\n",
              "      <td>k</td>\n",
              "      <td>...</td>\n",
              "      <td>s</td>\n",
              "      <td>w</td>\n",
              "      <td>w</td>\n",
              "      <td>p</td>\n",
              "      <td>w</td>\n",
              "      <td>o</td>\n",
              "      <td>p</td>\n",
              "      <td>n</td>\n",
              "      <td>n</td>\n",
              "      <td>g</td>\n",
              "    </tr>\n",
              "    <tr>\n",
              "      <th>2</th>\n",
              "      <td>e</td>\n",
              "      <td>b</td>\n",
              "      <td>s</td>\n",
              "      <td>w</td>\n",
              "      <td>t</td>\n",
              "      <td>l</td>\n",
              "      <td>f</td>\n",
              "      <td>c</td>\n",
              "      <td>b</td>\n",
              "      <td>n</td>\n",
              "      <td>...</td>\n",
              "      <td>s</td>\n",
              "      <td>w</td>\n",
              "      <td>w</td>\n",
              "      <td>p</td>\n",
              "      <td>w</td>\n",
              "      <td>o</td>\n",
              "      <td>p</td>\n",
              "      <td>n</td>\n",
              "      <td>n</td>\n",
              "      <td>m</td>\n",
              "    </tr>\n",
              "    <tr>\n",
              "      <th>3</th>\n",
              "      <td>p</td>\n",
              "      <td>x</td>\n",
              "      <td>y</td>\n",
              "      <td>w</td>\n",
              "      <td>t</td>\n",
              "      <td>p</td>\n",
              "      <td>f</td>\n",
              "      <td>c</td>\n",
              "      <td>n</td>\n",
              "      <td>n</td>\n",
              "      <td>...</td>\n",
              "      <td>s</td>\n",
              "      <td>w</td>\n",
              "      <td>w</td>\n",
              "      <td>p</td>\n",
              "      <td>w</td>\n",
              "      <td>o</td>\n",
              "      <td>p</td>\n",
              "      <td>k</td>\n",
              "      <td>s</td>\n",
              "      <td>u</td>\n",
              "    </tr>\n",
              "    <tr>\n",
              "      <th>4</th>\n",
              "      <td>e</td>\n",
              "      <td>x</td>\n",
              "      <td>s</td>\n",
              "      <td>g</td>\n",
              "      <td>f</td>\n",
              "      <td>n</td>\n",
              "      <td>f</td>\n",
              "      <td>w</td>\n",
              "      <td>b</td>\n",
              "      <td>k</td>\n",
              "      <td>...</td>\n",
              "      <td>s</td>\n",
              "      <td>w</td>\n",
              "      <td>w</td>\n",
              "      <td>p</td>\n",
              "      <td>w</td>\n",
              "      <td>o</td>\n",
              "      <td>e</td>\n",
              "      <td>n</td>\n",
              "      <td>a</td>\n",
              "      <td>g</td>\n",
              "    </tr>\n",
              "  </tbody>\n",
              "</table>\n",
              "<p>5 rows × 23 columns</p>\n",
              "</div>\n",
              "      <button class=\"colab-df-convert\" onclick=\"convertToInteractive('df-6101b376-3d41-44ef-8ffa-8a39130951e6')\"\n",
              "              title=\"Convert this dataframe to an interactive table.\"\n",
              "              style=\"display:none;\">\n",
              "        \n",
              "  <svg xmlns=\"http://www.w3.org/2000/svg\" height=\"24px\"viewBox=\"0 0 24 24\"\n",
              "       width=\"24px\">\n",
              "    <path d=\"M0 0h24v24H0V0z\" fill=\"none\"/>\n",
              "    <path d=\"M18.56 5.44l.94 2.06.94-2.06 2.06-.94-2.06-.94-.94-2.06-.94 2.06-2.06.94zm-11 1L8.5 8.5l.94-2.06 2.06-.94-2.06-.94L8.5 2.5l-.94 2.06-2.06.94zm10 10l.94 2.06.94-2.06 2.06-.94-2.06-.94-.94-2.06-.94 2.06-2.06.94z\"/><path d=\"M17.41 7.96l-1.37-1.37c-.4-.4-.92-.59-1.43-.59-.52 0-1.04.2-1.43.59L10.3 9.45l-7.72 7.72c-.78.78-.78 2.05 0 2.83L4 21.41c.39.39.9.59 1.41.59.51 0 1.02-.2 1.41-.59l7.78-7.78 2.81-2.81c.8-.78.8-2.07 0-2.86zM5.41 20L4 18.59l7.72-7.72 1.47 1.35L5.41 20z\"/>\n",
              "  </svg>\n",
              "      </button>\n",
              "      \n",
              "  <style>\n",
              "    .colab-df-container {\n",
              "      display:flex;\n",
              "      flex-wrap:wrap;\n",
              "      gap: 12px;\n",
              "    }\n",
              "\n",
              "    .colab-df-convert {\n",
              "      background-color: #E8F0FE;\n",
              "      border: none;\n",
              "      border-radius: 50%;\n",
              "      cursor: pointer;\n",
              "      display: none;\n",
              "      fill: #1967D2;\n",
              "      height: 32px;\n",
              "      padding: 0 0 0 0;\n",
              "      width: 32px;\n",
              "    }\n",
              "\n",
              "    .colab-df-convert:hover {\n",
              "      background-color: #E2EBFA;\n",
              "      box-shadow: 0px 1px 2px rgba(60, 64, 67, 0.3), 0px 1px 3px 1px rgba(60, 64, 67, 0.15);\n",
              "      fill: #174EA6;\n",
              "    }\n",
              "\n",
              "    [theme=dark] .colab-df-convert {\n",
              "      background-color: #3B4455;\n",
              "      fill: #D2E3FC;\n",
              "    }\n",
              "\n",
              "    [theme=dark] .colab-df-convert:hover {\n",
              "      background-color: #434B5C;\n",
              "      box-shadow: 0px 1px 3px 1px rgba(0, 0, 0, 0.15);\n",
              "      filter: drop-shadow(0px 1px 2px rgba(0, 0, 0, 0.3));\n",
              "      fill: #FFFFFF;\n",
              "    }\n",
              "  </style>\n",
              "\n",
              "      <script>\n",
              "        const buttonEl =\n",
              "          document.querySelector('#df-6101b376-3d41-44ef-8ffa-8a39130951e6 button.colab-df-convert');\n",
              "        buttonEl.style.display =\n",
              "          google.colab.kernel.accessAllowed ? 'block' : 'none';\n",
              "\n",
              "        async function convertToInteractive(key) {\n",
              "          const element = document.querySelector('#df-6101b376-3d41-44ef-8ffa-8a39130951e6');\n",
              "          const dataTable =\n",
              "            await google.colab.kernel.invokeFunction('convertToInteractive',\n",
              "                                                     [key], {});\n",
              "          if (!dataTable) return;\n",
              "\n",
              "          const docLinkHtml = 'Like what you see? Visit the ' +\n",
              "            '<a target=\"_blank\" href=https://colab.research.google.com/notebooks/data_table.ipynb>data table notebook</a>'\n",
              "            + ' to learn more about interactive tables.';\n",
              "          element.innerHTML = '';\n",
              "          dataTable['output_type'] = 'display_data';\n",
              "          await google.colab.output.renderOutput(dataTable, element);\n",
              "          const docLink = document.createElement('div');\n",
              "          docLink.innerHTML = docLinkHtml;\n",
              "          element.appendChild(docLink);\n",
              "        }\n",
              "      </script>\n",
              "    </div>\n",
              "  </div>\n",
              "  "
            ]
          },
          "metadata": {},
          "execution_count": 3
        }
      ]
    },
    {
      "cell_type": "markdown",
      "source": [
        "Aparentemente tudo certo com a importação do dataset."
      ],
      "metadata": {
        "id": "JKGXYXi7BK15"
      }
    },
    {
      "cell_type": "code",
      "source": [
        "df.info()"
      ],
      "metadata": {
        "colab": {
          "base_uri": "https://localhost:8080/"
        },
        "id": "AtjGhIP2s6_C",
        "outputId": "e3fced61-5311-414f-cf80-deebeea98754"
      },
      "execution_count": null,
      "outputs": [
        {
          "output_type": "stream",
          "name": "stdout",
          "text": [
            "<class 'pandas.core.frame.DataFrame'>\n",
            "RangeIndex: 8124 entries, 0 to 8123\n",
            "Data columns (total 23 columns):\n",
            " #   Column                    Non-Null Count  Dtype \n",
            "---  ------                    --------------  ----- \n",
            " 0   class                     8124 non-null   object\n",
            " 1   cap-shape                 8124 non-null   object\n",
            " 2   cap-surface               8124 non-null   object\n",
            " 3   cap-color                 8124 non-null   object\n",
            " 4   bruises                   8124 non-null   object\n",
            " 5   odor                      8124 non-null   object\n",
            " 6   gill-attachment           8124 non-null   object\n",
            " 7   gill-spacing              8124 non-null   object\n",
            " 8   gill-size                 8124 non-null   object\n",
            " 9   gill-color                8124 non-null   object\n",
            " 10  stalk-shape               8124 non-null   object\n",
            " 11  stalk-root                8124 non-null   object\n",
            " 12  stalk-surface-above-ring  8124 non-null   object\n",
            " 13  stalk-surface-below-ring  8124 non-null   object\n",
            " 14  stalk-color-above-ring    8124 non-null   object\n",
            " 15  stalk-color-below-ring    8124 non-null   object\n",
            " 16  veil-type                 8124 non-null   object\n",
            " 17  veil-color                8124 non-null   object\n",
            " 18  ring-number               8124 non-null   object\n",
            " 19  ring-type                 8124 non-null   object\n",
            " 20  spore-print-color         8124 non-null   object\n",
            " 21  population                8124 non-null   object\n",
            " 22  habitat                   8124 non-null   object\n",
            "dtypes: object(23)\n",
            "memory usage: 1.4+ MB\n"
          ]
        }
      ]
    },
    {
      "cell_type": "markdown",
      "source": [
        "Aparentemente sem dados faltantes."
      ],
      "metadata": {
        "id": "XAPHgxUwPZN2"
      }
    },
    {
      "cell_type": "markdown",
      "source": [
        "Aqui teremos um problema: todas variáveis são categóricas e por conta disso teremos de convertê-las para numéricas. Poderíamos simplesmente trocar as letras do atributo cor (gill-color: black=k,brown=n,buff=b,chocolate=h,gray=g, green=r,orange=o,pink=p,purple=u,red=e,white=w,yellow=y), por exemplo, por valores numéricos (0, 1, 2, 3...). Infelizmente, isso atrapalharia o modelo. Isso ocorre porquê o modelo identificaria padrões inexistentes entre as cores. Para esclarecer, suponhamos que à cor preta seja atribuído o número 1 e à amarela o número 2. 2 é o dobro de 1, mas amarelo não é o dobro de preto. \n",
        "Em cenários como esse, a ferramenta ideal é o one-hot-enconding.\n",
        "Observemos que caso houvesse uma relação matemática entre as variáveis, essa troca seria possível sem afetar a acuracidade do modelo. Caso houvesse um atributo sabor com \"Muito bom\", \"Bom\", \"Ruim\" e \"Péssimo\", dependendo das escolhas dos valores realizar essa troca não afetaria tanto as análises (uma vez que \"Muito bom\" é \"melhor/maior\" que as outras variáveis.)"
      ],
      "metadata": {
        "id": "k45LNkUrBNrH"
      }
    },
    {
      "cell_type": "markdown",
      "source": [
        "Para que possamos realizar algumas análises explorátórias, entretanto, vou converter os valores em numéricos para que as plotagens fiquem mais fáceis. Para isso vou criar outro dataset e trabalhar com o original apenas na hora de desenvolver o modelo."
      ],
      "metadata": {
        "id": "gkywjdJ8DWJ3"
      }
    },
    {
      "cell_type": "code",
      "source": [
        "df.shape"
      ],
      "metadata": {
        "colab": {
          "base_uri": "https://localhost:8080/"
        },
        "id": "a7WRWaD5s8bK",
        "outputId": "9aa5c670-3bcb-4685-98b6-df84a304f58e"
      },
      "execution_count": null,
      "outputs": [
        {
          "output_type": "execute_result",
          "data": {
            "text/plain": [
              "(8124, 23)"
            ]
          },
          "metadata": {},
          "execution_count": 21
        }
      ]
    },
    {
      "cell_type": "code",
      "source": [
        "df.value_counts()"
      ],
      "metadata": {
        "colab": {
          "base_uri": "https://localhost:8080/"
        },
        "id": "Mf-U9fK1tDD7",
        "outputId": "b1786ac6-7d9e-4f0a-d89f-904f4bf1d133"
      },
      "execution_count": null,
      "outputs": [
        {
          "output_type": "execute_result",
          "data": {
            "text/plain": [
              "class  cap-shape  cap-surface  cap-color  bruises  odor  gill-attachment  gill-spacing  gill-size  gill-color  stalk-shape  stalk-root  stalk-surface-above-ring  stalk-surface-below-ring  stalk-color-above-ring  stalk-color-below-ring  veil-type  veil-color  ring-number  ring-type  spore-print-color  population  habitat\n",
              "e      b          f            g          f        n     f                w             b          g           e            ?           k                         k                         w                       w                       p          w           t            p          w                  n           g          1\n",
              "p      f          y            g          f        f     f                c             b          p           e            b           k                         k                         p                       n                       p          w           o            l          h                  v           d          1\n",
              "                               n          f        f     f                c             n          b           t            ?           k                         k                         p                       p                       p          w           o            e          w                  v           l          1\n",
              "                                                                                                                                                                                                                                                                                                                          d          1\n",
              "                               g          f        f     f                c             b          p           e            b           k                         k                         p                       p                       p          w           o            l          h                  y           p          1\n",
              "                                                                                                                                                                                                                                                                                                                                    ..\n",
              "e      x          f            n          f        n     f                w             b          k           t            e           s                         s                         w                       w                       p          w           o            e          n                  s           g          1\n",
              "                                                                                                                                                                                                                                                                                                              a           g          1\n",
              "                                                                                                                                                                                                                                                                                           k                  s           g          1\n",
              "                                                                                                                                                                                                                                                                                                              a           g          1\n",
              "p      x          y            y          f        n     f                c             n          w           e            ?           k                         y                         w                       y                       p          w           o            e          w                  v           d          1\n",
              "Length: 8124, dtype: int64"
            ]
          },
          "metadata": {},
          "execution_count": 22
        }
      ]
    },
    {
      "cell_type": "markdown",
      "source": [
        "Não ficou nada claro o value_counts(). Esse comando é muito útil e funciona como o comando unique() e nunique().\n",
        "\n",
        "O value_counts() traz a o número de aparições de uma informação. Para ser mais claro, vamos ver um exemplo da feature \"cap-shape\" - formato da cabeça do cogumelo.\n",
        "\n",
        "Sabemos que temos 6 possibilidades: \n",
        "\n",
        "- bell=b\n",
        "- conical=c\n",
        "- convex=x\n",
        "- flat=f\n",
        "- knobbed=k\n",
        "- sunken=s\n",
        "\n",
        "Agora, para sabermos quantos cogumelos cuja o formato da cabeça é \"bell\", \"conical\", \"convex\" e assim por diante, usamos o value_counts(). \n",
        "\n",
        "Veja só:"
      ],
      "metadata": {
        "id": "6RfbuVOlFJ0C"
      }
    },
    {
      "cell_type": "code",
      "source": [
        "df['cap-shape'].value_counts()"
      ],
      "metadata": {
        "colab": {
          "base_uri": "https://localhost:8080/"
        },
        "id": "4_kzZzwsFbPE",
        "outputId": "34af935c-a94f-473d-9d78-8bf8b4b173eb"
      },
      "execution_count": 6,
      "outputs": [
        {
          "output_type": "execute_result",
          "data": {
            "text/plain": [
              "x    3656\n",
              "f    3152\n",
              "k     828\n",
              "b     452\n",
              "s      32\n",
              "c       4\n",
              "Name: cap-shape, dtype: int64"
            ]
          },
          "metadata": {},
          "execution_count": 6
        }
      ]
    },
    {
      "cell_type": "markdown",
      "source": [
        "Muito mais claro. Dois mais de 8000 cogumelos no dataset, sabemos agora que 3656 têm o formato da cabeça convexo (x). \n",
        "\n",
        "Ajuda bastante.\n",
        "\n",
        "Apenas para conhecimento, vejamos os comandos unique() e nunique():"
      ],
      "metadata": {
        "id": "JxhHaO6QGBX4"
      }
    },
    {
      "cell_type": "code",
      "source": [
        "df['cap-shape'].unique()"
      ],
      "metadata": {
        "colab": {
          "base_uri": "https://localhost:8080/"
        },
        "id": "yYuZpZ6uGQxC",
        "outputId": "d933f55e-51b0-4e3b-9c3e-ef9d7aee3d59"
      },
      "execution_count": 7,
      "outputs": [
        {
          "output_type": "execute_result",
          "data": {
            "text/plain": [
              "array(['x', 'b', 's', 'f', 'k', 'c'], dtype=object)"
            ]
          },
          "metadata": {},
          "execution_count": 7
        }
      ]
    },
    {
      "cell_type": "code",
      "source": [
        "df['cap-shape'].nunique()"
      ],
      "metadata": {
        "colab": {
          "base_uri": "https://localhost:8080/"
        },
        "id": "wKRqH-CiGTeN",
        "outputId": "cb107564-c528-4614-f8aa-83c59128519a"
      },
      "execution_count": 8,
      "outputs": [
        {
          "output_type": "execute_result",
          "data": {
            "text/plain": [
              "6"
            ]
          },
          "metadata": {},
          "execution_count": 8
        }
      ]
    },
    {
      "cell_type": "markdown",
      "source": [
        "Como podemos ver, o comando unique() traz todas as possibilidades de valores para aquela feature. É muito útil quando não temos essa informação.\n",
        "\n",
        "Já comando nunique() traz essa mesma informação quantitativamente, ou seja, sabemos que existem 6 possibilidades de resposta na feature cap-shape, mas não sabemos quais são elas.\n",
        "\n",
        "O value_counts() une essas duas informações e ainda complementa-a."
      ],
      "metadata": {
        "id": "qqzxKTK0GVbn"
      }
    },
    {
      "cell_type": "markdown",
      "source": [
        "A seguir, usaremos o describe. \n",
        "\n",
        "Ele funciona muito melhor para variáveis numéricas, mas como todas nossas variáveis são categóricas, esse comando traz menos informações.\n",
        "\n",
        "Nesse caso, ele trouxe a contagem de cada feature (quantos dados/linhas tem cada feature/coluna), quantos valores diferentes têm cada feature (unique), o valor de maior frequência (top) e freq é a frequência desse maior valor.\n",
        "\n",
        "Para dados numéricos, o índice do resultado incluirá ainda a média, desvio padrão, mínimo, máximo, bem como percentis inferior, 50 e superior. Por padrão, o percentil inferior é 25% e o percentil superior é 75%. O percentil 50% é igual à mediana."
      ],
      "metadata": {
        "id": "2ZhwBsSuGsqW"
      }
    },
    {
      "cell_type": "code",
      "source": [
        "df.describe()"
      ],
      "metadata": {
        "colab": {
          "base_uri": "https://localhost:8080/",
          "height": 300
        },
        "id": "ZeUBxJ9wtIbp",
        "outputId": "b17fb495-bd29-4e91-b85b-6d560d1e1dc6"
      },
      "execution_count": 9,
      "outputs": [
        {
          "output_type": "execute_result",
          "data": {
            "text/plain": [
              "       class cap-shape cap-surface cap-color bruises  odor gill-attachment  \\\n",
              "count   8124      8124        8124      8124    8124  8124            8124   \n",
              "unique     2         6           4        10       2     9               2   \n",
              "top        e         x           y         n       f     n               f   \n",
              "freq    4208      3656        3244      2284    4748  3528            7914   \n",
              "\n",
              "       gill-spacing gill-size gill-color  ... stalk-surface-below-ring  \\\n",
              "count          8124      8124       8124  ...                     8124   \n",
              "unique            2         2         12  ...                        4   \n",
              "top               c         b          b  ...                        s   \n",
              "freq           6812      5612       1728  ...                     4936   \n",
              "\n",
              "       stalk-color-above-ring stalk-color-below-ring veil-type veil-color  \\\n",
              "count                    8124                   8124      8124       8124   \n",
              "unique                      9                      9         1          4   \n",
              "top                         w                      w         p          w   \n",
              "freq                     4464                   4384      8124       7924   \n",
              "\n",
              "       ring-number ring-type spore-print-color population habitat  \n",
              "count         8124      8124              8124       8124    8124  \n",
              "unique           3         5                 9          6       7  \n",
              "top              o         p                 w          v       d  \n",
              "freq          7488      3968              2388       4040    3148  \n",
              "\n",
              "[4 rows x 23 columns]"
            ],
            "text/html": [
              "\n",
              "  <div id=\"df-7ee7e16b-9e6c-497e-aa74-9945ebd6996b\">\n",
              "    <div class=\"colab-df-container\">\n",
              "      <div>\n",
              "<style scoped>\n",
              "    .dataframe tbody tr th:only-of-type {\n",
              "        vertical-align: middle;\n",
              "    }\n",
              "\n",
              "    .dataframe tbody tr th {\n",
              "        vertical-align: top;\n",
              "    }\n",
              "\n",
              "    .dataframe thead th {\n",
              "        text-align: right;\n",
              "    }\n",
              "</style>\n",
              "<table border=\"1\" class=\"dataframe\">\n",
              "  <thead>\n",
              "    <tr style=\"text-align: right;\">\n",
              "      <th></th>\n",
              "      <th>class</th>\n",
              "      <th>cap-shape</th>\n",
              "      <th>cap-surface</th>\n",
              "      <th>cap-color</th>\n",
              "      <th>bruises</th>\n",
              "      <th>odor</th>\n",
              "      <th>gill-attachment</th>\n",
              "      <th>gill-spacing</th>\n",
              "      <th>gill-size</th>\n",
              "      <th>gill-color</th>\n",
              "      <th>...</th>\n",
              "      <th>stalk-surface-below-ring</th>\n",
              "      <th>stalk-color-above-ring</th>\n",
              "      <th>stalk-color-below-ring</th>\n",
              "      <th>veil-type</th>\n",
              "      <th>veil-color</th>\n",
              "      <th>ring-number</th>\n",
              "      <th>ring-type</th>\n",
              "      <th>spore-print-color</th>\n",
              "      <th>population</th>\n",
              "      <th>habitat</th>\n",
              "    </tr>\n",
              "  </thead>\n",
              "  <tbody>\n",
              "    <tr>\n",
              "      <th>count</th>\n",
              "      <td>8124</td>\n",
              "      <td>8124</td>\n",
              "      <td>8124</td>\n",
              "      <td>8124</td>\n",
              "      <td>8124</td>\n",
              "      <td>8124</td>\n",
              "      <td>8124</td>\n",
              "      <td>8124</td>\n",
              "      <td>8124</td>\n",
              "      <td>8124</td>\n",
              "      <td>...</td>\n",
              "      <td>8124</td>\n",
              "      <td>8124</td>\n",
              "      <td>8124</td>\n",
              "      <td>8124</td>\n",
              "      <td>8124</td>\n",
              "      <td>8124</td>\n",
              "      <td>8124</td>\n",
              "      <td>8124</td>\n",
              "      <td>8124</td>\n",
              "      <td>8124</td>\n",
              "    </tr>\n",
              "    <tr>\n",
              "      <th>unique</th>\n",
              "      <td>2</td>\n",
              "      <td>6</td>\n",
              "      <td>4</td>\n",
              "      <td>10</td>\n",
              "      <td>2</td>\n",
              "      <td>9</td>\n",
              "      <td>2</td>\n",
              "      <td>2</td>\n",
              "      <td>2</td>\n",
              "      <td>12</td>\n",
              "      <td>...</td>\n",
              "      <td>4</td>\n",
              "      <td>9</td>\n",
              "      <td>9</td>\n",
              "      <td>1</td>\n",
              "      <td>4</td>\n",
              "      <td>3</td>\n",
              "      <td>5</td>\n",
              "      <td>9</td>\n",
              "      <td>6</td>\n",
              "      <td>7</td>\n",
              "    </tr>\n",
              "    <tr>\n",
              "      <th>top</th>\n",
              "      <td>e</td>\n",
              "      <td>x</td>\n",
              "      <td>y</td>\n",
              "      <td>n</td>\n",
              "      <td>f</td>\n",
              "      <td>n</td>\n",
              "      <td>f</td>\n",
              "      <td>c</td>\n",
              "      <td>b</td>\n",
              "      <td>b</td>\n",
              "      <td>...</td>\n",
              "      <td>s</td>\n",
              "      <td>w</td>\n",
              "      <td>w</td>\n",
              "      <td>p</td>\n",
              "      <td>w</td>\n",
              "      <td>o</td>\n",
              "      <td>p</td>\n",
              "      <td>w</td>\n",
              "      <td>v</td>\n",
              "      <td>d</td>\n",
              "    </tr>\n",
              "    <tr>\n",
              "      <th>freq</th>\n",
              "      <td>4208</td>\n",
              "      <td>3656</td>\n",
              "      <td>3244</td>\n",
              "      <td>2284</td>\n",
              "      <td>4748</td>\n",
              "      <td>3528</td>\n",
              "      <td>7914</td>\n",
              "      <td>6812</td>\n",
              "      <td>5612</td>\n",
              "      <td>1728</td>\n",
              "      <td>...</td>\n",
              "      <td>4936</td>\n",
              "      <td>4464</td>\n",
              "      <td>4384</td>\n",
              "      <td>8124</td>\n",
              "      <td>7924</td>\n",
              "      <td>7488</td>\n",
              "      <td>3968</td>\n",
              "      <td>2388</td>\n",
              "      <td>4040</td>\n",
              "      <td>3148</td>\n",
              "    </tr>\n",
              "  </tbody>\n",
              "</table>\n",
              "<p>4 rows × 23 columns</p>\n",
              "</div>\n",
              "      <button class=\"colab-df-convert\" onclick=\"convertToInteractive('df-7ee7e16b-9e6c-497e-aa74-9945ebd6996b')\"\n",
              "              title=\"Convert this dataframe to an interactive table.\"\n",
              "              style=\"display:none;\">\n",
              "        \n",
              "  <svg xmlns=\"http://www.w3.org/2000/svg\" height=\"24px\"viewBox=\"0 0 24 24\"\n",
              "       width=\"24px\">\n",
              "    <path d=\"M0 0h24v24H0V0z\" fill=\"none\"/>\n",
              "    <path d=\"M18.56 5.44l.94 2.06.94-2.06 2.06-.94-2.06-.94-.94-2.06-.94 2.06-2.06.94zm-11 1L8.5 8.5l.94-2.06 2.06-.94-2.06-.94L8.5 2.5l-.94 2.06-2.06.94zm10 10l.94 2.06.94-2.06 2.06-.94-2.06-.94-.94-2.06-.94 2.06-2.06.94z\"/><path d=\"M17.41 7.96l-1.37-1.37c-.4-.4-.92-.59-1.43-.59-.52 0-1.04.2-1.43.59L10.3 9.45l-7.72 7.72c-.78.78-.78 2.05 0 2.83L4 21.41c.39.39.9.59 1.41.59.51 0 1.02-.2 1.41-.59l7.78-7.78 2.81-2.81c.8-.78.8-2.07 0-2.86zM5.41 20L4 18.59l7.72-7.72 1.47 1.35L5.41 20z\"/>\n",
              "  </svg>\n",
              "      </button>\n",
              "      \n",
              "  <style>\n",
              "    .colab-df-container {\n",
              "      display:flex;\n",
              "      flex-wrap:wrap;\n",
              "      gap: 12px;\n",
              "    }\n",
              "\n",
              "    .colab-df-convert {\n",
              "      background-color: #E8F0FE;\n",
              "      border: none;\n",
              "      border-radius: 50%;\n",
              "      cursor: pointer;\n",
              "      display: none;\n",
              "      fill: #1967D2;\n",
              "      height: 32px;\n",
              "      padding: 0 0 0 0;\n",
              "      width: 32px;\n",
              "    }\n",
              "\n",
              "    .colab-df-convert:hover {\n",
              "      background-color: #E2EBFA;\n",
              "      box-shadow: 0px 1px 2px rgba(60, 64, 67, 0.3), 0px 1px 3px 1px rgba(60, 64, 67, 0.15);\n",
              "      fill: #174EA6;\n",
              "    }\n",
              "\n",
              "    [theme=dark] .colab-df-convert {\n",
              "      background-color: #3B4455;\n",
              "      fill: #D2E3FC;\n",
              "    }\n",
              "\n",
              "    [theme=dark] .colab-df-convert:hover {\n",
              "      background-color: #434B5C;\n",
              "      box-shadow: 0px 1px 3px 1px rgba(0, 0, 0, 0.15);\n",
              "      filter: drop-shadow(0px 1px 2px rgba(0, 0, 0, 0.3));\n",
              "      fill: #FFFFFF;\n",
              "    }\n",
              "  </style>\n",
              "\n",
              "      <script>\n",
              "        const buttonEl =\n",
              "          document.querySelector('#df-7ee7e16b-9e6c-497e-aa74-9945ebd6996b button.colab-df-convert');\n",
              "        buttonEl.style.display =\n",
              "          google.colab.kernel.accessAllowed ? 'block' : 'none';\n",
              "\n",
              "        async function convertToInteractive(key) {\n",
              "          const element = document.querySelector('#df-7ee7e16b-9e6c-497e-aa74-9945ebd6996b');\n",
              "          const dataTable =\n",
              "            await google.colab.kernel.invokeFunction('convertToInteractive',\n",
              "                                                     [key], {});\n",
              "          if (!dataTable) return;\n",
              "\n",
              "          const docLinkHtml = 'Like what you see? Visit the ' +\n",
              "            '<a target=\"_blank\" href=https://colab.research.google.com/notebooks/data_table.ipynb>data table notebook</a>'\n",
              "            + ' to learn more about interactive tables.';\n",
              "          element.innerHTML = '';\n",
              "          dataTable['output_type'] = 'display_data';\n",
              "          await google.colab.output.renderOutput(dataTable, element);\n",
              "          const docLink = document.createElement('div');\n",
              "          docLink.innerHTML = docLinkHtml;\n",
              "          element.appendChild(docLink);\n",
              "        }\n",
              "      </script>\n",
              "    </div>\n",
              "  </div>\n",
              "  "
            ]
          },
          "metadata": {},
          "execution_count": 9
        }
      ]
    },
    {
      "cell_type": "code",
      "source": [
        "df['class'].value_counts()"
      ],
      "metadata": {
        "colab": {
          "base_uri": "https://localhost:8080/"
        },
        "id": "APb5_kOAtWX7",
        "outputId": "cc314239-f034-4171-9b86-0f2b91837454"
      },
      "execution_count": null,
      "outputs": [
        {
          "output_type": "execute_result",
          "data": {
            "text/plain": [
              "e    4208\n",
              "p    3916\n",
              "Name: class, dtype: int64"
            ]
          },
          "metadata": {},
          "execution_count": 24
        }
      ]
    },
    {
      "cell_type": "code",
      "source": [
        "df.columns"
      ],
      "metadata": {
        "colab": {
          "base_uri": "https://localhost:8080/"
        },
        "id": "zSULAkWZD3_t",
        "outputId": "e7de04e5-51ff-4bff-cef3-e5d78a1a195e"
      },
      "execution_count": null,
      "outputs": [
        {
          "output_type": "execute_result",
          "data": {
            "text/plain": [
              "Index(['class', 'cap-shape', 'cap-surface', 'cap-color', 'bruises', 'odor',\n",
              "       'gill-attachment', 'gill-spacing', 'gill-size', 'gill-color',\n",
              "       'stalk-shape', 'stalk-root', 'stalk-surface-above-ring',\n",
              "       'stalk-surface-below-ring', 'stalk-color-above-ring',\n",
              "       'stalk-color-below-ring', 'veil-type', 'veil-color', 'ring-number',\n",
              "       'ring-type', 'spore-print-color', 'population', 'habitat'],\n",
              "      dtype='object')"
            ]
          },
          "metadata": {},
          "execution_count": 25
        }
      ]
    },
    {
      "cell_type": "code",
      "source": [
        "df['habitat'].value_counts()"
      ],
      "metadata": {
        "colab": {
          "base_uri": "https://localhost:8080/"
        },
        "id": "1HfKRfFoD65G",
        "outputId": "8cbdc6ce-05db-4d34-bdeb-3cec2fe80dd2"
      },
      "execution_count": null,
      "outputs": [
        {
          "output_type": "execute_result",
          "data": {
            "text/plain": [
              "d    3148\n",
              "g    2148\n",
              "p    1144\n",
              "l     832\n",
              "u     368\n",
              "m     292\n",
              "w     192\n",
              "Name: habitat, dtype: int64"
            ]
          },
          "metadata": {},
          "execution_count": 26
        }
      ]
    },
    {
      "cell_type": "markdown",
      "source": [
        "Aqui, vamos substituir as letras por números para que possamos plotar os gráficos de maneira mais simples, mas lembremos que para criação do modelo, deveremos usar o one-hot-encoding que isso que estamos fazendo pode afetar o comportamento do modelo!"
      ],
      "metadata": {
        "id": "A_xtF1ubKAT8"
      }
    },
    {
      "cell_type": "code",
      "source": [
        "change = {\"class\":     {\"e\": 0, \"p\": 1},\n",
        "                \"cap-shape\": {\"x\": 0, \"f\": 1, \"k\": 2, \"b\": 3, \"s\": 4, \"c\": 5},\n",
        "                \"cap-surface\": {\"y\": 0, \"s\": 1, \"f\": 2, \"g\": 3},\n",
        "                \"cap-color\": {\"n\": 0, \"g\": 1, \"e\": 2, \"y\": 3, \"w\": 4, \"b\": 5, \"p\": 6, \"c\": 7, \"u\": 8, \"r\": 9},\n",
        "                \"bruises\": {\"f\": 0, \"t\": 1},\n",
        "                \"odor\": {\"n\": 0, \"f\": 1, \"y\": 2, \"s\": 3, \"a\": 4, \"l\": 5, \"p\": 6, \"c\": 7, \"m\": 8},\n",
        "                \"gill-attachment\": {\"f\": 0, \"a\": 1},\n",
        "                \"gill-spacing\": {\"c\": 0, \"w\": 1},\n",
        "                \"gill-size\": {\"b\": 0, \"n\": 1},\n",
        "                \"gill-color\": {\"b\": 0, \"p\": 1, \"w\": 2, \"n\": 3, \"g\": 4, \"h\": 5, \"u\": 6, \"k\": 7, \"e\": 8, \"y\": 9, \"o\": 10, \"r\": 11},\n",
        "                \"stalk-shape\": {\"t\": 0, \"e\": 1},\n",
        "                \"stalk-root\": {\"b\": 0, \"?\": 1, \"e\": 2, \"c\": 3, \"r\": 4},\n",
        "                \"stalk-surface-above-ring\": {\"s\": 0, \"k\": 1, \"f\": 2, \"y\": 3},\n",
        "                \"stalk-surface-below-ring\": {\"s\": 0, \"k\": 1, \"f\": 2, \"y\": 3},\n",
        "                \"stalk-color-above-ring\": {\"w\": 0, \"p\": 1, \"g\": 2, \"n\": 3, \"b\": 4, \"o\": 5, \"e\": 6, \"c\": 7, \"y\": 8},\n",
        "                \"stalk-color-below-ring\": {\"w\": 0, \"p\": 1, \"g\": 2, \"n\": 3, \"b\": 4, \"o\": 5, \"e\": 6, \"c\": 7, \"y\": 8},\n",
        "                \"veil-type\": {\"p\": 0},\n",
        "                \"veil-color\": {\"w\": 0, \"n\": 1, \"o\": 2, \"y\": 3},\n",
        "                \"ring-number\": {\"o\": 0, \"t\": 1, \"n\": 2},\n",
        "                \"ring-type\": {\"p\": 0, \"e\": 1, \"l\": 2, \"f\": 3, \"n\": 4},\n",
        "                \"spore-print-color\": {\"w\": 0, \"n\": 1, \"k\": 2, \"h\": 3, \"r\": 4, \"u\": 5, \"o\": 6, \"y\": 7, \"b\": 8},\n",
        "                \"population\": {\"v\": 0, \"y\": 1, \"s\": 2, \"n\": 3, \"a\": 4, \"c\": 5},\n",
        "                \"habitat\": {\"d\": 0, \"g\": 1, \"p\": 2, \"l\": 3, \"u\": 4, \"m\": 5, \"w\": 6}\n",
        "                }      "
      ],
      "metadata": {
        "id": "_t78C_9DDmQz"
      },
      "execution_count": 4,
      "outputs": []
    },
    {
      "cell_type": "markdown",
      "source": [
        "Vamos criar um novo df igual ao original para mudarmos para numérico:"
      ],
      "metadata": {
        "id": "-ATzshndKPSl"
      }
    },
    {
      "cell_type": "code",
      "source": [
        "df_analise = df"
      ],
      "metadata": {
        "id": "FY-MeT5KIR7Q"
      },
      "execution_count": 5,
      "outputs": []
    },
    {
      "cell_type": "code",
      "source": [
        "df_analise = df_analise.replace(change)\n",
        "df_analise.head()"
      ],
      "metadata": {
        "colab": {
          "base_uri": "https://localhost:8080/",
          "height": 332
        },
        "id": "yi54Vq0aIUo_",
        "outputId": "6ccefee2-7a11-4daf-b859-fa4e490db883"
      },
      "execution_count": 6,
      "outputs": [
        {
          "output_type": "execute_result",
          "data": {
            "text/plain": [
              "   class  cap-shape  cap-surface  cap-color  bruises  odor  gill-attachment  \\\n",
              "0      1          0            1          0        1     6                0   \n",
              "1      0          0            1          3        1     4                0   \n",
              "2      0          3            1          4        1     5                0   \n",
              "3      1          0            0          4        1     6                0   \n",
              "4      0          0            1          1        0     0                0   \n",
              "\n",
              "   gill-spacing  gill-size  gill-color  ...  stalk-surface-below-ring  \\\n",
              "0             0          1           7  ...                         0   \n",
              "1             0          0           7  ...                         0   \n",
              "2             0          0           3  ...                         0   \n",
              "3             0          1           3  ...                         0   \n",
              "4             1          0           7  ...                         0   \n",
              "\n",
              "   stalk-color-above-ring  stalk-color-below-ring  veil-type  veil-color  \\\n",
              "0                       0                       0          0           0   \n",
              "1                       0                       0          0           0   \n",
              "2                       0                       0          0           0   \n",
              "3                       0                       0          0           0   \n",
              "4                       0                       0          0           0   \n",
              "\n",
              "   ring-number  ring-type  spore-print-color  population  habitat  \n",
              "0            0          0                  2           2        4  \n",
              "1            0          0                  1           3        1  \n",
              "2            0          0                  1           3        5  \n",
              "3            0          0                  2           2        4  \n",
              "4            0          1                  1           4        1  \n",
              "\n",
              "[5 rows x 23 columns]"
            ],
            "text/html": [
              "\n",
              "  <div id=\"df-1f52eaba-e167-4779-89b8-673a5a37f3ff\">\n",
              "    <div class=\"colab-df-container\">\n",
              "      <div>\n",
              "<style scoped>\n",
              "    .dataframe tbody tr th:only-of-type {\n",
              "        vertical-align: middle;\n",
              "    }\n",
              "\n",
              "    .dataframe tbody tr th {\n",
              "        vertical-align: top;\n",
              "    }\n",
              "\n",
              "    .dataframe thead th {\n",
              "        text-align: right;\n",
              "    }\n",
              "</style>\n",
              "<table border=\"1\" class=\"dataframe\">\n",
              "  <thead>\n",
              "    <tr style=\"text-align: right;\">\n",
              "      <th></th>\n",
              "      <th>class</th>\n",
              "      <th>cap-shape</th>\n",
              "      <th>cap-surface</th>\n",
              "      <th>cap-color</th>\n",
              "      <th>bruises</th>\n",
              "      <th>odor</th>\n",
              "      <th>gill-attachment</th>\n",
              "      <th>gill-spacing</th>\n",
              "      <th>gill-size</th>\n",
              "      <th>gill-color</th>\n",
              "      <th>...</th>\n",
              "      <th>stalk-surface-below-ring</th>\n",
              "      <th>stalk-color-above-ring</th>\n",
              "      <th>stalk-color-below-ring</th>\n",
              "      <th>veil-type</th>\n",
              "      <th>veil-color</th>\n",
              "      <th>ring-number</th>\n",
              "      <th>ring-type</th>\n",
              "      <th>spore-print-color</th>\n",
              "      <th>population</th>\n",
              "      <th>habitat</th>\n",
              "    </tr>\n",
              "  </thead>\n",
              "  <tbody>\n",
              "    <tr>\n",
              "      <th>0</th>\n",
              "      <td>1</td>\n",
              "      <td>0</td>\n",
              "      <td>1</td>\n",
              "      <td>0</td>\n",
              "      <td>1</td>\n",
              "      <td>6</td>\n",
              "      <td>0</td>\n",
              "      <td>0</td>\n",
              "      <td>1</td>\n",
              "      <td>7</td>\n",
              "      <td>...</td>\n",
              "      <td>0</td>\n",
              "      <td>0</td>\n",
              "      <td>0</td>\n",
              "      <td>0</td>\n",
              "      <td>0</td>\n",
              "      <td>0</td>\n",
              "      <td>0</td>\n",
              "      <td>2</td>\n",
              "      <td>2</td>\n",
              "      <td>4</td>\n",
              "    </tr>\n",
              "    <tr>\n",
              "      <th>1</th>\n",
              "      <td>0</td>\n",
              "      <td>0</td>\n",
              "      <td>1</td>\n",
              "      <td>3</td>\n",
              "      <td>1</td>\n",
              "      <td>4</td>\n",
              "      <td>0</td>\n",
              "      <td>0</td>\n",
              "      <td>0</td>\n",
              "      <td>7</td>\n",
              "      <td>...</td>\n",
              "      <td>0</td>\n",
              "      <td>0</td>\n",
              "      <td>0</td>\n",
              "      <td>0</td>\n",
              "      <td>0</td>\n",
              "      <td>0</td>\n",
              "      <td>0</td>\n",
              "      <td>1</td>\n",
              "      <td>3</td>\n",
              "      <td>1</td>\n",
              "    </tr>\n",
              "    <tr>\n",
              "      <th>2</th>\n",
              "      <td>0</td>\n",
              "      <td>3</td>\n",
              "      <td>1</td>\n",
              "      <td>4</td>\n",
              "      <td>1</td>\n",
              "      <td>5</td>\n",
              "      <td>0</td>\n",
              "      <td>0</td>\n",
              "      <td>0</td>\n",
              "      <td>3</td>\n",
              "      <td>...</td>\n",
              "      <td>0</td>\n",
              "      <td>0</td>\n",
              "      <td>0</td>\n",
              "      <td>0</td>\n",
              "      <td>0</td>\n",
              "      <td>0</td>\n",
              "      <td>0</td>\n",
              "      <td>1</td>\n",
              "      <td>3</td>\n",
              "      <td>5</td>\n",
              "    </tr>\n",
              "    <tr>\n",
              "      <th>3</th>\n",
              "      <td>1</td>\n",
              "      <td>0</td>\n",
              "      <td>0</td>\n",
              "      <td>4</td>\n",
              "      <td>1</td>\n",
              "      <td>6</td>\n",
              "      <td>0</td>\n",
              "      <td>0</td>\n",
              "      <td>1</td>\n",
              "      <td>3</td>\n",
              "      <td>...</td>\n",
              "      <td>0</td>\n",
              "      <td>0</td>\n",
              "      <td>0</td>\n",
              "      <td>0</td>\n",
              "      <td>0</td>\n",
              "      <td>0</td>\n",
              "      <td>0</td>\n",
              "      <td>2</td>\n",
              "      <td>2</td>\n",
              "      <td>4</td>\n",
              "    </tr>\n",
              "    <tr>\n",
              "      <th>4</th>\n",
              "      <td>0</td>\n",
              "      <td>0</td>\n",
              "      <td>1</td>\n",
              "      <td>1</td>\n",
              "      <td>0</td>\n",
              "      <td>0</td>\n",
              "      <td>0</td>\n",
              "      <td>1</td>\n",
              "      <td>0</td>\n",
              "      <td>7</td>\n",
              "      <td>...</td>\n",
              "      <td>0</td>\n",
              "      <td>0</td>\n",
              "      <td>0</td>\n",
              "      <td>0</td>\n",
              "      <td>0</td>\n",
              "      <td>0</td>\n",
              "      <td>1</td>\n",
              "      <td>1</td>\n",
              "      <td>4</td>\n",
              "      <td>1</td>\n",
              "    </tr>\n",
              "  </tbody>\n",
              "</table>\n",
              "<p>5 rows × 23 columns</p>\n",
              "</div>\n",
              "      <button class=\"colab-df-convert\" onclick=\"convertToInteractive('df-1f52eaba-e167-4779-89b8-673a5a37f3ff')\"\n",
              "              title=\"Convert this dataframe to an interactive table.\"\n",
              "              style=\"display:none;\">\n",
              "        \n",
              "  <svg xmlns=\"http://www.w3.org/2000/svg\" height=\"24px\"viewBox=\"0 0 24 24\"\n",
              "       width=\"24px\">\n",
              "    <path d=\"M0 0h24v24H0V0z\" fill=\"none\"/>\n",
              "    <path d=\"M18.56 5.44l.94 2.06.94-2.06 2.06-.94-2.06-.94-.94-2.06-.94 2.06-2.06.94zm-11 1L8.5 8.5l.94-2.06 2.06-.94-2.06-.94L8.5 2.5l-.94 2.06-2.06.94zm10 10l.94 2.06.94-2.06 2.06-.94-2.06-.94-.94-2.06-.94 2.06-2.06.94z\"/><path d=\"M17.41 7.96l-1.37-1.37c-.4-.4-.92-.59-1.43-.59-.52 0-1.04.2-1.43.59L10.3 9.45l-7.72 7.72c-.78.78-.78 2.05 0 2.83L4 21.41c.39.39.9.59 1.41.59.51 0 1.02-.2 1.41-.59l7.78-7.78 2.81-2.81c.8-.78.8-2.07 0-2.86zM5.41 20L4 18.59l7.72-7.72 1.47 1.35L5.41 20z\"/>\n",
              "  </svg>\n",
              "      </button>\n",
              "      \n",
              "  <style>\n",
              "    .colab-df-container {\n",
              "      display:flex;\n",
              "      flex-wrap:wrap;\n",
              "      gap: 12px;\n",
              "    }\n",
              "\n",
              "    .colab-df-convert {\n",
              "      background-color: #E8F0FE;\n",
              "      border: none;\n",
              "      border-radius: 50%;\n",
              "      cursor: pointer;\n",
              "      display: none;\n",
              "      fill: #1967D2;\n",
              "      height: 32px;\n",
              "      padding: 0 0 0 0;\n",
              "      width: 32px;\n",
              "    }\n",
              "\n",
              "    .colab-df-convert:hover {\n",
              "      background-color: #E2EBFA;\n",
              "      box-shadow: 0px 1px 2px rgba(60, 64, 67, 0.3), 0px 1px 3px 1px rgba(60, 64, 67, 0.15);\n",
              "      fill: #174EA6;\n",
              "    }\n",
              "\n",
              "    [theme=dark] .colab-df-convert {\n",
              "      background-color: #3B4455;\n",
              "      fill: #D2E3FC;\n",
              "    }\n",
              "\n",
              "    [theme=dark] .colab-df-convert:hover {\n",
              "      background-color: #434B5C;\n",
              "      box-shadow: 0px 1px 3px 1px rgba(0, 0, 0, 0.15);\n",
              "      filter: drop-shadow(0px 1px 2px rgba(0, 0, 0, 0.3));\n",
              "      fill: #FFFFFF;\n",
              "    }\n",
              "  </style>\n",
              "\n",
              "      <script>\n",
              "        const buttonEl =\n",
              "          document.querySelector('#df-1f52eaba-e167-4779-89b8-673a5a37f3ff button.colab-df-convert');\n",
              "        buttonEl.style.display =\n",
              "          google.colab.kernel.accessAllowed ? 'block' : 'none';\n",
              "\n",
              "        async function convertToInteractive(key) {\n",
              "          const element = document.querySelector('#df-1f52eaba-e167-4779-89b8-673a5a37f3ff');\n",
              "          const dataTable =\n",
              "            await google.colab.kernel.invokeFunction('convertToInteractive',\n",
              "                                                     [key], {});\n",
              "          if (!dataTable) return;\n",
              "\n",
              "          const docLinkHtml = 'Like what you see? Visit the ' +\n",
              "            '<a target=\"_blank\" href=https://colab.research.google.com/notebooks/data_table.ipynb>data table notebook</a>'\n",
              "            + ' to learn more about interactive tables.';\n",
              "          element.innerHTML = '';\n",
              "          dataTable['output_type'] = 'display_data';\n",
              "          await google.colab.output.renderOutput(dataTable, element);\n",
              "          const docLink = document.createElement('div');\n",
              "          docLink.innerHTML = docLinkHtml;\n",
              "          element.appendChild(docLink);\n",
              "        }\n",
              "      </script>\n",
              "    </div>\n",
              "  </div>\n",
              "  "
            ]
          },
          "metadata": {},
          "execution_count": 6
        }
      ]
    },
    {
      "cell_type": "markdown",
      "source": [
        "Deu certinho, o negócio agora é lembrar que que é cada número."
      ],
      "metadata": {
        "id": "m9zzlQGDKYaC"
      }
    },
    {
      "cell_type": "code",
      "source": [
        "df_analise.info()"
      ],
      "metadata": {
        "colab": {
          "base_uri": "https://localhost:8080/"
        },
        "id": "QVclkD9XIdp8",
        "outputId": "fd10375b-73f1-454a-a501-a7e433510a79"
      },
      "execution_count": 15,
      "outputs": [
        {
          "output_type": "stream",
          "name": "stdout",
          "text": [
            "<class 'pandas.core.frame.DataFrame'>\n",
            "RangeIndex: 8124 entries, 0 to 8123\n",
            "Data columns (total 23 columns):\n",
            " #   Column                    Non-Null Count  Dtype\n",
            "---  ------                    --------------  -----\n",
            " 0   class                     8124 non-null   int64\n",
            " 1   cap-shape                 8124 non-null   int64\n",
            " 2   cap-surface               8124 non-null   int64\n",
            " 3   cap-color                 8124 non-null   int64\n",
            " 4   bruises                   8124 non-null   int64\n",
            " 5   odor                      8124 non-null   int64\n",
            " 6   gill-attachment           8124 non-null   int64\n",
            " 7   gill-spacing              8124 non-null   int64\n",
            " 8   gill-size                 8124 non-null   int64\n",
            " 9   gill-color                8124 non-null   int64\n",
            " 10  stalk-shape               8124 non-null   int64\n",
            " 11  stalk-root                8124 non-null   int64\n",
            " 12  stalk-surface-above-ring  8124 non-null   int64\n",
            " 13  stalk-surface-below-ring  8124 non-null   int64\n",
            " 14  stalk-color-above-ring    8124 non-null   int64\n",
            " 15  stalk-color-below-ring    8124 non-null   int64\n",
            " 16  veil-type                 8124 non-null   int64\n",
            " 17  veil-color                8124 non-null   int64\n",
            " 18  ring-number               8124 non-null   int64\n",
            " 19  ring-type                 8124 non-null   int64\n",
            " 20  spore-print-color         8124 non-null   int64\n",
            " 21  population                8124 non-null   int64\n",
            " 22  habitat                   8124 non-null   int64\n",
            "dtypes: int64(23)\n",
            "memory usage: 1.4 MB\n"
          ]
        }
      ]
    },
    {
      "cell_type": "code",
      "source": [
        "fig = px.histogram(df_analise, x=\"population\", y=\"class\", color=\"class\",\n",
        "            barmode='group', histfunc='count', \n",
        "             height=400)\n",
        "fig.show(renderer=\"png\")"
      ],
      "metadata": {
        "colab": {
          "base_uri": "https://localhost:8080/",
          "height": 417
        },
        "id": "NSv_E9CVSWrW",
        "outputId": "1af4399a-d002-47ae-bd72-8d384b8d9aa5"
      },
      "execution_count": 7,
      "outputs": [
        {
          "output_type": "display_data",
          "data": {
            "image/png": "[encoded data removed]"
          },
          "metadata": {}
        }
      ]
    },
    {
      "cell_type": "code",
      "source": [
        "fig = px.histogram(df, x=\"population\", y=\"class\", color=\"class\",\n",
        "            barmode='group', histfunc='count', \n",
        "             height=400)\n",
        "fig.show(renderer=\"png\")\n",
        "#fig.show()"
      ],
      "metadata": {
        "colab": {
          "base_uri": "https://localhost:8080/",
          "height": 417
        },
        "id": "pisrl-VYLc3y",
        "outputId": "9baeb647-4ef7-4662-a5a7-6d43b2c9b4eb"
      },
      "execution_count": 13,
      "outputs": [
        {
          "output_type": "display_data",
          "data": {
            "image/png": "[encoded data removed]"
          },
          "metadata": {}
        }
      ]
    },
    {
      "cell_type": "markdown",
      "source": [
        "Acho que não precisava ter passado as informações para valores numéricos para plotar os gráficos, então plotar com as letras e se der problema, uso o df_analise que tem os números. "
      ],
      "metadata": {
        "id": "YyYt8RkhLjlE"
      }
    },
    {
      "cell_type": "markdown",
      "source": [
        "Apenas para lembrar:\n",
        "\n",
        "poisonous: p, edible: e\n",
        "population: abundant=a,clustered=c,numerous=n,scattered=s,several=v,solitary=y\n",
        "\n",
        "Com o gráfico acima podemos observar que dentre os cogumelos, os que tendem a ser venenosos são os que apresentam população v, several. Com relação a todas as outras população, a chance do cogumelo ser comestível é maior, mas não vale o risco. Populações numerous (n) e abundant (a) não tem cogumelos venenosos. \n",
        "\n",
        "Cogumelos s, scattered, tem 29.49% de chance de ser venenosos. Dos 1248 exemplares, 368 são venenosos e o resto comestível. Quando usamos o ploty sem mudar o formato, podemos ver esses valores apenas ao colocar o mouse em cime da imagem.\n",
        "\n",
        "Com relação a cogumelos de população y, solitary, sabemos que a chance de um cogumelo dessa população ser venenoso é de 37.85%.\n",
        "\n",
        "\n",
        "Aqui estamos comparando dentro das populações de cogumelo a chance daquele ser comestível ou venenoso com um gráfico de barras.\n",
        "\n",
        "Vamos ver em relação ao habitat:"
      ],
      "metadata": {
        "id": "nJ7dNV_BTGyo"
      }
    },
    {
      "cell_type": "code",
      "source": [
        "fig = px.histogram(df, x=\"habitat\", y=\"class\", color=\"class\",\n",
        "            barmode='group', histfunc='count',\n",
        "             height=400)\n",
        "fig.show(renderer=\"png\")"
      ],
      "metadata": {
        "colab": {
          "base_uri": "https://localhost:8080/",
          "height": 417
        },
        "id": "SsiZ1KHkU1hy",
        "outputId": "f6219db5-0252-47a1-8e9a-65dc53972404"
      },
      "execution_count": 10,
      "outputs": [
        {
          "output_type": "display_data",
          "data": {
            "image/png": "[encoded data removed]"
          },
          "metadata": {}
        }
      ]
    },
    {
      "cell_type": "markdown",
      "source": [
        "Colinha:\n",
        "\n",
        "habitat: grasses=g,leaves=l,meadows=m,paths=p,urban=u,waste=w,woods=d\n",
        "\n",
        "Com relação ao habitat dos cogumelos, observamos que os venenosos se encontram principalmente em florestas (woods), caminhos (paths) e jardins (grasses). Ainda assim, a probabilidade de um cogumelo nessas áreas ser comestível é maior, com exceção de \"caminhos\", que a grande maioria dos cogumelos é venenosa.\n",
        "\n",
        "Nos lixos (w), não crescem cogumelos nocivos à saúde.\n",
        "\n",
        "Não existem cogumelos venenosos em lixões (waste)."
      ],
      "metadata": {
        "id": "M6jVRS6wXXib"
      }
    },
    {
      "cell_type": "code",
      "source": [
        "fig = px.histogram(df, x=\"cap-color\", y=\"class\", color=\"class\",\n",
        "            barmode='group', histfunc='count',\n",
        "             height=400)\n",
        "fig.show(renderer=\"png\")"
      ],
      "metadata": {
        "colab": {
          "base_uri": "https://localhost:8080/",
          "height": 417
        },
        "id": "cXxu3V9UY4RR",
        "outputId": "e9a06bb0-9de1-415d-aedb-93bbf6c65049"
      },
      "execution_count": 14,
      "outputs": [
        {
          "output_type": "display_data",
          "data": {
            "image/png": "[encoded data removed]"
          },
          "metadata": {}
        }
      ]
    },
    {
      "cell_type": "markdown",
      "source": [
        "Para nos ajudar:\n",
        "\n",
        "cap-color: brown=n,buff=b,cinnamon=c,gray=g,green=r,pink=p,purple=u,red=e,white=w,yellow=y\n",
        "\n",
        "Quando analisamos as cores da cabeça dos cogumelos, podemos obervar que se um cogumelo é vermelho (e), as chances dele ser venenoso é mais alta da chance dele ser comestível. O mesmo vale para cogumelos de cor amarelos (y), amarelados (b) e rosas (p). \n",
        "\n",
        "Em compensação, cogumelos roxos (u) e verdes (r) são sempre comestíveis e cogumelos marrons (n), brancos (w), cinzas (g) e canela (c) tem mais exemplares comestíveis do que não, mas acho que não vale o risco também. Ou seja, na prática, se encontrar um cogumelo marrom e não souber se come ou não, terá de olhar outras características físicas do cogumelo para definir (como sua população e habitat por exemplo). Assim, como sabemos que não crescem cogumelos venenosos em lixos, se o cogumelo marrom estiver crescendo no lixo, ele será comestível.\n",
        "\n",
        "Assim que começamos a usar das análises passadas e já feitas para ir ligando os pontinhos.\n",
        "\n",
        "Vamos agora ver quanto ao cheiro:"
      ],
      "metadata": {
        "id": "M6Yn80uqZGR2"
      }
    },
    {
      "cell_type": "code",
      "source": [
        "fig = px.histogram(df, x=\"odor\", y=\"class\", color=\"class\",\n",
        "            barmode='group', histfunc='count',\n",
        "             height=400)\n",
        "fig.show(renderer=\"png\")"
      ],
      "metadata": {
        "colab": {
          "base_uri": "https://localhost:8080/",
          "height": 417
        },
        "id": "gpCpf_8IZA_X",
        "outputId": "4147d08a-41ff-4cb8-f9d9-abbe46eb5cf6"
      },
      "execution_count": 15,
      "outputs": [
        {
          "output_type": "display_data",
          "data": {
            "image/png": "[encoded data removed]"
          },
          "metadata": {}
        }
      ]
    },
    {
      "cell_type": "markdown",
      "source": [
        "odor: almond=a,anise=l,creosote=c,fishy=y,foul=f,musty=m,none=n,pungent=p,spicy=s\n",
        "\n",
        "Ao analisarmos o cheiro (odor) de cogumelos, comparando venenosos e comestíveis, podemos perceber que cogumelos sem cheiro algum geralmente são comestíveis, mas há exceções. Além disso, cogumelos com odor \"almond\" e \"anise\" sempre serão comestíveis. \n",
        "\n",
        "O que se pode entender desse gráfico, de forma simplificada, é que qualquer cogumelo que apresente cheiro, por via das dúvidas, é melhor não ingerir. Isso porquê cogumelos com cheiro \"creosote\", \"fishy\", \"foul\", \"musty\" ou \"pungent\" são sempre venenosos.\n"
      ],
      "metadata": {
        "id": "LQTD2Ql5Z7xp"
      }
    },
    {
      "cell_type": "code",
      "source": [
        "fig = px.histogram(df.query(\"`class`== 'p'\"), x=\"stalk-root\", y=\"class\", color=\"stalk-shape\",\n",
        "                   marginal=\"box\",  histfunc='count',\n",
        "                   hover_data=df.columns)\n",
        "fig.show(renderer=\"png\")\n",
        "#fig.show()"
      ],
      "metadata": {
        "colab": {
          "base_uri": "https://localhost:8080/",
          "height": 517
        },
        "id": "HIcVwIGedH83",
        "outputId": "2420c8c0-a725-436c-b090-963d183a09ff"
      },
      "execution_count": 24,
      "outputs": [
        {
          "output_type": "display_data",
          "data": {
            "image/png": "[encoded data removed]"
          },
          "metadata": {}
        }
      ]
    },
    {
      "cell_type": "markdown",
      "source": [
        "Esse gráfico de distribuição parece complexo a primeira vista, mas vamos entendê-lo:\n",
        "\n",
        "stalk-root: bulbous=b,club=c,cup=u,equal=e,rhizomorphs=z,rooted=r,missing=?\n",
        "\n",
        "No eixo X temos o atributo \"stalk-root\", a forma da raiz, podendo assumir os valores e (equal), ? (sem informação a respeito - missing), b (bulbous), c (club) e z (rhizomorphs).\n",
        "No eixo Y temos a contagem da classe, ou seja, quantos exemplares com aquela característica temos. \n",
        "\n",
        "Por fim temos a diferenciação entre cores usando o atributo \"stalk-shape\", que é a forma do talo, que pode assumir t (tapering) ou e (enlarging).\n",
        "\n",
        "Dessa forma, como estamos plotando apenas cogumelos venenosos, observamos que as duas principais combinações de talo e raiz para que um cogumelo seja venenoso são formato \"enlarging\" e raiz \"bulbous\" e formato \"tapering\" (1) e qualquer raiz (não há informação). \n",
        "\n",
        "Não foram conclusões muito iluminadoras. \n",
        "\n",
        "Vamos seguir."
      ],
      "metadata": {
        "id": "x8AksBQJexki"
      }
    },
    {
      "cell_type": "code",
      "source": [
        "fig = px.box(df, x=\"class\", y=\"spore-print-color\")\n",
        "fig.show(renderer=\"png\")\n",
        "#fig.show()"
      ],
      "metadata": {
        "colab": {
          "base_uri": "https://localhost:8080/",
          "height": 517
        },
        "id": "AhfzBEYfKSAI",
        "outputId": "3e1b5fc8-f767-4329-e295-f81a64799d46"
      },
      "execution_count": 28,
      "outputs": [
        {
          "output_type": "display_data",
          "data": {
            "image/png": "[encoded data removed]"
          },
          "metadata": {}
        }
      ]
    },
    {
      "cell_type": "markdown",
      "source": [
        "spore-print-color: black=k,brown=n,buff=b,chocolate=h,green=r,orange=o,purple=u,white=w,yellow=y\n",
        "\n",
        "Esse gráfico já ajuda mais. Com esse boxplot observamos que cogumelos comestíveis apresentam maior variação nas cores dos esporos (spore-print-color)e costumam ter esporos marrons (n) e pretos (k). \n",
        "\n",
        "Já cogumelos venenosos.], costumam ter seus esporos cor de chocolate e brancos, mas podendo ter outras cores também.\n",
        "\n",
        "O que dá para dar de certeza é que se um cogumelo tem seus esporos cor roxa, laranja, amarela ou amarelada ele com certeza é comestível. Em compensação, se a cor é verde, é com certeza venenoso."
      ],
      "metadata": {
        "id": "Z06NnlkKhpef"
      }
    },
    {
      "cell_type": "code",
      "source": [
        "import plotly.express as px\n",
        "fig = px.pie(df_analise, values='class', names='bruises', title='Hematomas em cogumelos', \n",
        "             color_discrete_sequence=px.colors.sequential.RdBu)\n",
        "fig.show(renderer=\"png\")"
      ],
      "metadata": {
        "colab": {
          "base_uri": "https://localhost:8080/",
          "height": 517
        },
        "id": "nyRp2K0yIkxe",
        "outputId": "dcdeda1b-7baa-45e3-c8f2-cea6ae37a4c6"
      },
      "execution_count": 31,
      "outputs": [
        {
          "output_type": "display_data",
          "data": {
            "image/png": "[encoded data removed]"
          },
          "metadata": {}
        }
      ]
    },
    {
      "cell_type": "markdown",
      "source": [
        "Aqui, os números se fizeram úteis e podemos observar que a maioria dos cogumelos comestíveis apresentam hematomas (machucados), enquanto que cogumelos mais conservados costumam ser venenosos. \n",
        "Interessante."
      ],
      "metadata": {
        "id": "GrsWxVcKjCsK"
      }
    },
    {
      "cell_type": "markdown",
      "source": [
        "Bom, realizamos diversas análises e já podemos observar que cogumelos venenosos costumam ter características pecualiares. Vamos obervar quais seriam os atributos mais impactantes para essa decisão.\n",
        "\n",
        "Para isso, vamos realizar o one-hot-enconding no dataset original (criando um novo) e observar a correlação."
      ],
      "metadata": {
        "id": "L12AEsSwpsO3"
      }
    },
    {
      "cell_type": "code",
      "source": [
        "df['class'].replace({\"p\": 1, \"e\": 0}, inplace=True)"
      ],
      "metadata": {
        "id": "Z3kMxODBr8jQ"
      },
      "execution_count": 32,
      "outputs": []
    },
    {
      "cell_type": "code",
      "source": [
        "df.head()"
      ],
      "metadata": {
        "colab": {
          "base_uri": "https://localhost:8080/",
          "height": 332
        },
        "id": "--v9o8AIs3Ow",
        "outputId": "40ec3a4f-c36d-4021-9b3c-1762f3ebf060"
      },
      "execution_count": 33,
      "outputs": [
        {
          "output_type": "execute_result",
          "data": {
            "text/plain": [
              "   class cap-shape cap-surface cap-color bruises odor gill-attachment  \\\n",
              "0      1         x           s         n       t    p               f   \n",
              "1      0         x           s         y       t    a               f   \n",
              "2      0         b           s         w       t    l               f   \n",
              "3      1         x           y         w       t    p               f   \n",
              "4      0         x           s         g       f    n               f   \n",
              "\n",
              "  gill-spacing gill-size gill-color  ... stalk-surface-below-ring  \\\n",
              "0            c         n          k  ...                        s   \n",
              "1            c         b          k  ...                        s   \n",
              "2            c         b          n  ...                        s   \n",
              "3            c         n          n  ...                        s   \n",
              "4            w         b          k  ...                        s   \n",
              "\n",
              "  stalk-color-above-ring stalk-color-below-ring veil-type veil-color  \\\n",
              "0                      w                      w         p          w   \n",
              "1                      w                      w         p          w   \n",
              "2                      w                      w         p          w   \n",
              "3                      w                      w         p          w   \n",
              "4                      w                      w         p          w   \n",
              "\n",
              "  ring-number ring-type spore-print-color population habitat  \n",
              "0           o         p                 k          s       u  \n",
              "1           o         p                 n          n       g  \n",
              "2           o         p                 n          n       m  \n",
              "3           o         p                 k          s       u  \n",
              "4           o         e                 n          a       g  \n",
              "\n",
              "[5 rows x 23 columns]"
            ],
            "text/html": [
              "\n",
              "  <div id=\"df-7407e69b-d152-4032-ae4f-976746939ede\">\n",
              "    <div class=\"colab-df-container\">\n",
              "      <div>\n",
              "<style scoped>\n",
              "    .dataframe tbody tr th:only-of-type {\n",
              "        vertical-align: middle;\n",
              "    }\n",
              "\n",
              "    .dataframe tbody tr th {\n",
              "        vertical-align: top;\n",
              "    }\n",
              "\n",
              "    .dataframe thead th {\n",
              "        text-align: right;\n",
              "    }\n",
              "</style>\n",
              "<table border=\"1\" class=\"dataframe\">\n",
              "  <thead>\n",
              "    <tr style=\"text-align: right;\">\n",
              "      <th></th>\n",
              "      <th>class</th>\n",
              "      <th>cap-shape</th>\n",
              "      <th>cap-surface</th>\n",
              "      <th>cap-color</th>\n",
              "      <th>bruises</th>\n",
              "      <th>odor</th>\n",
              "      <th>gill-attachment</th>\n",
              "      <th>gill-spacing</th>\n",
              "      <th>gill-size</th>\n",
              "      <th>gill-color</th>\n",
              "      <th>...</th>\n",
              "      <th>stalk-surface-below-ring</th>\n",
              "      <th>stalk-color-above-ring</th>\n",
              "      <th>stalk-color-below-ring</th>\n",
              "      <th>veil-type</th>\n",
              "      <th>veil-color</th>\n",
              "      <th>ring-number</th>\n",
              "      <th>ring-type</th>\n",
              "      <th>spore-print-color</th>\n",
              "      <th>population</th>\n",
              "      <th>habitat</th>\n",
              "    </tr>\n",
              "  </thead>\n",
              "  <tbody>\n",
              "    <tr>\n",
              "      <th>0</th>\n",
              "      <td>1</td>\n",
              "      <td>x</td>\n",
              "      <td>s</td>\n",
              "      <td>n</td>\n",
              "      <td>t</td>\n",
              "      <td>p</td>\n",
              "      <td>f</td>\n",
              "      <td>c</td>\n",
              "      <td>n</td>\n",
              "      <td>k</td>\n",
              "      <td>...</td>\n",
              "      <td>s</td>\n",
              "      <td>w</td>\n",
              "      <td>w</td>\n",
              "      <td>p</td>\n",
              "      <td>w</td>\n",
              "      <td>o</td>\n",
              "      <td>p</td>\n",
              "      <td>k</td>\n",
              "      <td>s</td>\n",
              "      <td>u</td>\n",
              "    </tr>\n",
              "    <tr>\n",
              "      <th>1</th>\n",
              "      <td>0</td>\n",
              "      <td>x</td>\n",
              "      <td>s</td>\n",
              "      <td>y</td>\n",
              "      <td>t</td>\n",
              "      <td>a</td>\n",
              "      <td>f</td>\n",
              "      <td>c</td>\n",
              "      <td>b</td>\n",
              "      <td>k</td>\n",
              "      <td>...</td>\n",
              "      <td>s</td>\n",
              "      <td>w</td>\n",
              "      <td>w</td>\n",
              "      <td>p</td>\n",
              "      <td>w</td>\n",
              "      <td>o</td>\n",
              "      <td>p</td>\n",
              "      <td>n</td>\n",
              "      <td>n</td>\n",
              "      <td>g</td>\n",
              "    </tr>\n",
              "    <tr>\n",
              "      <th>2</th>\n",
              "      <td>0</td>\n",
              "      <td>b</td>\n",
              "      <td>s</td>\n",
              "      <td>w</td>\n",
              "      <td>t</td>\n",
              "      <td>l</td>\n",
              "      <td>f</td>\n",
              "      <td>c</td>\n",
              "      <td>b</td>\n",
              "      <td>n</td>\n",
              "      <td>...</td>\n",
              "      <td>s</td>\n",
              "      <td>w</td>\n",
              "      <td>w</td>\n",
              "      <td>p</td>\n",
              "      <td>w</td>\n",
              "      <td>o</td>\n",
              "      <td>p</td>\n",
              "      <td>n</td>\n",
              "      <td>n</td>\n",
              "      <td>m</td>\n",
              "    </tr>\n",
              "    <tr>\n",
              "      <th>3</th>\n",
              "      <td>1</td>\n",
              "      <td>x</td>\n",
              "      <td>y</td>\n",
              "      <td>w</td>\n",
              "      <td>t</td>\n",
              "      <td>p</td>\n",
              "      <td>f</td>\n",
              "      <td>c</td>\n",
              "      <td>n</td>\n",
              "      <td>n</td>\n",
              "      <td>...</td>\n",
              "      <td>s</td>\n",
              "      <td>w</td>\n",
              "      <td>w</td>\n",
              "      <td>p</td>\n",
              "      <td>w</td>\n",
              "      <td>o</td>\n",
              "      <td>p</td>\n",
              "      <td>k</td>\n",
              "      <td>s</td>\n",
              "      <td>u</td>\n",
              "    </tr>\n",
              "    <tr>\n",
              "      <th>4</th>\n",
              "      <td>0</td>\n",
              "      <td>x</td>\n",
              "      <td>s</td>\n",
              "      <td>g</td>\n",
              "      <td>f</td>\n",
              "      <td>n</td>\n",
              "      <td>f</td>\n",
              "      <td>w</td>\n",
              "      <td>b</td>\n",
              "      <td>k</td>\n",
              "      <td>...</td>\n",
              "      <td>s</td>\n",
              "      <td>w</td>\n",
              "      <td>w</td>\n",
              "      <td>p</td>\n",
              "      <td>w</td>\n",
              "      <td>o</td>\n",
              "      <td>e</td>\n",
              "      <td>n</td>\n",
              "      <td>a</td>\n",
              "      <td>g</td>\n",
              "    </tr>\n",
              "  </tbody>\n",
              "</table>\n",
              "<p>5 rows × 23 columns</p>\n",
              "</div>\n",
              "      <button class=\"colab-df-convert\" onclick=\"convertToInteractive('df-7407e69b-d152-4032-ae4f-976746939ede')\"\n",
              "              title=\"Convert this dataframe to an interactive table.\"\n",
              "              style=\"display:none;\">\n",
              "        \n",
              "  <svg xmlns=\"http://www.w3.org/2000/svg\" height=\"24px\"viewBox=\"0 0 24 24\"\n",
              "       width=\"24px\">\n",
              "    <path d=\"M0 0h24v24H0V0z\" fill=\"none\"/>\n",
              "    <path d=\"M18.56 5.44l.94 2.06.94-2.06 2.06-.94-2.06-.94-.94-2.06-.94 2.06-2.06.94zm-11 1L8.5 8.5l.94-2.06 2.06-.94-2.06-.94L8.5 2.5l-.94 2.06-2.06.94zm10 10l.94 2.06.94-2.06 2.06-.94-2.06-.94-.94-2.06-.94 2.06-2.06.94z\"/><path d=\"M17.41 7.96l-1.37-1.37c-.4-.4-.92-.59-1.43-.59-.52 0-1.04.2-1.43.59L10.3 9.45l-7.72 7.72c-.78.78-.78 2.05 0 2.83L4 21.41c.39.39.9.59 1.41.59.51 0 1.02-.2 1.41-.59l7.78-7.78 2.81-2.81c.8-.78.8-2.07 0-2.86zM5.41 20L4 18.59l7.72-7.72 1.47 1.35L5.41 20z\"/>\n",
              "  </svg>\n",
              "      </button>\n",
              "      \n",
              "  <style>\n",
              "    .colab-df-container {\n",
              "      display:flex;\n",
              "      flex-wrap:wrap;\n",
              "      gap: 12px;\n",
              "    }\n",
              "\n",
              "    .colab-df-convert {\n",
              "      background-color: #E8F0FE;\n",
              "      border: none;\n",
              "      border-radius: 50%;\n",
              "      cursor: pointer;\n",
              "      display: none;\n",
              "      fill: #1967D2;\n",
              "      height: 32px;\n",
              "      padding: 0 0 0 0;\n",
              "      width: 32px;\n",
              "    }\n",
              "\n",
              "    .colab-df-convert:hover {\n",
              "      background-color: #E2EBFA;\n",
              "      box-shadow: 0px 1px 2px rgba(60, 64, 67, 0.3), 0px 1px 3px 1px rgba(60, 64, 67, 0.15);\n",
              "      fill: #174EA6;\n",
              "    }\n",
              "\n",
              "    [theme=dark] .colab-df-convert {\n",
              "      background-color: #3B4455;\n",
              "      fill: #D2E3FC;\n",
              "    }\n",
              "\n",
              "    [theme=dark] .colab-df-convert:hover {\n",
              "      background-color: #434B5C;\n",
              "      box-shadow: 0px 1px 3px 1px rgba(0, 0, 0, 0.15);\n",
              "      filter: drop-shadow(0px 1px 2px rgba(0, 0, 0, 0.3));\n",
              "      fill: #FFFFFF;\n",
              "    }\n",
              "  </style>\n",
              "\n",
              "      <script>\n",
              "        const buttonEl =\n",
              "          document.querySelector('#df-7407e69b-d152-4032-ae4f-976746939ede button.colab-df-convert');\n",
              "        buttonEl.style.display =\n",
              "          google.colab.kernel.accessAllowed ? 'block' : 'none';\n",
              "\n",
              "        async function convertToInteractive(key) {\n",
              "          const element = document.querySelector('#df-7407e69b-d152-4032-ae4f-976746939ede');\n",
              "          const dataTable =\n",
              "            await google.colab.kernel.invokeFunction('convertToInteractive',\n",
              "                                                     [key], {});\n",
              "          if (!dataTable) return;\n",
              "\n",
              "          const docLinkHtml = 'Like what you see? Visit the ' +\n",
              "            '<a target=\"_blank\" href=https://colab.research.google.com/notebooks/data_table.ipynb>data table notebook</a>'\n",
              "            + ' to learn more about interactive tables.';\n",
              "          element.innerHTML = '';\n",
              "          dataTable['output_type'] = 'display_data';\n",
              "          await google.colab.output.renderOutput(dataTable, element);\n",
              "          const docLink = document.createElement('div');\n",
              "          docLink.innerHTML = docLinkHtml;\n",
              "          element.appendChild(docLink);\n",
              "        }\n",
              "      </script>\n",
              "    </div>\n",
              "  </div>\n",
              "  "
            ]
          },
          "metadata": {},
          "execution_count": 33
        }
      ]
    },
    {
      "cell_type": "markdown",
      "source": [
        "A função get_dummies() converte todas as variáveis categóricas para numéricas - ela faz o one-hot-enconding."
      ],
      "metadata": {
        "id": "2pAzZ38ka8mT"
      }
    },
    {
      "cell_type": "code",
      "source": [
        "df_model = pd.get_dummies(df)"
      ],
      "metadata": {
        "id": "mif6ntDwp_J3"
      },
      "execution_count": 34,
      "outputs": []
    },
    {
      "cell_type": "code",
      "source": [
        "df_model.head()"
      ],
      "metadata": {
        "colab": {
          "base_uri": "https://localhost:8080/",
          "height": 317
        },
        "id": "IIF3oqlGqV4f",
        "outputId": "715978d5-6625-4559-bfa6-f6988e94b10a"
      },
      "execution_count": 35,
      "outputs": [
        {
          "output_type": "execute_result",
          "data": {
            "text/plain": [
              "   class  cap-shape_b  cap-shape_c  cap-shape_f  cap-shape_k  cap-shape_s  \\\n",
              "0      1            0            0            0            0            0   \n",
              "1      0            0            0            0            0            0   \n",
              "2      0            1            0            0            0            0   \n",
              "3      1            0            0            0            0            0   \n",
              "4      0            0            0            0            0            0   \n",
              "\n",
              "   cap-shape_x  cap-surface_f  cap-surface_g  cap-surface_s  ...  \\\n",
              "0            1              0              0              1  ...   \n",
              "1            1              0              0              1  ...   \n",
              "2            0              0              0              1  ...   \n",
              "3            1              0              0              0  ...   \n",
              "4            1              0              0              1  ...   \n",
              "\n",
              "   population_s  population_v  population_y  habitat_d  habitat_g  habitat_l  \\\n",
              "0             1             0             0          0          0          0   \n",
              "1             0             0             0          0          1          0   \n",
              "2             0             0             0          0          0          0   \n",
              "3             1             0             0          0          0          0   \n",
              "4             0             0             0          0          1          0   \n",
              "\n",
              "   habitat_m  habitat_p  habitat_u  habitat_w  \n",
              "0          0          0          1          0  \n",
              "1          0          0          0          0  \n",
              "2          1          0          0          0  \n",
              "3          0          0          1          0  \n",
              "4          0          0          0          0  \n",
              "\n",
              "[5 rows x 118 columns]"
            ],
            "text/html": [
              "\n",
              "  <div id=\"df-9a1b1fcd-cdf5-4c9f-872e-f44acfbcdcae\">\n",
              "    <div class=\"colab-df-container\">\n",
              "      <div>\n",
              "<style scoped>\n",
              "    .dataframe tbody tr th:only-of-type {\n",
              "        vertical-align: middle;\n",
              "    }\n",
              "\n",
              "    .dataframe tbody tr th {\n",
              "        vertical-align: top;\n",
              "    }\n",
              "\n",
              "    .dataframe thead th {\n",
              "        text-align: right;\n",
              "    }\n",
              "</style>\n",
              "<table border=\"1\" class=\"dataframe\">\n",
              "  <thead>\n",
              "    <tr style=\"text-align: right;\">\n",
              "      <th></th>\n",
              "      <th>class</th>\n",
              "      <th>cap-shape_b</th>\n",
              "      <th>cap-shape_c</th>\n",
              "      <th>cap-shape_f</th>\n",
              "      <th>cap-shape_k</th>\n",
              "      <th>cap-shape_s</th>\n",
              "      <th>cap-shape_x</th>\n",
              "      <th>cap-surface_f</th>\n",
              "      <th>cap-surface_g</th>\n",
              "      <th>cap-surface_s</th>\n",
              "      <th>...</th>\n",
              "      <th>population_s</th>\n",
              "      <th>population_v</th>\n",
              "      <th>population_y</th>\n",
              "      <th>habitat_d</th>\n",
              "      <th>habitat_g</th>\n",
              "      <th>habitat_l</th>\n",
              "      <th>habitat_m</th>\n",
              "      <th>habitat_p</th>\n",
              "      <th>habitat_u</th>\n",
              "      <th>habitat_w</th>\n",
              "    </tr>\n",
              "  </thead>\n",
              "  <tbody>\n",
              "    <tr>\n",
              "      <th>0</th>\n",
              "      <td>1</td>\n",
              "      <td>0</td>\n",
              "      <td>0</td>\n",
              "      <td>0</td>\n",
              "      <td>0</td>\n",
              "      <td>0</td>\n",
              "      <td>1</td>\n",
              "      <td>0</td>\n",
              "      <td>0</td>\n",
              "      <td>1</td>\n",
              "      <td>...</td>\n",
              "      <td>1</td>\n",
              "      <td>0</td>\n",
              "      <td>0</td>\n",
              "      <td>0</td>\n",
              "      <td>0</td>\n",
              "      <td>0</td>\n",
              "      <td>0</td>\n",
              "      <td>0</td>\n",
              "      <td>1</td>\n",
              "      <td>0</td>\n",
              "    </tr>\n",
              "    <tr>\n",
              "      <th>1</th>\n",
              "      <td>0</td>\n",
              "      <td>0</td>\n",
              "      <td>0</td>\n",
              "      <td>0</td>\n",
              "      <td>0</td>\n",
              "      <td>0</td>\n",
              "      <td>1</td>\n",
              "      <td>0</td>\n",
              "      <td>0</td>\n",
              "      <td>1</td>\n",
              "      <td>...</td>\n",
              "      <td>0</td>\n",
              "      <td>0</td>\n",
              "      <td>0</td>\n",
              "      <td>0</td>\n",
              "      <td>1</td>\n",
              "      <td>0</td>\n",
              "      <td>0</td>\n",
              "      <td>0</td>\n",
              "      <td>0</td>\n",
              "      <td>0</td>\n",
              "    </tr>\n",
              "    <tr>\n",
              "      <th>2</th>\n",
              "      <td>0</td>\n",
              "      <td>1</td>\n",
              "      <td>0</td>\n",
              "      <td>0</td>\n",
              "      <td>0</td>\n",
              "      <td>0</td>\n",
              "      <td>0</td>\n",
              "      <td>0</td>\n",
              "      <td>0</td>\n",
              "      <td>1</td>\n",
              "      <td>...</td>\n",
              "      <td>0</td>\n",
              "      <td>0</td>\n",
              "      <td>0</td>\n",
              "      <td>0</td>\n",
              "      <td>0</td>\n",
              "      <td>0</td>\n",
              "      <td>1</td>\n",
              "      <td>0</td>\n",
              "      <td>0</td>\n",
              "      <td>0</td>\n",
              "    </tr>\n",
              "    <tr>\n",
              "      <th>3</th>\n",
              "      <td>1</td>\n",
              "      <td>0</td>\n",
              "      <td>0</td>\n",
              "      <td>0</td>\n",
              "      <td>0</td>\n",
              "      <td>0</td>\n",
              "      <td>1</td>\n",
              "      <td>0</td>\n",
              "      <td>0</td>\n",
              "      <td>0</td>\n",
              "      <td>...</td>\n",
              "      <td>1</td>\n",
              "      <td>0</td>\n",
              "      <td>0</td>\n",
              "      <td>0</td>\n",
              "      <td>0</td>\n",
              "      <td>0</td>\n",
              "      <td>0</td>\n",
              "      <td>0</td>\n",
              "      <td>1</td>\n",
              "      <td>0</td>\n",
              "    </tr>\n",
              "    <tr>\n",
              "      <th>4</th>\n",
              "      <td>0</td>\n",
              "      <td>0</td>\n",
              "      <td>0</td>\n",
              "      <td>0</td>\n",
              "      <td>0</td>\n",
              "      <td>0</td>\n",
              "      <td>1</td>\n",
              "      <td>0</td>\n",
              "      <td>0</td>\n",
              "      <td>1</td>\n",
              "      <td>...</td>\n",
              "      <td>0</td>\n",
              "      <td>0</td>\n",
              "      <td>0</td>\n",
              "      <td>0</td>\n",
              "      <td>1</td>\n",
              "      <td>0</td>\n",
              "      <td>0</td>\n",
              "      <td>0</td>\n",
              "      <td>0</td>\n",
              "      <td>0</td>\n",
              "    </tr>\n",
              "  </tbody>\n",
              "</table>\n",
              "<p>5 rows × 118 columns</p>\n",
              "</div>\n",
              "      <button class=\"colab-df-convert\" onclick=\"convertToInteractive('df-9a1b1fcd-cdf5-4c9f-872e-f44acfbcdcae')\"\n",
              "              title=\"Convert this dataframe to an interactive table.\"\n",
              "              style=\"display:none;\">\n",
              "        \n",
              "  <svg xmlns=\"http://www.w3.org/2000/svg\" height=\"24px\"viewBox=\"0 0 24 24\"\n",
              "       width=\"24px\">\n",
              "    <path d=\"M0 0h24v24H0V0z\" fill=\"none\"/>\n",
              "    <path d=\"M18.56 5.44l.94 2.06.94-2.06 2.06-.94-2.06-.94-.94-2.06-.94 2.06-2.06.94zm-11 1L8.5 8.5l.94-2.06 2.06-.94-2.06-.94L8.5 2.5l-.94 2.06-2.06.94zm10 10l.94 2.06.94-2.06 2.06-.94-2.06-.94-.94-2.06-.94 2.06-2.06.94z\"/><path d=\"M17.41 7.96l-1.37-1.37c-.4-.4-.92-.59-1.43-.59-.52 0-1.04.2-1.43.59L10.3 9.45l-7.72 7.72c-.78.78-.78 2.05 0 2.83L4 21.41c.39.39.9.59 1.41.59.51 0 1.02-.2 1.41-.59l7.78-7.78 2.81-2.81c.8-.78.8-2.07 0-2.86zM5.41 20L4 18.59l7.72-7.72 1.47 1.35L5.41 20z\"/>\n",
              "  </svg>\n",
              "      </button>\n",
              "      \n",
              "  <style>\n",
              "    .colab-df-container {\n",
              "      display:flex;\n",
              "      flex-wrap:wrap;\n",
              "      gap: 12px;\n",
              "    }\n",
              "\n",
              "    .colab-df-convert {\n",
              "      background-color: #E8F0FE;\n",
              "      border: none;\n",
              "      border-radius: 50%;\n",
              "      cursor: pointer;\n",
              "      display: none;\n",
              "      fill: #1967D2;\n",
              "      height: 32px;\n",
              "      padding: 0 0 0 0;\n",
              "      width: 32px;\n",
              "    }\n",
              "\n",
              "    .colab-df-convert:hover {\n",
              "      background-color: #E2EBFA;\n",
              "      box-shadow: 0px 1px 2px rgba(60, 64, 67, 0.3), 0px 1px 3px 1px rgba(60, 64, 67, 0.15);\n",
              "      fill: #174EA6;\n",
              "    }\n",
              "\n",
              "    [theme=dark] .colab-df-convert {\n",
              "      background-color: #3B4455;\n",
              "      fill: #D2E3FC;\n",
              "    }\n",
              "\n",
              "    [theme=dark] .colab-df-convert:hover {\n",
              "      background-color: #434B5C;\n",
              "      box-shadow: 0px 1px 3px 1px rgba(0, 0, 0, 0.15);\n",
              "      filter: drop-shadow(0px 1px 2px rgba(0, 0, 0, 0.3));\n",
              "      fill: #FFFFFF;\n",
              "    }\n",
              "  </style>\n",
              "\n",
              "      <script>\n",
              "        const buttonEl =\n",
              "          document.querySelector('#df-9a1b1fcd-cdf5-4c9f-872e-f44acfbcdcae button.colab-df-convert');\n",
              "        buttonEl.style.display =\n",
              "          google.colab.kernel.accessAllowed ? 'block' : 'none';\n",
              "\n",
              "        async function convertToInteractive(key) {\n",
              "          const element = document.querySelector('#df-9a1b1fcd-cdf5-4c9f-872e-f44acfbcdcae');\n",
              "          const dataTable =\n",
              "            await google.colab.kernel.invokeFunction('convertToInteractive',\n",
              "                                                     [key], {});\n",
              "          if (!dataTable) return;\n",
              "\n",
              "          const docLinkHtml = 'Like what you see? Visit the ' +\n",
              "            '<a target=\"_blank\" href=https://colab.research.google.com/notebooks/data_table.ipynb>data table notebook</a>'\n",
              "            + ' to learn more about interactive tables.';\n",
              "          element.innerHTML = '';\n",
              "          dataTable['output_type'] = 'display_data';\n",
              "          await google.colab.output.renderOutput(dataTable, element);\n",
              "          const docLink = document.createElement('div');\n",
              "          docLink.innerHTML = docLinkHtml;\n",
              "          element.appendChild(docLink);\n",
              "        }\n",
              "      </script>\n",
              "    </div>\n",
              "  </div>\n",
              "  "
            ]
          },
          "metadata": {},
          "execution_count": 35
        }
      ]
    },
    {
      "cell_type": "markdown",
      "source": [
        "Observemos que agora temos 118 colunas e que cada coluna é sua feature mais seu valor:\n",
        "\n",
        "cap-shape_b, cap-shape_c, cap-shape_f...\n",
        "\n",
        "Vamos ver a correlação de cada variável com o fato de ser venenoso ou não. Para isso por padrão usaremos o comando corr() que usa a correlação de Pearson (padrão)."
      ],
      "metadata": {
        "id": "U7816SYDbEwx"
      }
    },
    {
      "cell_type": "code",
      "source": [
        "cor = df_model.corr()\n",
        "cor"
      ],
      "metadata": {
        "colab": {
          "base_uri": "https://localhost:8080/",
          "height": 574
        },
        "id": "RIrGmPY7qabK",
        "outputId": "ca397346-7605-49f5-bf68-d6df9d55c718"
      },
      "execution_count": 36,
      "outputs": [
        {
          "output_type": "execute_result",
          "data": {
            "text/plain": [
              "                class  cap-shape_b  cap-shape_c  cap-shape_f  cap-shape_k  \\\n",
              "class        1.000000    -0.182567     0.023007     0.018526     0.163565   \n",
              "cap-shape_b -0.182567     1.000000    -0.005387    -0.193260    -0.081769   \n",
              "cap-shape_c  0.023007    -0.005387     1.000000    -0.017672    -0.007477   \n",
              "cap-shape_f  0.018526    -0.193260    -0.017672     1.000000    -0.268226   \n",
              "cap-shape_k  0.163565    -0.081769    -0.007477    -0.268226     1.000000   \n",
              "...               ...          ...          ...          ...          ...   \n",
              "habitat_l    0.155150     0.010113     0.065707    -0.052326     0.235108   \n",
              "habitat_m   -0.138627     0.374316    -0.004286    -0.129312    -0.065047   \n",
              "habitat_p    0.323346    -0.095178    -0.008985     0.021891     0.090538   \n",
              "habitat_u    0.112078    -0.052871    -0.004835     0.030636    -0.073380   \n",
              "habitat_w   -0.150087    -0.037764    -0.003453    -0.017450     0.119003   \n",
              "\n",
              "             cap-shape_s  cap-shape_x  cap-surface_f  cap-surface_g  \\\n",
              "class          -0.060664    -0.026886      -0.195415       0.023007   \n",
              "cap-shape_b    -0.015264    -0.219564      -0.091638       0.018820   \n",
              "cap-shape_c    -0.001396    -0.020077      -0.014032       0.249631   \n",
              "cap-shape_f    -0.050070    -0.720235       0.064801      -0.006285   \n",
              "cap-shape_k    -0.021185    -0.304733      -0.158942       0.010863   \n",
              "...                  ...          ...            ...            ...   \n",
              "habitat_l      -0.021242    -0.096639      -0.191987       0.065707   \n",
              "habitat_m      -0.012142    -0.004529      -0.122077      -0.004286   \n",
              "habitat_p      -0.025458    -0.029042      -0.086727      -0.008985   \n",
              "habitat_u       0.288697     0.002845      -0.011913      -0.004835   \n",
              "habitat_w      -0.009784    -0.036493      -0.098365      -0.003453   \n",
              "\n",
              "             cap-surface_s  ...  population_s  population_v  population_y  \\\n",
              "class             0.095454  ...     -0.159572      0.443722     -0.107055   \n",
              "cap-shape_b       0.117712  ...      0.158702     -0.168381     -0.120154   \n",
              "cap-shape_c      -0.015038  ...     -0.009456     -0.022075     -0.011469   \n",
              "cap-shape_f      -0.093397  ...     -0.075804      0.034625      0.111346   \n",
              "cap-shape_k       0.137988  ...     -0.089360      0.172707     -0.170081   \n",
              "...                    ...  ...           ...           ...           ...   \n",
              "habitat_l         0.190799  ...     -0.143906      0.248675     -0.174539   \n",
              "habitat_m         0.077081  ...      0.152473     -0.144434     -0.099772   \n",
              "habitat_p        -0.039574  ...     -0.125366      0.169228      0.040714   \n",
              "habitat_u         0.117548  ...      0.130450      0.001180     -0.042888   \n",
              "habitat_w         0.062109  ...     -0.066282     -0.154742     -0.080392   \n",
              "\n",
              "             habitat_d  habitat_g  habitat_l  habitat_m  habitat_p  habitat_u  \\\n",
              "class        -0.126123  -0.165004   0.155150  -0.138627   0.323346   0.112078   \n",
              "cap-shape_b  -0.182037   0.149151   0.010113   0.374316  -0.095178  -0.052871   \n",
              "cap-shape_c  -0.017653  -0.013306   0.065707  -0.004286  -0.008985  -0.004835   \n",
              "cap-shape_f   0.074986  -0.017982  -0.052326  -0.129312   0.021891   0.030636   \n",
              "cap-shape_k  -0.089230  -0.113404   0.235108  -0.065047   0.090538  -0.073380   \n",
              "...                ...        ...        ...        ...        ...        ...   \n",
              "habitat_l    -0.268668  -0.202512   1.000000  -0.065222  -0.136749  -0.073577   \n",
              "habitat_m    -0.153579  -0.115762  -0.065222   1.000000  -0.078170  -0.042059   \n",
              "habitat_p    -0.322005  -0.242715  -0.136749  -0.078170   1.000000  -0.088184   \n",
              "habitat_u    -0.173254  -0.130592  -0.073577  -0.042059  -0.088184   1.000000   \n",
              "habitat_w    -0.123748  -0.093276  -0.052553  -0.030041  -0.062986  -0.033889   \n",
              "\n",
              "             habitat_w  \n",
              "class        -0.150087  \n",
              "cap-shape_b  -0.037764  \n",
              "cap-shape_c  -0.003453  \n",
              "cap-shape_f  -0.017450  \n",
              "cap-shape_k   0.119003  \n",
              "...                ...  \n",
              "habitat_l    -0.052553  \n",
              "habitat_m    -0.030041  \n",
              "habitat_p    -0.062986  \n",
              "habitat_u    -0.033889  \n",
              "habitat_w     1.000000  \n",
              "\n",
              "[118 rows x 118 columns]"
            ],
            "text/html": [
              "\n",
              "  <div id=\"df-7a49edbb-8c7c-4b5d-84db-fb35330342d5\">\n",
              "    <div class=\"colab-df-container\">\n",
              "      <div>\n",
              "<style scoped>\n",
              "    .dataframe tbody tr th:only-of-type {\n",
              "        vertical-align: middle;\n",
              "    }\n",
              "\n",
              "    .dataframe tbody tr th {\n",
              "        vertical-align: top;\n",
              "    }\n",
              "\n",
              "    .dataframe thead th {\n",
              "        text-align: right;\n",
              "    }\n",
              "</style>\n",
              "<table border=\"1\" class=\"dataframe\">\n",
              "  <thead>\n",
              "    <tr style=\"text-align: right;\">\n",
              "      <th></th>\n",
              "      <th>class</th>\n",
              "      <th>cap-shape_b</th>\n",
              "      <th>cap-shape_c</th>\n",
              "      <th>cap-shape_f</th>\n",
              "      <th>cap-shape_k</th>\n",
              "      <th>cap-shape_s</th>\n",
              "      <th>cap-shape_x</th>\n",
              "      <th>cap-surface_f</th>\n",
              "      <th>cap-surface_g</th>\n",
              "      <th>cap-surface_s</th>\n",
              "      <th>...</th>\n",
              "      <th>population_s</th>\n",
              "      <th>population_v</th>\n",
              "      <th>population_y</th>\n",
              "      <th>habitat_d</th>\n",
              "      <th>habitat_g</th>\n",
              "      <th>habitat_l</th>\n",
              "      <th>habitat_m</th>\n",
              "      <th>habitat_p</th>\n",
              "      <th>habitat_u</th>\n",
              "      <th>habitat_w</th>\n",
              "    </tr>\n",
              "  </thead>\n",
              "  <tbody>\n",
              "    <tr>\n",
              "      <th>class</th>\n",
              "      <td>1.000000</td>\n",
              "      <td>-0.182567</td>\n",
              "      <td>0.023007</td>\n",
              "      <td>0.018526</td>\n",
              "      <td>0.163565</td>\n",
              "      <td>-0.060664</td>\n",
              "      <td>-0.026886</td>\n",
              "      <td>-0.195415</td>\n",
              "      <td>0.023007</td>\n",
              "      <td>0.095454</td>\n",
              "      <td>...</td>\n",
              "      <td>-0.159572</td>\n",
              "      <td>0.443722</td>\n",
              "      <td>-0.107055</td>\n",
              "      <td>-0.126123</td>\n",
              "      <td>-0.165004</td>\n",
              "      <td>0.155150</td>\n",
              "      <td>-0.138627</td>\n",
              "      <td>0.323346</td>\n",
              "      <td>0.112078</td>\n",
              "      <td>-0.150087</td>\n",
              "    </tr>\n",
              "    <tr>\n",
              "      <th>cap-shape_b</th>\n",
              "      <td>-0.182567</td>\n",
              "      <td>1.000000</td>\n",
              "      <td>-0.005387</td>\n",
              "      <td>-0.193260</td>\n",
              "      <td>-0.081769</td>\n",
              "      <td>-0.015264</td>\n",
              "      <td>-0.219564</td>\n",
              "      <td>-0.091638</td>\n",
              "      <td>0.018820</td>\n",
              "      <td>0.117712</td>\n",
              "      <td>...</td>\n",
              "      <td>0.158702</td>\n",
              "      <td>-0.168381</td>\n",
              "      <td>-0.120154</td>\n",
              "      <td>-0.182037</td>\n",
              "      <td>0.149151</td>\n",
              "      <td>0.010113</td>\n",
              "      <td>0.374316</td>\n",
              "      <td>-0.095178</td>\n",
              "      <td>-0.052871</td>\n",
              "      <td>-0.037764</td>\n",
              "    </tr>\n",
              "    <tr>\n",
              "      <th>cap-shape_c</th>\n",
              "      <td>0.023007</td>\n",
              "      <td>-0.005387</td>\n",
              "      <td>1.000000</td>\n",
              "      <td>-0.017672</td>\n",
              "      <td>-0.007477</td>\n",
              "      <td>-0.001396</td>\n",
              "      <td>-0.020077</td>\n",
              "      <td>-0.014032</td>\n",
              "      <td>0.249631</td>\n",
              "      <td>-0.015038</td>\n",
              "      <td>...</td>\n",
              "      <td>-0.009456</td>\n",
              "      <td>-0.022075</td>\n",
              "      <td>-0.011469</td>\n",
              "      <td>-0.017653</td>\n",
              "      <td>-0.013306</td>\n",
              "      <td>0.065707</td>\n",
              "      <td>-0.004286</td>\n",
              "      <td>-0.008985</td>\n",
              "      <td>-0.004835</td>\n",
              "      <td>-0.003453</td>\n",
              "    </tr>\n",
              "    <tr>\n",
              "      <th>cap-shape_f</th>\n",
              "      <td>0.018526</td>\n",
              "      <td>-0.193260</td>\n",
              "      <td>-0.017672</td>\n",
              "      <td>1.000000</td>\n",
              "      <td>-0.268226</td>\n",
              "      <td>-0.050070</td>\n",
              "      <td>-0.720235</td>\n",
              "      <td>0.064801</td>\n",
              "      <td>-0.006285</td>\n",
              "      <td>-0.093397</td>\n",
              "      <td>...</td>\n",
              "      <td>-0.075804</td>\n",
              "      <td>0.034625</td>\n",
              "      <td>0.111346</td>\n",
              "      <td>0.074986</td>\n",
              "      <td>-0.017982</td>\n",
              "      <td>-0.052326</td>\n",
              "      <td>-0.129312</td>\n",
              "      <td>0.021891</td>\n",
              "      <td>0.030636</td>\n",
              "      <td>-0.017450</td>\n",
              "    </tr>\n",
              "    <tr>\n",
              "      <th>cap-shape_k</th>\n",
              "      <td>0.163565</td>\n",
              "      <td>-0.081769</td>\n",
              "      <td>-0.007477</td>\n",
              "      <td>-0.268226</td>\n",
              "      <td>1.000000</td>\n",
              "      <td>-0.021185</td>\n",
              "      <td>-0.304733</td>\n",
              "      <td>-0.158942</td>\n",
              "      <td>0.010863</td>\n",
              "      <td>0.137988</td>\n",
              "      <td>...</td>\n",
              "      <td>-0.089360</td>\n",
              "      <td>0.172707</td>\n",
              "      <td>-0.170081</td>\n",
              "      <td>-0.089230</td>\n",
              "      <td>-0.113404</td>\n",
              "      <td>0.235108</td>\n",
              "      <td>-0.065047</td>\n",
              "      <td>0.090538</td>\n",
              "      <td>-0.073380</td>\n",
              "      <td>0.119003</td>\n",
              "    </tr>\n",
              "    <tr>\n",
              "      <th>...</th>\n",
              "      <td>...</td>\n",
              "      <td>...</td>\n",
              "      <td>...</td>\n",
              "      <td>...</td>\n",
              "      <td>...</td>\n",
              "      <td>...</td>\n",
              "      <td>...</td>\n",
              "      <td>...</td>\n",
              "      <td>...</td>\n",
              "      <td>...</td>\n",
              "      <td>...</td>\n",
              "      <td>...</td>\n",
              "      <td>...</td>\n",
              "      <td>...</td>\n",
              "      <td>...</td>\n",
              "      <td>...</td>\n",
              "      <td>...</td>\n",
              "      <td>...</td>\n",
              "      <td>...</td>\n",
              "      <td>...</td>\n",
              "      <td>...</td>\n",
              "    </tr>\n",
              "    <tr>\n",
              "      <th>habitat_l</th>\n",
              "      <td>0.155150</td>\n",
              "      <td>0.010113</td>\n",
              "      <td>0.065707</td>\n",
              "      <td>-0.052326</td>\n",
              "      <td>0.235108</td>\n",
              "      <td>-0.021242</td>\n",
              "      <td>-0.096639</td>\n",
              "      <td>-0.191987</td>\n",
              "      <td>0.065707</td>\n",
              "      <td>0.190799</td>\n",
              "      <td>...</td>\n",
              "      <td>-0.143906</td>\n",
              "      <td>0.248675</td>\n",
              "      <td>-0.174539</td>\n",
              "      <td>-0.268668</td>\n",
              "      <td>-0.202512</td>\n",
              "      <td>1.000000</td>\n",
              "      <td>-0.065222</td>\n",
              "      <td>-0.136749</td>\n",
              "      <td>-0.073577</td>\n",
              "      <td>-0.052553</td>\n",
              "    </tr>\n",
              "    <tr>\n",
              "      <th>habitat_m</th>\n",
              "      <td>-0.138627</td>\n",
              "      <td>0.374316</td>\n",
              "      <td>-0.004286</td>\n",
              "      <td>-0.129312</td>\n",
              "      <td>-0.065047</td>\n",
              "      <td>-0.012142</td>\n",
              "      <td>-0.004529</td>\n",
              "      <td>-0.122077</td>\n",
              "      <td>-0.004286</td>\n",
              "      <td>0.077081</td>\n",
              "      <td>...</td>\n",
              "      <td>0.152473</td>\n",
              "      <td>-0.144434</td>\n",
              "      <td>-0.099772</td>\n",
              "      <td>-0.153579</td>\n",
              "      <td>-0.115762</td>\n",
              "      <td>-0.065222</td>\n",
              "      <td>1.000000</td>\n",
              "      <td>-0.078170</td>\n",
              "      <td>-0.042059</td>\n",
              "      <td>-0.030041</td>\n",
              "    </tr>\n",
              "    <tr>\n",
              "      <th>habitat_p</th>\n",
              "      <td>0.323346</td>\n",
              "      <td>-0.095178</td>\n",
              "      <td>-0.008985</td>\n",
              "      <td>0.021891</td>\n",
              "      <td>0.090538</td>\n",
              "      <td>-0.025458</td>\n",
              "      <td>-0.029042</td>\n",
              "      <td>-0.086727</td>\n",
              "      <td>-0.008985</td>\n",
              "      <td>-0.039574</td>\n",
              "      <td>...</td>\n",
              "      <td>-0.125366</td>\n",
              "      <td>0.169228</td>\n",
              "      <td>0.040714</td>\n",
              "      <td>-0.322005</td>\n",
              "      <td>-0.242715</td>\n",
              "      <td>-0.136749</td>\n",
              "      <td>-0.078170</td>\n",
              "      <td>1.000000</td>\n",
              "      <td>-0.088184</td>\n",
              "      <td>-0.062986</td>\n",
              "    </tr>\n",
              "    <tr>\n",
              "      <th>habitat_u</th>\n",
              "      <td>0.112078</td>\n",
              "      <td>-0.052871</td>\n",
              "      <td>-0.004835</td>\n",
              "      <td>0.030636</td>\n",
              "      <td>-0.073380</td>\n",
              "      <td>0.288697</td>\n",
              "      <td>0.002845</td>\n",
              "      <td>-0.011913</td>\n",
              "      <td>-0.004835</td>\n",
              "      <td>0.117548</td>\n",
              "      <td>...</td>\n",
              "      <td>0.130450</td>\n",
              "      <td>0.001180</td>\n",
              "      <td>-0.042888</td>\n",
              "      <td>-0.173254</td>\n",
              "      <td>-0.130592</td>\n",
              "      <td>-0.073577</td>\n",
              "      <td>-0.042059</td>\n",
              "      <td>-0.088184</td>\n",
              "      <td>1.000000</td>\n",
              "      <td>-0.033889</td>\n",
              "    </tr>\n",
              "    <tr>\n",
              "      <th>habitat_w</th>\n",
              "      <td>-0.150087</td>\n",
              "      <td>-0.037764</td>\n",
              "      <td>-0.003453</td>\n",
              "      <td>-0.017450</td>\n",
              "      <td>0.119003</td>\n",
              "      <td>-0.009784</td>\n",
              "      <td>-0.036493</td>\n",
              "      <td>-0.098365</td>\n",
              "      <td>-0.003453</td>\n",
              "      <td>0.062109</td>\n",
              "      <td>...</td>\n",
              "      <td>-0.066282</td>\n",
              "      <td>-0.154742</td>\n",
              "      <td>-0.080392</td>\n",
              "      <td>-0.123748</td>\n",
              "      <td>-0.093276</td>\n",
              "      <td>-0.052553</td>\n",
              "      <td>-0.030041</td>\n",
              "      <td>-0.062986</td>\n",
              "      <td>-0.033889</td>\n",
              "      <td>1.000000</td>\n",
              "    </tr>\n",
              "  </tbody>\n",
              "</table>\n",
              "<p>118 rows × 118 columns</p>\n",
              "</div>\n",
              "      <button class=\"colab-df-convert\" onclick=\"convertToInteractive('df-7a49edbb-8c7c-4b5d-84db-fb35330342d5')\"\n",
              "              title=\"Convert this dataframe to an interactive table.\"\n",
              "              style=\"display:none;\">\n",
              "        \n",
              "  <svg xmlns=\"http://www.w3.org/2000/svg\" height=\"24px\"viewBox=\"0 0 24 24\"\n",
              "       width=\"24px\">\n",
              "    <path d=\"M0 0h24v24H0V0z\" fill=\"none\"/>\n",
              "    <path d=\"M18.56 5.44l.94 2.06.94-2.06 2.06-.94-2.06-.94-.94-2.06-.94 2.06-2.06.94zm-11 1L8.5 8.5l.94-2.06 2.06-.94-2.06-.94L8.5 2.5l-.94 2.06-2.06.94zm10 10l.94 2.06.94-2.06 2.06-.94-2.06-.94-.94-2.06-.94 2.06-2.06.94z\"/><path d=\"M17.41 7.96l-1.37-1.37c-.4-.4-.92-.59-1.43-.59-.52 0-1.04.2-1.43.59L10.3 9.45l-7.72 7.72c-.78.78-.78 2.05 0 2.83L4 21.41c.39.39.9.59 1.41.59.51 0 1.02-.2 1.41-.59l7.78-7.78 2.81-2.81c.8-.78.8-2.07 0-2.86zM5.41 20L4 18.59l7.72-7.72 1.47 1.35L5.41 20z\"/>\n",
              "  </svg>\n",
              "      </button>\n",
              "      \n",
              "  <style>\n",
              "    .colab-df-container {\n",
              "      display:flex;\n",
              "      flex-wrap:wrap;\n",
              "      gap: 12px;\n",
              "    }\n",
              "\n",
              "    .colab-df-convert {\n",
              "      background-color: #E8F0FE;\n",
              "      border: none;\n",
              "      border-radius: 50%;\n",
              "      cursor: pointer;\n",
              "      display: none;\n",
              "      fill: #1967D2;\n",
              "      height: 32px;\n",
              "      padding: 0 0 0 0;\n",
              "      width: 32px;\n",
              "    }\n",
              "\n",
              "    .colab-df-convert:hover {\n",
              "      background-color: #E2EBFA;\n",
              "      box-shadow: 0px 1px 2px rgba(60, 64, 67, 0.3), 0px 1px 3px 1px rgba(60, 64, 67, 0.15);\n",
              "      fill: #174EA6;\n",
              "    }\n",
              "\n",
              "    [theme=dark] .colab-df-convert {\n",
              "      background-color: #3B4455;\n",
              "      fill: #D2E3FC;\n",
              "    }\n",
              "\n",
              "    [theme=dark] .colab-df-convert:hover {\n",
              "      background-color: #434B5C;\n",
              "      box-shadow: 0px 1px 3px 1px rgba(0, 0, 0, 0.15);\n",
              "      filter: drop-shadow(0px 1px 2px rgba(0, 0, 0, 0.3));\n",
              "      fill: #FFFFFF;\n",
              "    }\n",
              "  </style>\n",
              "\n",
              "      <script>\n",
              "        const buttonEl =\n",
              "          document.querySelector('#df-7a49edbb-8c7c-4b5d-84db-fb35330342d5 button.colab-df-convert');\n",
              "        buttonEl.style.display =\n",
              "          google.colab.kernel.accessAllowed ? 'block' : 'none';\n",
              "\n",
              "        async function convertToInteractive(key) {\n",
              "          const element = document.querySelector('#df-7a49edbb-8c7c-4b5d-84db-fb35330342d5');\n",
              "          const dataTable =\n",
              "            await google.colab.kernel.invokeFunction('convertToInteractive',\n",
              "                                                     [key], {});\n",
              "          if (!dataTable) return;\n",
              "\n",
              "          const docLinkHtml = 'Like what you see? Visit the ' +\n",
              "            '<a target=\"_blank\" href=https://colab.research.google.com/notebooks/data_table.ipynb>data table notebook</a>'\n",
              "            + ' to learn more about interactive tables.';\n",
              "          element.innerHTML = '';\n",
              "          dataTable['output_type'] = 'display_data';\n",
              "          await google.colab.output.renderOutput(dataTable, element);\n",
              "          const docLink = document.createElement('div');\n",
              "          docLink.innerHTML = docLinkHtml;\n",
              "          element.appendChild(docLink);\n",
              "        }\n",
              "      </script>\n",
              "    </div>\n",
              "  </div>\n",
              "  "
            ]
          },
          "metadata": {},
          "execution_count": 36
        }
      ]
    },
    {
      "cell_type": "code",
      "source": [
        "fig = px.imshow(cor)\n",
        "fig.show(renderer=\"png\")"
      ],
      "metadata": {
        "colab": {
          "base_uri": "https://localhost:8080/",
          "height": 517
        },
        "id": "oCQRqPCyqgYs",
        "outputId": "433d9d48-69bb-4021-ec39-5fc920cf773d"
      },
      "execution_count": 37,
      "outputs": [
        {
          "output_type": "display_data",
          "data": {
            "image/png": "[encoded data removed]"
          },
          "metadata": {}
        }
      ]
    },
    {
      "cell_type": "markdown",
      "source": [
        "Não ficou visual nosos mapa de calor, tem muita variável. Vamos ver quem tem correlação maior ou menor que 0.2"
      ],
      "metadata": {
        "id": "FTO5U45Dqib3"
      }
    },
    {
      "cell_type": "code",
      "source": [
        "cor2 = abs(cor[\"class\"])\n",
        "relevant_features = cor2[cor2>0.2]\n",
        "relevant_features"
      ],
      "metadata": {
        "colab": {
          "base_uri": "https://localhost:8080/"
        },
        "id": "Usac02Epq7KF",
        "outputId": "445dba4f-36b8-4fb5-b7dd-d7352d59928f"
      },
      "execution_count": null,
      "outputs": [
        {
          "output_type": "execute_result",
          "data": {
            "text/plain": [
              "class                         1.000000\n",
              "bruises_f                     0.501530\n",
              "bruises_t                     0.501530\n",
              "odor_a                        0.219529\n",
              "odor_f                        0.623842\n",
              "odor_l                        0.219529\n",
              "odor_n                        0.785557\n",
              "odor_s                        0.286360\n",
              "odor_y                        0.286360\n",
              "gill-spacing_c                0.348387\n",
              "gill-spacing_w                0.348387\n",
              "gill-size_b                   0.540024\n",
              "gill-size_n                   0.540024\n",
              "gill-color_b                  0.538808\n",
              "gill-color_n                  0.288943\n",
              "gill-color_w                  0.231316\n",
              "stalk-root_?                  0.302001\n",
              "stalk-root_c                  0.218548\n",
              "stalk-root_e                  0.202839\n",
              "stalk-surface-above-ring_k    0.587658\n",
              "stalk-surface-above-ring_s    0.491314\n",
              "stalk-surface-below-ring_k    0.573524\n",
              "stalk-surface-below-ring_s    0.425444\n",
              "stalk-color-above-ring_b      0.245662\n",
              "stalk-color-above-ring_g      0.266489\n",
              "stalk-color-above-ring_n      0.233164\n",
              "stalk-color-above-ring_p      0.230277\n",
              "stalk-color-above-ring_w      0.217740\n",
              "stalk-color-below-ring_b      0.245662\n",
              "stalk-color-below-ring_g      0.266489\n",
              "stalk-color-below-ring_n      0.203966\n",
              "stalk-color-below-ring_p      0.230277\n",
              "stalk-color-below-ring_w      0.214112\n",
              "ring-number_t                 0.204600\n",
              "ring-type_e                   0.223286\n",
              "ring-type_l                   0.451619\n",
              "ring-type_p                   0.540469\n",
              "spore-print-color_h           0.490229\n",
              "spore-print-color_k           0.396832\n",
              "spore-print-color_n           0.416645\n",
              "spore-print-color_w           0.357384\n",
              "population_a                  0.214871\n",
              "population_n                  0.219529\n",
              "population_v                  0.443722\n",
              "habitat_p                     0.323346\n",
              "Name: class, dtype: float64"
            ]
          },
          "metadata": {},
          "execution_count": 45
        }
      ]
    },
    {
      "cell_type": "markdown",
      "source": [
        "Tem bastante. Vamos ver maior que 0.5."
      ],
      "metadata": {
        "id": "DSbHKFPntU5B"
      }
    },
    {
      "cell_type": "code",
      "source": [
        "cor3 = abs(cor[\"class\"])\n",
        "relevant_features = cor3[cor3>0.5]\n",
        "relevant_features"
      ],
      "metadata": {
        "colab": {
          "base_uri": "https://localhost:8080/"
        },
        "id": "iylwAku9tX7B",
        "outputId": "e67272aa-bfbd-4993-f254-923a296248e2"
      },
      "execution_count": null,
      "outputs": [
        {
          "output_type": "execute_result",
          "data": {
            "text/plain": [
              "class                         1.000000\n",
              "bruises_f                     0.501530\n",
              "bruises_t                     0.501530\n",
              "odor_f                        0.623842\n",
              "odor_n                        0.785557\n",
              "gill-size_b                   0.540024\n",
              "gill-size_n                   0.540024\n",
              "gill-color_b                  0.538808\n",
              "stalk-surface-above-ring_k    0.587658\n",
              "stalk-surface-below-ring_k    0.573524\n",
              "ring-type_p                   0.540469\n",
              "Name: class, dtype: float64"
            ]
          },
          "metadata": {},
          "execution_count": 46
        }
      ]
    },
    {
      "cell_type": "markdown",
      "source": [
        "Perfeito. \n",
        "\n",
        "Essas são as variáveis que mais impactam se o cogumelo é venenoso ou não.\n",
        "\n",
        "Legal falar que correlação e causalidade são coisas diferentes ein! Ou seja, a correlação nos diz a força e direção do relacionamento entre variáveis, mas nada esclarece sobre os motivos desse relacionamento. Já os estudos sobre causalidade conseguem dar um passo além, indicando que a mudança em uma variável causará uma mudança em outra.\n",
        "\n",
        "Por exemplo, ao lidar com dados do Censo Escolar, imagine que você descubra uma correlação forte entre a ausência de esgoto nas escolas e a nota do Enem.\n",
        "\n",
        "Poderíamos dizer que “Se a escola tem esgoto, a nota do Enem é em média X pontos mais alta”. Agora, isso não quer dizer que basta instalar coleta de esgoto nas escolas para as notas aumentarem prontamente. Dessa maneira, esgoto e notas no enem apresentam uma correlação, mas uma não necessariamente é causadora da outra. As duas coisas podem até estarem correlacionadas, mas estabelecer causalidade entre ambas é algo bem mais complexo. De fato, as escolas que não possuem esgoto possuem notas mais baixas, mas existem outros fatores (sociais, econômicos, etc) que impactam tanto a performance dos alunos, quanto a presença ou não de esgoto nas escolas.\n",
        "\n",
        "Vamos ao modelo."
      ],
      "metadata": {
        "id": "8Olh-tAitdEd"
      }
    },
    {
      "cell_type": "code",
      "source": [
        "X = df_model.drop(\"class\", axis=1)\n",
        "Y = df_model[\"class\"]\n",
        "X.head()"
      ],
      "metadata": {
        "colab": {
          "base_uri": "https://localhost:8080/",
          "height": 317
        },
        "id": "ppM4dHsTxsHE",
        "outputId": "27a9b3dd-3efd-4ce6-a785-4ccdf2c9c163"
      },
      "execution_count": 38,
      "outputs": [
        {
          "output_type": "execute_result",
          "data": {
            "text/plain": [
              "   cap-shape_b  cap-shape_c  cap-shape_f  cap-shape_k  cap-shape_s  \\\n",
              "0            0            0            0            0            0   \n",
              "1            0            0            0            0            0   \n",
              "2            1            0            0            0            0   \n",
              "3            0            0            0            0            0   \n",
              "4            0            0            0            0            0   \n",
              "\n",
              "   cap-shape_x  cap-surface_f  cap-surface_g  cap-surface_s  cap-surface_y  \\\n",
              "0            1              0              0              1              0   \n",
              "1            1              0              0              1              0   \n",
              "2            0              0              0              1              0   \n",
              "3            1              0              0              0              1   \n",
              "4            1              0              0              1              0   \n",
              "\n",
              "   ...  population_s  population_v  population_y  habitat_d  habitat_g  \\\n",
              "0  ...             1             0             0          0          0   \n",
              "1  ...             0             0             0          0          1   \n",
              "2  ...             0             0             0          0          0   \n",
              "3  ...             1             0             0          0          0   \n",
              "4  ...             0             0             0          0          1   \n",
              "\n",
              "   habitat_l  habitat_m  habitat_p  habitat_u  habitat_w  \n",
              "0          0          0          0          1          0  \n",
              "1          0          0          0          0          0  \n",
              "2          0          1          0          0          0  \n",
              "3          0          0          0          1          0  \n",
              "4          0          0          0          0          0  \n",
              "\n",
              "[5 rows x 117 columns]"
            ],
            "text/html": [
              "\n",
              "  <div id=\"df-4fee25f0-534c-44f1-9320-8a4c1a71e2b3\">\n",
              "    <div class=\"colab-df-container\">\n",
              "      <div>\n",
              "<style scoped>\n",
              "    .dataframe tbody tr th:only-of-type {\n",
              "        vertical-align: middle;\n",
              "    }\n",
              "\n",
              "    .dataframe tbody tr th {\n",
              "        vertical-align: top;\n",
              "    }\n",
              "\n",
              "    .dataframe thead th {\n",
              "        text-align: right;\n",
              "    }\n",
              "</style>\n",
              "<table border=\"1\" class=\"dataframe\">\n",
              "  <thead>\n",
              "    <tr style=\"text-align: right;\">\n",
              "      <th></th>\n",
              "      <th>cap-shape_b</th>\n",
              "      <th>cap-shape_c</th>\n",
              "      <th>cap-shape_f</th>\n",
              "      <th>cap-shape_k</th>\n",
              "      <th>cap-shape_s</th>\n",
              "      <th>cap-shape_x</th>\n",
              "      <th>cap-surface_f</th>\n",
              "      <th>cap-surface_g</th>\n",
              "      <th>cap-surface_s</th>\n",
              "      <th>cap-surface_y</th>\n",
              "      <th>...</th>\n",
              "      <th>population_s</th>\n",
              "      <th>population_v</th>\n",
              "      <th>population_y</th>\n",
              "      <th>habitat_d</th>\n",
              "      <th>habitat_g</th>\n",
              "      <th>habitat_l</th>\n",
              "      <th>habitat_m</th>\n",
              "      <th>habitat_p</th>\n",
              "      <th>habitat_u</th>\n",
              "      <th>habitat_w</th>\n",
              "    </tr>\n",
              "  </thead>\n",
              "  <tbody>\n",
              "    <tr>\n",
              "      <th>0</th>\n",
              "      <td>0</td>\n",
              "      <td>0</td>\n",
              "      <td>0</td>\n",
              "      <td>0</td>\n",
              "      <td>0</td>\n",
              "      <td>1</td>\n",
              "      <td>0</td>\n",
              "      <td>0</td>\n",
              "      <td>1</td>\n",
              "      <td>0</td>\n",
              "      <td>...</td>\n",
              "      <td>1</td>\n",
              "      <td>0</td>\n",
              "      <td>0</td>\n",
              "      <td>0</td>\n",
              "      <td>0</td>\n",
              "      <td>0</td>\n",
              "      <td>0</td>\n",
              "      <td>0</td>\n",
              "      <td>1</td>\n",
              "      <td>0</td>\n",
              "    </tr>\n",
              "    <tr>\n",
              "      <th>1</th>\n",
              "      <td>0</td>\n",
              "      <td>0</td>\n",
              "      <td>0</td>\n",
              "      <td>0</td>\n",
              "      <td>0</td>\n",
              "      <td>1</td>\n",
              "      <td>0</td>\n",
              "      <td>0</td>\n",
              "      <td>1</td>\n",
              "      <td>0</td>\n",
              "      <td>...</td>\n",
              "      <td>0</td>\n",
              "      <td>0</td>\n",
              "      <td>0</td>\n",
              "      <td>0</td>\n",
              "      <td>1</td>\n",
              "      <td>0</td>\n",
              "      <td>0</td>\n",
              "      <td>0</td>\n",
              "      <td>0</td>\n",
              "      <td>0</td>\n",
              "    </tr>\n",
              "    <tr>\n",
              "      <th>2</th>\n",
              "      <td>1</td>\n",
              "      <td>0</td>\n",
              "      <td>0</td>\n",
              "      <td>0</td>\n",
              "      <td>0</td>\n",
              "      <td>0</td>\n",
              "      <td>0</td>\n",
              "      <td>0</td>\n",
              "      <td>1</td>\n",
              "      <td>0</td>\n",
              "      <td>...</td>\n",
              "      <td>0</td>\n",
              "      <td>0</td>\n",
              "      <td>0</td>\n",
              "      <td>0</td>\n",
              "      <td>0</td>\n",
              "      <td>0</td>\n",
              "      <td>1</td>\n",
              "      <td>0</td>\n",
              "      <td>0</td>\n",
              "      <td>0</td>\n",
              "    </tr>\n",
              "    <tr>\n",
              "      <th>3</th>\n",
              "      <td>0</td>\n",
              "      <td>0</td>\n",
              "      <td>0</td>\n",
              "      <td>0</td>\n",
              "      <td>0</td>\n",
              "      <td>1</td>\n",
              "      <td>0</td>\n",
              "      <td>0</td>\n",
              "      <td>0</td>\n",
              "      <td>1</td>\n",
              "      <td>...</td>\n",
              "      <td>1</td>\n",
              "      <td>0</td>\n",
              "      <td>0</td>\n",
              "      <td>0</td>\n",
              "      <td>0</td>\n",
              "      <td>0</td>\n",
              "      <td>0</td>\n",
              "      <td>0</td>\n",
              "      <td>1</td>\n",
              "      <td>0</td>\n",
              "    </tr>\n",
              "    <tr>\n",
              "      <th>4</th>\n",
              "      <td>0</td>\n",
              "      <td>0</td>\n",
              "      <td>0</td>\n",
              "      <td>0</td>\n",
              "      <td>0</td>\n",
              "      <td>1</td>\n",
              "      <td>0</td>\n",
              "      <td>0</td>\n",
              "      <td>1</td>\n",
              "      <td>0</td>\n",
              "      <td>...</td>\n",
              "      <td>0</td>\n",
              "      <td>0</td>\n",
              "      <td>0</td>\n",
              "      <td>0</td>\n",
              "      <td>1</td>\n",
              "      <td>0</td>\n",
              "      <td>0</td>\n",
              "      <td>0</td>\n",
              "      <td>0</td>\n",
              "      <td>0</td>\n",
              "    </tr>\n",
              "  </tbody>\n",
              "</table>\n",
              "<p>5 rows × 117 columns</p>\n",
              "</div>\n",
              "      <button class=\"colab-df-convert\" onclick=\"convertToInteractive('df-4fee25f0-534c-44f1-9320-8a4c1a71e2b3')\"\n",
              "              title=\"Convert this dataframe to an interactive table.\"\n",
              "              style=\"display:none;\">\n",
              "        \n",
              "  <svg xmlns=\"http://www.w3.org/2000/svg\" height=\"24px\"viewBox=\"0 0 24 24\"\n",
              "       width=\"24px\">\n",
              "    <path d=\"M0 0h24v24H0V0z\" fill=\"none\"/>\n",
              "    <path d=\"M18.56 5.44l.94 2.06.94-2.06 2.06-.94-2.06-.94-.94-2.06-.94 2.06-2.06.94zm-11 1L8.5 8.5l.94-2.06 2.06-.94-2.06-.94L8.5 2.5l-.94 2.06-2.06.94zm10 10l.94 2.06.94-2.06 2.06-.94-2.06-.94-.94-2.06-.94 2.06-2.06.94z\"/><path d=\"M17.41 7.96l-1.37-1.37c-.4-.4-.92-.59-1.43-.59-.52 0-1.04.2-1.43.59L10.3 9.45l-7.72 7.72c-.78.78-.78 2.05 0 2.83L4 21.41c.39.39.9.59 1.41.59.51 0 1.02-.2 1.41-.59l7.78-7.78 2.81-2.81c.8-.78.8-2.07 0-2.86zM5.41 20L4 18.59l7.72-7.72 1.47 1.35L5.41 20z\"/>\n",
              "  </svg>\n",
              "      </button>\n",
              "      \n",
              "  <style>\n",
              "    .colab-df-container {\n",
              "      display:flex;\n",
              "      flex-wrap:wrap;\n",
              "      gap: 12px;\n",
              "    }\n",
              "\n",
              "    .colab-df-convert {\n",
              "      background-color: #E8F0FE;\n",
              "      border: none;\n",
              "      border-radius: 50%;\n",
              "      cursor: pointer;\n",
              "      display: none;\n",
              "      fill: #1967D2;\n",
              "      height: 32px;\n",
              "      padding: 0 0 0 0;\n",
              "      width: 32px;\n",
              "    }\n",
              "\n",
              "    .colab-df-convert:hover {\n",
              "      background-color: #E2EBFA;\n",
              "      box-shadow: 0px 1px 2px rgba(60, 64, 67, 0.3), 0px 1px 3px 1px rgba(60, 64, 67, 0.15);\n",
              "      fill: #174EA6;\n",
              "    }\n",
              "\n",
              "    [theme=dark] .colab-df-convert {\n",
              "      background-color: #3B4455;\n",
              "      fill: #D2E3FC;\n",
              "    }\n",
              "\n",
              "    [theme=dark] .colab-df-convert:hover {\n",
              "      background-color: #434B5C;\n",
              "      box-shadow: 0px 1px 3px 1px rgba(0, 0, 0, 0.15);\n",
              "      filter: drop-shadow(0px 1px 2px rgba(0, 0, 0, 0.3));\n",
              "      fill: #FFFFFF;\n",
              "    }\n",
              "  </style>\n",
              "\n",
              "      <script>\n",
              "        const buttonEl =\n",
              "          document.querySelector('#df-4fee25f0-534c-44f1-9320-8a4c1a71e2b3 button.colab-df-convert');\n",
              "        buttonEl.style.display =\n",
              "          google.colab.kernel.accessAllowed ? 'block' : 'none';\n",
              "\n",
              "        async function convertToInteractive(key) {\n",
              "          const element = document.querySelector('#df-4fee25f0-534c-44f1-9320-8a4c1a71e2b3');\n",
              "          const dataTable =\n",
              "            await google.colab.kernel.invokeFunction('convertToInteractive',\n",
              "                                                     [key], {});\n",
              "          if (!dataTable) return;\n",
              "\n",
              "          const docLinkHtml = 'Like what you see? Visit the ' +\n",
              "            '<a target=\"_blank\" href=https://colab.research.google.com/notebooks/data_table.ipynb>data table notebook</a>'\n",
              "            + ' to learn more about interactive tables.';\n",
              "          element.innerHTML = '';\n",
              "          dataTable['output_type'] = 'display_data';\n",
              "          await google.colab.output.renderOutput(dataTable, element);\n",
              "          const docLink = document.createElement('div');\n",
              "          docLink.innerHTML = docLinkHtml;\n",
              "          element.appendChild(docLink);\n",
              "        }\n",
              "      </script>\n",
              "    </div>\n",
              "  </div>\n",
              "  "
            ]
          },
          "metadata": {},
          "execution_count": 38
        }
      ]
    },
    {
      "cell_type": "code",
      "source": [
        "from sklearn.model_selection import train_test_split\n",
        "\n",
        "X_train, X_test, y_train, y_test = train_test_split(\n",
        "  X,\n",
        "  Y,\n",
        "  test_size = 0.3,\n",
        "  random_state=42\n",
        ")"
      ],
      "metadata": {
        "id": "KC2Eof_BtoAo"
      },
      "execution_count": 39,
      "outputs": []
    },
    {
      "cell_type": "markdown",
      "source": [
        "Vamos separar 30% para teste e eliminar o fator randômico de nossa modelagem. para isso setamos a variável random_state=42, assim, se rodarmos várias vezes o modelo, sempre vamos utilizar o mesmo conjunto de teste e de treino.  \n",
        "\n",
        "Normalmente teríamos de ajeitar a ordem de grandeza dos atributos (normalizar os dados), mas como todos são binários (one-hot-encoding), não vamos precisar."
      ],
      "metadata": {
        "id": "EVwg7eMh0f_V"
      }
    },
    {
      "cell_type": "code",
      "source": [
        "from sklearn.neighbors import KNeighborsClassifier\n",
        "knn = KNeighborsClassifier().fit(X_train, y_train)"
      ],
      "metadata": {
        "id": "ZtNoA1J9yKZJ"
      },
      "execution_count": 40,
      "outputs": []
    },
    {
      "cell_type": "markdown",
      "source": [
        "O número de vizinhos por padrão é 5. Vamos com os valores padrão mesmo."
      ],
      "metadata": {
        "id": "pxPRWtCE05fv"
      }
    },
    {
      "cell_type": "code",
      "source": [
        "y_pred = knn.predict(X_test)"
      ],
      "metadata": {
        "id": "ChWTHMjF3iv2"
      },
      "execution_count": 41,
      "outputs": []
    },
    {
      "cell_type": "markdown",
      "source": [
        "Vamos a matrix de confusão:"
      ],
      "metadata": {
        "id": "SK0iS3N_4dZk"
      }
    },
    {
      "cell_type": "code",
      "source": [
        "from sklearn.metrics import confusion_matrix, classification_report, plot_confusion_matrix\n",
        "\n",
        "plot_confusion_matrix(knn, X_train, y_train)"
      ],
      "metadata": {
        "colab": {
          "base_uri": "https://localhost:8080/",
          "height": 386
        },
        "id": "d1oXmovZzvBA",
        "outputId": "bc23c215-49a0-4f16-ff60-b624fb1840f8"
      },
      "execution_count": 42,
      "outputs": [
        {
          "output_type": "stream",
          "name": "stderr",
          "text": [
            "/usr/local/lib/python3.8/dist-packages/sklearn/utils/deprecation.py:87: FutureWarning:\n",
            "\n",
            "Function plot_confusion_matrix is deprecated; Function `plot_confusion_matrix` is deprecated in 1.0 and will be removed in 1.2. Use one of the class methods: ConfusionMatrixDisplay.from_predictions or ConfusionMatrixDisplay.from_estimator.\n",
            "\n"
          ]
        },
        {
          "output_type": "execute_result",
          "data": {
            "text/plain": [
              "<sklearn.metrics._plot.confusion_matrix.ConfusionMatrixDisplay at 0x7f5c31d8abe0>"
            ]
          },
          "metadata": {},
          "execution_count": 42
        },
        {
          "output_type": "display_data",
          "data": {
            "text/plain": [
              "<Figure size 432x288 with 2 Axes>"
            ],
            "image/png": "[encoded data removed]"
          },
          "metadata": {
            "needs_background": "light"
          }
        }
      ]
    },
    {
      "cell_type": "markdown",
      "source": [
        "O modelo foi perfeito. Não errou nenhum.\n",
        "\n",
        "O primeiro quadrante traduz casos em que o modelo previu 0 (comestível) e acertou e o segundo quadrante seria o caso do modelo ter previsto comestível e na verdade não ser. Observemos que seu valor é 0.\n",
        "\n",
        "No terceiro quadrante, o modelo previu corretamente também tudo, ou seja, o modelo não previu nenhum valor venenosos como comestível e o quarto quadrante comprova que todos cogumelos venenosos foram \"previdos\" de forma correta.\n",
        "\n",
        "Vamos a alguns indicadores válidos para modelos de classificação. É importante testarmos o modelo com os dados de teste, para caso de ter ocorrido um \"overfitting\", quando o modelo se adequa perfeitamente aos dados de treino, mas performa mal com dados externos."
      ],
      "metadata": {
        "id": "JC72oRZG4gg0"
      }
    },
    {
      "cell_type": "code",
      "source": [
        "plot_confusion_matrix(knn, X_test, y_test)"
      ],
      "metadata": {
        "colab": {
          "base_uri": "https://localhost:8080/",
          "height": 386
        },
        "id": "oywW9VmY0SKN",
        "outputId": "7bf6ba9a-b003-4648-952d-db09852c0707"
      },
      "execution_count": 43,
      "outputs": [
        {
          "output_type": "stream",
          "name": "stderr",
          "text": [
            "/usr/local/lib/python3.8/dist-packages/sklearn/utils/deprecation.py:87: FutureWarning:\n",
            "\n",
            "Function plot_confusion_matrix is deprecated; Function `plot_confusion_matrix` is deprecated in 1.0 and will be removed in 1.2. Use one of the class methods: ConfusionMatrixDisplay.from_predictions or ConfusionMatrixDisplay.from_estimator.\n",
            "\n"
          ]
        },
        {
          "output_type": "execute_result",
          "data": {
            "text/plain": [
              "<sklearn.metrics._plot.confusion_matrix.ConfusionMatrixDisplay at 0x7f5c31d353d0>"
            ]
          },
          "metadata": {},
          "execution_count": 43
        },
        {
          "output_type": "display_data",
          "data": {
            "text/plain": [
              "<Figure size 432x288 with 2 Axes>"
            ],
            "image/png": "[encoded data removed]"
          },
          "metadata": {
            "needs_background": "light"
          }
        }
      ]
    },
    {
      "cell_type": "markdown",
      "source": [
        "No teste performou de forma perfeita também. Era de se esperar um modelo com alta precisão, umas vez que os dados são binários e há altos valores de correlação. Além disso, o dataset é pequeno e ajustado.\n",
        "\n",
        "\n",
        "Vamos aos indicadores:\n",
        "\n",
        "\n",
        "VP: Primeiro quadrante (verdadeiros positivos)\n",
        "FP: Segundo quadrante (falsos positivos)\n",
        "FN: Terceiro quadrante (Falsos negativos)\n",
        "VN: Quarto quadrante (Verdadeiros negativos)\n",
        "\n",
        "Precisão = VP / (VP + FP)\n",
        "\n",
        "Sensitividade = VP / (VP + FN) = Recall\n",
        "\n",
        "Especificidade = VN / (VN + FP)\n",
        "\n",
        "F1 = 2 x Precisão x Recall / Precisão + Recall\n",
        "\n",
        "\n",
        "Legal salientar que dependendo do caso, cada indicador tem um peso diferente e é por isso que a especificidade e o recall levam em consideração falsos positivos e negativos. Se estivéssemos prevendo, por exemplo, a taxa de sucesso do teste de COVID-19, um valor alto para falso negativo (FN) é muito mais prejudicial do que um falso positivo (FP), porque, na prática, uma pessoa com infectada poderia circular livremente ao invés de ficar em isolamento enquanto que uma pessoa não infectada, mas que o exame deu positivo, iria apenas ficar de quarentena sem necessidade.\n",
        "\n",
        "\n",
        "No nosso caso, é preferível ter um valor baixo em falsos negativos, uma vez que mesmo que o cogumelo seja comestível e o modelo indicar que não é, é menos nocivo do que o cogumelo ser venenoso e o modelo apontar que não."
      ],
      "metadata": {
        "id": "y75l7HoC5lJl"
      }
    },
    {
      "cell_type": "code",
      "source": [
        "from sklearn.metrics import confusion_matrix, classification_report, precision_score\n",
        "print(confusion_matrix(y_test, y_pred))\n",
        "print(precision_score(y_test, y_pred, average='macro'))\n",
        "print(classification_report(y_test, y_pred))"
      ],
      "metadata": {
        "colab": {
          "base_uri": "https://localhost:8080/"
        },
        "id": "l7nVVm6H759P",
        "outputId": "a7216123-751c-4069-867f-6a4f8690f80f"
      },
      "execution_count": 44,
      "outputs": [
        {
          "output_type": "stream",
          "name": "stdout",
          "text": [
            "[[1257    0]\n",
            " [   0 1181]]\n",
            "1.0\n",
            "              precision    recall  f1-score   support\n",
            "\n",
            "           0       1.00      1.00      1.00      1257\n",
            "           1       1.00      1.00      1.00      1181\n",
            "\n",
            "    accuracy                           1.00      2438\n",
            "   macro avg       1.00      1.00      1.00      2438\n",
            "weighted avg       1.00      1.00      1.00      2438\n",
            "\n"
          ]
        }
      ]
    },
    {
      "cell_type": "markdown",
      "source": [
        "Como está tudo 1, está tudo perfeito como comprova a matrix.\n",
        "\n",
        "A coluna support mostra o total, ou seja, tem 1257 elementos na primeira classe (que pode ser venenoso ou comestível) e ele acertou todos.\n",
        "\n",
        "Como extra, vamos fazer um teste e ver qual o número ideal de vizinhos ( de 1 a 50) e vamos observar isso graficamente:"
      ],
      "metadata": {
        "id": "BW75kiP58UCH"
      }
    },
    {
      "cell_type": "code",
      "source": [
        "precision = []\n",
        "\n",
        "for k in range(1, 50):\n",
        "  knn = KNeighborsClassifier(n_neighbors=k).fit(X_train, y_train)\n",
        "  pred_i = knn.predict(X_test)\n",
        "  prec_i = precision_score(y_test, pred_i, average='micro')\n",
        "  precision.append(prec_i)"
      ],
      "metadata": {
        "id": "KM-O1PtY8s6G"
      },
      "execution_count": 45,
      "outputs": []
    },
    {
      "cell_type": "code",
      "source": [
        "df3 = pd.DataFrame(dict(\n",
        "    x = range(1, 50),\n",
        "    y = precision))\n",
        "\n",
        "fig = px.line(df3, x=\"x\", y=\"y\", title='Variação da precisão do modelo alterando o número de K vizinhos')\n",
        "fig.show(renderer=\"png\")"
      ],
      "metadata": {
        "colab": {
          "base_uri": "https://localhost:8080/",
          "height": 517
        },
        "id": "fmH_wcgh9mxm",
        "outputId": "60b89dfb-2688-4aab-fd3e-0c61b9b574ff"
      },
      "execution_count": 47,
      "outputs": [
        {
          "output_type": "display_data",
          "data": {
            "image/png": "[encoded data removed]"
          },
          "metadata": {}
        }
      ]
    },
    {
      "cell_type": "markdown",
      "source": [
        "O modelo é tão ajustado que até 9 vizinhos a acuracidade é de 100%. Conforme vamos aumentando o  número de vizinhos, vai piorando, mas ainda assim fica acima de 99%."
      ],
      "metadata": {
        "id": "vS4EJesL-PHW"
      }
    }
  ]
}