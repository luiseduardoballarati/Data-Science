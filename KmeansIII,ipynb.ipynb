{
  "nbformat": 4,
  "nbformat_minor": 0,
  "metadata": {
    "colab": {
      "provenance": []
    },
    "kernelspec": {
      "name": "python3",
      "display_name": "Python 3"
    },
    "language_info": {
      "name": "python"
    }
  },
  "cells": [
    {
      "cell_type": "markdown",
      "source": [
        "# Trabalho Kmeans\n",
        "## dataset: análise e segmentação de clientes de um shopping\n",
        "\n",
        "Colunas presentes no dataset:\n",
        "\n",
        "- CustomerID: É o ID exclusivo dado a um cliente\n",
        "- Gênero: Gênero do cliente\n",
        "- Idade: a idade do cliente\n",
        "- Renda Anual(k$): É a renda anual do cliente\n",
        "- Pontuação de gastos: É a pontuação (de 100) dada a um cliente pelas autoridades do shopping, com base no dinheiro gasto e no comportamento do cliente.\n",
        "\n",
        "\n"
      ],
      "metadata": {
        "id": "3kqoUZJ0JKcc"
      }
    },
    {
      "cell_type": "code",
      "source": [
        "from google.colab import drive\n",
        "drive.mount('/content/drive')"
      ],
      "metadata": {
        "colab": {
          "base_uri": "https://localhost:8080/"
        },
        "id": "fP9gAae_GjpJ",
        "outputId": "ffa10794-11ec-43b6-e34e-00caa5445656"
      },
      "execution_count": 1,
      "outputs": [
        {
          "output_type": "stream",
          "name": "stdout",
          "text": [
            "Mounted at /content/drive\n"
          ]
        }
      ]
    },
    {
      "cell_type": "markdown",
      "source": [
        "## Imports necessários"
      ],
      "metadata": {
        "id": "kQsc2eqOJesE"
      }
    },
    {
      "cell_type": "code",
      "execution_count": 2,
      "metadata": {
        "id": "npTHFxdtIZzU"
      },
      "outputs": [],
      "source": [
        "import pandas as pd\n",
        "import seaborn as sns\n",
        "from sklearn.cluster import KMeans "
      ]
    },
    {
      "cell_type": "markdown",
      "source": [
        "## Leitura do dataset e análises estatísticas iniciais:"
      ],
      "metadata": {
        "id": "2jCSROEMJhkE"
      }
    },
    {
      "cell_type": "code",
      "source": [
        "df = pd.read_csv('/content/drive/MyDrive/Colab Notebooks/datasets/Mall_Customers.csv')\n",
        "df.head()"
      ],
      "metadata": {
        "colab": {
          "base_uri": "https://localhost:8080/",
          "height": 206
        },
        "id": "-qNkuWBtIvzT",
        "outputId": "d15cd88a-fa86-474c-ac51-0df655356d8c"
      },
      "execution_count": 3,
      "outputs": [
        {
          "output_type": "execute_result",
          "data": {
            "text/plain": [
              "   CustomerID   Genre  Age  Annual Income (k$)  Spending Score (1-100)\n",
              "0           1    Male   19                  15                      39\n",
              "1           2    Male   21                  15                      81\n",
              "2           3  Female   20                  16                       6\n",
              "3           4  Female   23                  16                      77\n",
              "4           5  Female   31                  17                      40"
            ],
            "text/html": [
              "\n",
              "  <div id=\"df-d66dcd5a-9df5-402c-b1a2-f516cbc8807b\">\n",
              "    <div class=\"colab-df-container\">\n",
              "      <div>\n",
              "<style scoped>\n",
              "    .dataframe tbody tr th:only-of-type {\n",
              "        vertical-align: middle;\n",
              "    }\n",
              "\n",
              "    .dataframe tbody tr th {\n",
              "        vertical-align: top;\n",
              "    }\n",
              "\n",
              "    .dataframe thead th {\n",
              "        text-align: right;\n",
              "    }\n",
              "</style>\n",
              "<table border=\"1\" class=\"dataframe\">\n",
              "  <thead>\n",
              "    <tr style=\"text-align: right;\">\n",
              "      <th></th>\n",
              "      <th>CustomerID</th>\n",
              "      <th>Genre</th>\n",
              "      <th>Age</th>\n",
              "      <th>Annual Income (k$)</th>\n",
              "      <th>Spending Score (1-100)</th>\n",
              "    </tr>\n",
              "  </thead>\n",
              "  <tbody>\n",
              "    <tr>\n",
              "      <th>0</th>\n",
              "      <td>1</td>\n",
              "      <td>Male</td>\n",
              "      <td>19</td>\n",
              "      <td>15</td>\n",
              "      <td>39</td>\n",
              "    </tr>\n",
              "    <tr>\n",
              "      <th>1</th>\n",
              "      <td>2</td>\n",
              "      <td>Male</td>\n",
              "      <td>21</td>\n",
              "      <td>15</td>\n",
              "      <td>81</td>\n",
              "    </tr>\n",
              "    <tr>\n",
              "      <th>2</th>\n",
              "      <td>3</td>\n",
              "      <td>Female</td>\n",
              "      <td>20</td>\n",
              "      <td>16</td>\n",
              "      <td>6</td>\n",
              "    </tr>\n",
              "    <tr>\n",
              "      <th>3</th>\n",
              "      <td>4</td>\n",
              "      <td>Female</td>\n",
              "      <td>23</td>\n",
              "      <td>16</td>\n",
              "      <td>77</td>\n",
              "    </tr>\n",
              "    <tr>\n",
              "      <th>4</th>\n",
              "      <td>5</td>\n",
              "      <td>Female</td>\n",
              "      <td>31</td>\n",
              "      <td>17</td>\n",
              "      <td>40</td>\n",
              "    </tr>\n",
              "  </tbody>\n",
              "</table>\n",
              "</div>\n",
              "      <button class=\"colab-df-convert\" onclick=\"convertToInteractive('df-d66dcd5a-9df5-402c-b1a2-f516cbc8807b')\"\n",
              "              title=\"Convert this dataframe to an interactive table.\"\n",
              "              style=\"display:none;\">\n",
              "        \n",
              "  <svg xmlns=\"http://www.w3.org/2000/svg\" height=\"24px\"viewBox=\"0 0 24 24\"\n",
              "       width=\"24px\">\n",
              "    <path d=\"M0 0h24v24H0V0z\" fill=\"none\"/>\n",
              "    <path d=\"M18.56 5.44l.94 2.06.94-2.06 2.06-.94-2.06-.94-.94-2.06-.94 2.06-2.06.94zm-11 1L8.5 8.5l.94-2.06 2.06-.94-2.06-.94L8.5 2.5l-.94 2.06-2.06.94zm10 10l.94 2.06.94-2.06 2.06-.94-2.06-.94-.94-2.06-.94 2.06-2.06.94z\"/><path d=\"M17.41 7.96l-1.37-1.37c-.4-.4-.92-.59-1.43-.59-.52 0-1.04.2-1.43.59L10.3 9.45l-7.72 7.72c-.78.78-.78 2.05 0 2.83L4 21.41c.39.39.9.59 1.41.59.51 0 1.02-.2 1.41-.59l7.78-7.78 2.81-2.81c.8-.78.8-2.07 0-2.86zM5.41 20L4 18.59l7.72-7.72 1.47 1.35L5.41 20z\"/>\n",
              "  </svg>\n",
              "      </button>\n",
              "      \n",
              "  <style>\n",
              "    .colab-df-container {\n",
              "      display:flex;\n",
              "      flex-wrap:wrap;\n",
              "      gap: 12px;\n",
              "    }\n",
              "\n",
              "    .colab-df-convert {\n",
              "      background-color: #E8F0FE;\n",
              "      border: none;\n",
              "      border-radius: 50%;\n",
              "      cursor: pointer;\n",
              "      display: none;\n",
              "      fill: #1967D2;\n",
              "      height: 32px;\n",
              "      padding: 0 0 0 0;\n",
              "      width: 32px;\n",
              "    }\n",
              "\n",
              "    .colab-df-convert:hover {\n",
              "      background-color: #E2EBFA;\n",
              "      box-shadow: 0px 1px 2px rgba(60, 64, 67, 0.3), 0px 1px 3px 1px rgba(60, 64, 67, 0.15);\n",
              "      fill: #174EA6;\n",
              "    }\n",
              "\n",
              "    [theme=dark] .colab-df-convert {\n",
              "      background-color: #3B4455;\n",
              "      fill: #D2E3FC;\n",
              "    }\n",
              "\n",
              "    [theme=dark] .colab-df-convert:hover {\n",
              "      background-color: #434B5C;\n",
              "      box-shadow: 0px 1px 3px 1px rgba(0, 0, 0, 0.15);\n",
              "      filter: drop-shadow(0px 1px 2px rgba(0, 0, 0, 0.3));\n",
              "      fill: #FFFFFF;\n",
              "    }\n",
              "  </style>\n",
              "\n",
              "      <script>\n",
              "        const buttonEl =\n",
              "          document.querySelector('#df-d66dcd5a-9df5-402c-b1a2-f516cbc8807b button.colab-df-convert');\n",
              "        buttonEl.style.display =\n",
              "          google.colab.kernel.accessAllowed ? 'block' : 'none';\n",
              "\n",
              "        async function convertToInteractive(key) {\n",
              "          const element = document.querySelector('#df-d66dcd5a-9df5-402c-b1a2-f516cbc8807b');\n",
              "          const dataTable =\n",
              "            await google.colab.kernel.invokeFunction('convertToInteractive',\n",
              "                                                     [key], {});\n",
              "          if (!dataTable) return;\n",
              "\n",
              "          const docLinkHtml = 'Like what you see? Visit the ' +\n",
              "            '<a target=\"_blank\" href=https://colab.research.google.com/notebooks/data_table.ipynb>data table notebook</a>'\n",
              "            + ' to learn more about interactive tables.';\n",
              "          element.innerHTML = '';\n",
              "          dataTable['output_type'] = 'display_data';\n",
              "          await google.colab.output.renderOutput(dataTable, element);\n",
              "          const docLink = document.createElement('div');\n",
              "          docLink.innerHTML = docLinkHtml;\n",
              "          element.appendChild(docLink);\n",
              "        }\n",
              "      </script>\n",
              "    </div>\n",
              "  </div>\n",
              "  "
            ]
          },
          "metadata": {},
          "execution_count": 3
        }
      ]
    },
    {
      "cell_type": "markdown",
      "source": [
        "O dataset tem 5 colunas, sendo 4 numéricas e uma categórica nominal."
      ],
      "metadata": {
        "id": "mE8iA_fhwcg7"
      }
    },
    {
      "cell_type": "code",
      "source": [
        "df.shape"
      ],
      "metadata": {
        "colab": {
          "base_uri": "https://localhost:8080/"
        },
        "id": "4GBPyxQDI_ot",
        "outputId": "b22dc2e9-7410-450b-9c80-e4ac8ecd6aa8"
      },
      "execution_count": 4,
      "outputs": [
        {
          "output_type": "execute_result",
          "data": {
            "text/plain": [
              "(200, 5)"
            ]
          },
          "metadata": {},
          "execution_count": 4
        }
      ]
    },
    {
      "cell_type": "code",
      "source": [
        "df.describe()"
      ],
      "metadata": {
        "colab": {
          "base_uri": "https://localhost:8080/",
          "height": 300
        },
        "id": "byNZV-XBJpJd",
        "outputId": "eb8bfe6a-5d03-4cab-950c-a7a2b84fd56d"
      },
      "execution_count": 5,
      "outputs": [
        {
          "output_type": "execute_result",
          "data": {
            "text/plain": [
              "       CustomerID         Age  Annual Income (k$)  Spending Score (1-100)\n",
              "count  200.000000  200.000000          200.000000              200.000000\n",
              "mean   100.500000   38.850000           60.560000               50.200000\n",
              "std     57.879185   13.969007           26.264721               25.823522\n",
              "min      1.000000   18.000000           15.000000                1.000000\n",
              "25%     50.750000   28.750000           41.500000               34.750000\n",
              "50%    100.500000   36.000000           61.500000               50.000000\n",
              "75%    150.250000   49.000000           78.000000               73.000000\n",
              "max    200.000000   70.000000          137.000000               99.000000"
            ],
            "text/html": [
              "\n",
              "  <div id=\"df-6fa82e3d-74d9-4343-a634-ab14423a388e\">\n",
              "    <div class=\"colab-df-container\">\n",
              "      <div>\n",
              "<style scoped>\n",
              "    .dataframe tbody tr th:only-of-type {\n",
              "        vertical-align: middle;\n",
              "    }\n",
              "\n",
              "    .dataframe tbody tr th {\n",
              "        vertical-align: top;\n",
              "    }\n",
              "\n",
              "    .dataframe thead th {\n",
              "        text-align: right;\n",
              "    }\n",
              "</style>\n",
              "<table border=\"1\" class=\"dataframe\">\n",
              "  <thead>\n",
              "    <tr style=\"text-align: right;\">\n",
              "      <th></th>\n",
              "      <th>CustomerID</th>\n",
              "      <th>Age</th>\n",
              "      <th>Annual Income (k$)</th>\n",
              "      <th>Spending Score (1-100)</th>\n",
              "    </tr>\n",
              "  </thead>\n",
              "  <tbody>\n",
              "    <tr>\n",
              "      <th>count</th>\n",
              "      <td>200.000000</td>\n",
              "      <td>200.000000</td>\n",
              "      <td>200.000000</td>\n",
              "      <td>200.000000</td>\n",
              "    </tr>\n",
              "    <tr>\n",
              "      <th>mean</th>\n",
              "      <td>100.500000</td>\n",
              "      <td>38.850000</td>\n",
              "      <td>60.560000</td>\n",
              "      <td>50.200000</td>\n",
              "    </tr>\n",
              "    <tr>\n",
              "      <th>std</th>\n",
              "      <td>57.879185</td>\n",
              "      <td>13.969007</td>\n",
              "      <td>26.264721</td>\n",
              "      <td>25.823522</td>\n",
              "    </tr>\n",
              "    <tr>\n",
              "      <th>min</th>\n",
              "      <td>1.000000</td>\n",
              "      <td>18.000000</td>\n",
              "      <td>15.000000</td>\n",
              "      <td>1.000000</td>\n",
              "    </tr>\n",
              "    <tr>\n",
              "      <th>25%</th>\n",
              "      <td>50.750000</td>\n",
              "      <td>28.750000</td>\n",
              "      <td>41.500000</td>\n",
              "      <td>34.750000</td>\n",
              "    </tr>\n",
              "    <tr>\n",
              "      <th>50%</th>\n",
              "      <td>100.500000</td>\n",
              "      <td>36.000000</td>\n",
              "      <td>61.500000</td>\n",
              "      <td>50.000000</td>\n",
              "    </tr>\n",
              "    <tr>\n",
              "      <th>75%</th>\n",
              "      <td>150.250000</td>\n",
              "      <td>49.000000</td>\n",
              "      <td>78.000000</td>\n",
              "      <td>73.000000</td>\n",
              "    </tr>\n",
              "    <tr>\n",
              "      <th>max</th>\n",
              "      <td>200.000000</td>\n",
              "      <td>70.000000</td>\n",
              "      <td>137.000000</td>\n",
              "      <td>99.000000</td>\n",
              "    </tr>\n",
              "  </tbody>\n",
              "</table>\n",
              "</div>\n",
              "      <button class=\"colab-df-convert\" onclick=\"convertToInteractive('df-6fa82e3d-74d9-4343-a634-ab14423a388e')\"\n",
              "              title=\"Convert this dataframe to an interactive table.\"\n",
              "              style=\"display:none;\">\n",
              "        \n",
              "  <svg xmlns=\"http://www.w3.org/2000/svg\" height=\"24px\"viewBox=\"0 0 24 24\"\n",
              "       width=\"24px\">\n",
              "    <path d=\"M0 0h24v24H0V0z\" fill=\"none\"/>\n",
              "    <path d=\"M18.56 5.44l.94 2.06.94-2.06 2.06-.94-2.06-.94-.94-2.06-.94 2.06-2.06.94zm-11 1L8.5 8.5l.94-2.06 2.06-.94-2.06-.94L8.5 2.5l-.94 2.06-2.06.94zm10 10l.94 2.06.94-2.06 2.06-.94-2.06-.94-.94-2.06-.94 2.06-2.06.94z\"/><path d=\"M17.41 7.96l-1.37-1.37c-.4-.4-.92-.59-1.43-.59-.52 0-1.04.2-1.43.59L10.3 9.45l-7.72 7.72c-.78.78-.78 2.05 0 2.83L4 21.41c.39.39.9.59 1.41.59.51 0 1.02-.2 1.41-.59l7.78-7.78 2.81-2.81c.8-.78.8-2.07 0-2.86zM5.41 20L4 18.59l7.72-7.72 1.47 1.35L5.41 20z\"/>\n",
              "  </svg>\n",
              "      </button>\n",
              "      \n",
              "  <style>\n",
              "    .colab-df-container {\n",
              "      display:flex;\n",
              "      flex-wrap:wrap;\n",
              "      gap: 12px;\n",
              "    }\n",
              "\n",
              "    .colab-df-convert {\n",
              "      background-color: #E8F0FE;\n",
              "      border: none;\n",
              "      border-radius: 50%;\n",
              "      cursor: pointer;\n",
              "      display: none;\n",
              "      fill: #1967D2;\n",
              "      height: 32px;\n",
              "      padding: 0 0 0 0;\n",
              "      width: 32px;\n",
              "    }\n",
              "\n",
              "    .colab-df-convert:hover {\n",
              "      background-color: #E2EBFA;\n",
              "      box-shadow: 0px 1px 2px rgba(60, 64, 67, 0.3), 0px 1px 3px 1px rgba(60, 64, 67, 0.15);\n",
              "      fill: #174EA6;\n",
              "    }\n",
              "\n",
              "    [theme=dark] .colab-df-convert {\n",
              "      background-color: #3B4455;\n",
              "      fill: #D2E3FC;\n",
              "    }\n",
              "\n",
              "    [theme=dark] .colab-df-convert:hover {\n",
              "      background-color: #434B5C;\n",
              "      box-shadow: 0px 1px 3px 1px rgba(0, 0, 0, 0.15);\n",
              "      filter: drop-shadow(0px 1px 2px rgba(0, 0, 0, 0.3));\n",
              "      fill: #FFFFFF;\n",
              "    }\n",
              "  </style>\n",
              "\n",
              "      <script>\n",
              "        const buttonEl =\n",
              "          document.querySelector('#df-6fa82e3d-74d9-4343-a634-ab14423a388e button.colab-df-convert');\n",
              "        buttonEl.style.display =\n",
              "          google.colab.kernel.accessAllowed ? 'block' : 'none';\n",
              "\n",
              "        async function convertToInteractive(key) {\n",
              "          const element = document.querySelector('#df-6fa82e3d-74d9-4343-a634-ab14423a388e');\n",
              "          const dataTable =\n",
              "            await google.colab.kernel.invokeFunction('convertToInteractive',\n",
              "                                                     [key], {});\n",
              "          if (!dataTable) return;\n",
              "\n",
              "          const docLinkHtml = 'Like what you see? Visit the ' +\n",
              "            '<a target=\"_blank\" href=https://colab.research.google.com/notebooks/data_table.ipynb>data table notebook</a>'\n",
              "            + ' to learn more about interactive tables.';\n",
              "          element.innerHTML = '';\n",
              "          dataTable['output_type'] = 'display_data';\n",
              "          await google.colab.output.renderOutput(dataTable, element);\n",
              "          const docLink = document.createElement('div');\n",
              "          docLink.innerHTML = docLinkHtml;\n",
              "          element.appendChild(docLink);\n",
              "        }\n",
              "      </script>\n",
              "    </div>\n",
              "  </div>\n",
              "  "
            ]
          },
          "metadata": {},
          "execution_count": 5
        }
      ]
    },
    {
      "cell_type": "markdown",
      "source": [
        "Olhando de maneira superficial, os dados fazem sentido:\n",
        "- a idade mínima é de 18 anos, o que faz sentido e a idade máxima de 70. Idades super plausíveis.\n",
        "- a renda anual mínima foi de \\$ 15.000 e a máxima \\$ 137.000, também dentro dos conformes.\n",
        "- por fim, o intervalo de quanto se gasta na ida ao shopping desses clientes ficou entre \\$ 1 e \\$ 99, o intervalo proposto na feature. De acordo."
      ],
      "metadata": {
        "id": "ZOFa9hvkwpVT"
      }
    },
    {
      "cell_type": "code",
      "source": [
        "df.info()"
      ],
      "metadata": {
        "colab": {
          "base_uri": "https://localhost:8080/"
        },
        "id": "mlPG34ahJ6S7",
        "outputId": "e1ac6fef-8a75-45f6-ac32-12b0e7d9d817"
      },
      "execution_count": 6,
      "outputs": [
        {
          "output_type": "stream",
          "name": "stdout",
          "text": [
            "<class 'pandas.core.frame.DataFrame'>\n",
            "RangeIndex: 200 entries, 0 to 199\n",
            "Data columns (total 5 columns):\n",
            " #   Column                  Non-Null Count  Dtype \n",
            "---  ------                  --------------  ----- \n",
            " 0   CustomerID              200 non-null    int64 \n",
            " 1   Genre                   200 non-null    object\n",
            " 2   Age                     200 non-null    int64 \n",
            " 3   Annual Income (k$)      200 non-null    int64 \n",
            " 4   Spending Score (1-100)  200 non-null    int64 \n",
            "dtypes: int64(4), object(1)\n",
            "memory usage: 7.9+ KB\n"
          ]
        }
      ]
    },
    {
      "cell_type": "markdown",
      "source": [
        "Com essa informação vemos que não temos dados faltantes.\n",
        "Além disso, podemos observar com o comando describe() acima que não temos valores = 0 (eles apareceriam no 'mínimo'). Isso é bom porquê às vezes os valores = 0 podem atrapalhar as análises."
      ],
      "metadata": {
        "id": "PjcPpQEJxQby"
      }
    },
    {
      "cell_type": "code",
      "source": [
        "print(f\"Média da idade dos clientes do shopping: {round(df['Age'].mean())}\")\n",
        "print(f\"Média de renda anual dos clientes do shopping: {df['Annual Income (k$)'].mean()}\")\n",
        "print(f\"Média de gasto dos clientes do shopping: {df['Spending Score (1-100)'].mean()}\")"
      ],
      "metadata": {
        "colab": {
          "base_uri": "https://localhost:8080/"
        },
        "id": "IGOsPz3FJ8Zc",
        "outputId": "e0bdd72a-ba60-4513-88da-c9bb5a11b512"
      },
      "execution_count": 7,
      "outputs": [
        {
          "output_type": "stream",
          "name": "stdout",
          "text": [
            "Média da idade dos clientes do shopping: 39\n",
            "Média de renda anual dos clientes do shopping: 60.56\n",
            "Média de gasto dos clientes do shopping: 50.2\n"
          ]
        }
      ]
    },
    {
      "cell_type": "markdown",
      "source": [
        "## Análise Exploratória\n",
        "\n",
        "Primeira coisa, vamos observar a diferença do comportamento dos clientes homens e mulheres.\n",
        "\n",
        "A começar que temos mais mulheres no dataset:"
      ],
      "metadata": {
        "id": "IfIDvPOsyKbR"
      }
    },
    {
      "cell_type": "code",
      "source": [
        "df.Genre.value_counts()"
      ],
      "metadata": {
        "colab": {
          "base_uri": "https://localhost:8080/"
        },
        "id": "AlYHDHhXysNx",
        "outputId": "a9f9913b-327a-48be-9ec1-51afc7979ed3"
      },
      "execution_count": 8,
      "outputs": [
        {
          "output_type": "execute_result",
          "data": {
            "text/plain": [
              "Female    112\n",
              "Male       88\n",
              "Name: Genre, dtype: int64"
            ]
          },
          "metadata": {},
          "execution_count": 8
        }
      ]
    },
    {
      "cell_type": "code",
      "source": [
        "df.columns"
      ],
      "metadata": {
        "colab": {
          "base_uri": "https://localhost:8080/"
        },
        "id": "BHmwzpAjzWgS",
        "outputId": "75a5bb39-1b67-4731-ff20-4309f0d40c62"
      },
      "execution_count": 9,
      "outputs": [
        {
          "output_type": "execute_result",
          "data": {
            "text/plain": [
              "Index(['CustomerID', 'Genre', 'Age', 'Annual Income (k$)',\n",
              "       'Spending Score (1-100)'],\n",
              "      dtype='object')"
            ]
          },
          "metadata": {},
          "execution_count": 9
        }
      ]
    },
    {
      "cell_type": "code",
      "source": [
        "sns.set_theme(style=\"whitegrid\")\n",
        "sns.histplot(data=df, x=\"Age\", hue=\"Genre\", kde=True)"
      ],
      "metadata": {
        "colab": {
          "base_uri": "https://localhost:8080/",
          "height": 302
        },
        "id": "Ycw3g_o_zIiZ",
        "outputId": "421078a0-7abe-48a6-e5cd-b42a6ea78681"
      },
      "execution_count": 10,
      "outputs": [
        {
          "output_type": "execute_result",
          "data": {
            "text/plain": [
              "<matplotlib.axes._subplots.AxesSubplot at 0x7f8bd9445ca0>"
            ]
          },
          "metadata": {},
          "execution_count": 10
        },
        {
          "output_type": "display_data",
          "data": {
            "text/plain": [
              "<Figure size 432x288 with 1 Axes>"
            ],
            "image/png": "[encoded data removed]"
          },
          "metadata": {}
        }
      ]
    },
    {
      "cell_type": "markdown",
      "source": [
        "Olhando o histograma acima, podemos perceber que no geral há mais mulheres com 20 a 60 anos: ou seja, contando todas as pessoas que tem entre 20 e 60 anos, a maioria é mulher. Isso é bem razoável pensando que há mais mulheres no dataset.\n",
        "\n",
        "Entretanto, as pessoas de idade que frequentam o shopping são em sua maioria homens, ou seja, há mais idosos (acima de 60 anos) que idosas na base. Entretanto, a idade predominante dos homens na base é entre30 e 35 anos."
      ],
      "metadata": {
        "id": "5L51HRfw3ClC"
      }
    },
    {
      "cell_type": "code",
      "source": [
        "print(\"Idade média dos homens que frequentam o shopping: \")\n",
        "print(df.query('Genre == \"Male\"')['Age'].mean())\n",
        "print(\"Idade média das mulheres que frequentam o shopping: \")\n",
        "print(df.query('Genre == \"Female\"')['Age'].mean())"
      ],
      "metadata": {
        "colab": {
          "base_uri": "https://localhost:8080/"
        },
        "id": "RcmlPczW3y23",
        "outputId": "93955b57-dc50-4171-da7a-550d69db9324"
      },
      "execution_count": 11,
      "outputs": [
        {
          "output_type": "stream",
          "name": "stdout",
          "text": [
            "Idade média dos homens que frequentam o shopping: \n",
            "39.80681818181818\n",
            "Idade média das mulheres que frequentam o shopping: \n",
            "38.098214285714285\n"
          ]
        }
      ]
    },
    {
      "cell_type": "markdown",
      "source": [
        "Apesar da média ser próxima para os dois gêneros, podemos observar pelo histograma que o comportamento é diferente.\n",
        "\n",
        "Vamos confirmar com o desvio padrão e a mediana:"
      ],
      "metadata": {
        "id": "Q6fPxaGw6D8Q"
      }
    },
    {
      "cell_type": "code",
      "source": [
        "print(\"Mediana da idade dos homens que frequentam o shopping: \")\n",
        "print(df.query('Genre == \"Male\"')['Age'].median())\n",
        "print(\"Mediana da idade das mulheres que frequentam o shopping: \")\n",
        "print(df.query('Genre == \"Female\"')['Age'].median())"
      ],
      "metadata": {
        "colab": {
          "base_uri": "https://localhost:8080/"
        },
        "id": "8J9ZXdER6Pz-",
        "outputId": "a6d35b3d-155b-4cc9-e324-9ce8927ede38"
      },
      "execution_count": 12,
      "outputs": [
        {
          "output_type": "stream",
          "name": "stdout",
          "text": [
            "Mediana da idade dos homens que frequentam o shopping: \n",
            "37.0\n",
            "Mediana da idade das mulheres que frequentam o shopping: \n",
            "35.0\n"
          ]
        }
      ]
    },
    {
      "cell_type": "markdown",
      "source": [
        "A mediana é uma métrica que divide os dados no meio, ou seja, separa a metade maior e a menor. Estatisticamete, não deu para confirmar muita coisa, mas temos uma hipóteses de que por conta da média das mulheres ser de 38 e a mediana de 35, há mais mulheres com menos de 35 anos do que com mais na base.\n",
        "\n",
        "À confirmar:"
      ],
      "metadata": {
        "id": "-nCbdQxLPtD0"
      }
    },
    {
      "cell_type": "code",
      "source": [
        "print(f'Número de mulheres com 35 anos ou menos: {df.loc[(df[\"Genre\"]==\"Female\") & (df[\"Age\"]<= 35)][\"CustomerID\"].count()}')\n",
        "print(f'Número de mulheres com 36 anos ou mais: {df.loc[(df[\"Genre\"]==\"Female\") & (df[\"Age\"]>= 36)][\"CustomerID\"].count()}')\n",
        "print(f'Número de mulheres com 35 anos: {df.loc[(df[\"Genre\"]==\"Female\") & (df[\"Age\"]== 35)][\"CustomerID\"].count()}')"
      ],
      "metadata": {
        "colab": {
          "base_uri": "https://localhost:8080/"
        },
        "id": "HJVEGeZFPzl1",
        "outputId": "05977d2a-79c9-4d63-97b4-6da4007ff1bc"
      },
      "execution_count": 13,
      "outputs": [
        {
          "output_type": "stream",
          "name": "stdout",
          "text": [
            "Número de mulheres com 35 anos ou menos: 57\n",
            "Número de mulheres com 36 anos ou mais: 55\n",
            "Número de mulheres com 35 anos: 6\n"
          ]
        }
      ]
    },
    {
      "cell_type": "markdown",
      "source": [
        "É bem pouquinho, mas de fato há mais mulheres com menos de 35 do que com mais."
      ],
      "metadata": {
        "id": "XlGuBZ9uRcG7"
      }
    },
    {
      "cell_type": "code",
      "source": [
        "print(\"Desvio padrão da idade dos homens que frequentam o shopping: \")\n",
        "print(df.query('Genre == \"Male\"')['Age'].std())\n",
        "print(\"Desvio padrão da idade das mulheres que frequentam o shopping: \")\n",
        "print(df.query('Genre == \"Female\"')['Age'].std())"
      ],
      "metadata": {
        "colab": {
          "base_uri": "https://localhost:8080/"
        },
        "id": "eMqRX-ZQ6XIf",
        "outputId": "aebccbe5-b59b-4f48-9256-6d28711ffe0e"
      },
      "execution_count": 14,
      "outputs": [
        {
          "output_type": "stream",
          "name": "stdout",
          "text": [
            "Desvio padrão da idade dos homens que frequentam o shopping: \n",
            "15.514811576858186\n",
            "Desvio padrão da idade das mulheres que frequentam o shopping: \n",
            "12.644095457392353\n"
          ]
        }
      ]
    },
    {
      "cell_type": "markdown",
      "source": [
        "O desvio padrão revela que a idade das mulheres varia menos, ou seja, a idade das mulheres é mais perto da média feminina, tem menos valores distantes de 38 anos.\n",
        "\n",
        "Já o desvio padrão masculino indica que há maior variabilidade na idade.\n",
        "\n",
        "Vamos observar a renda anual dos clientes agora:"
      ],
      "metadata": {
        "id": "AXLZAC81QggD"
      }
    },
    {
      "cell_type": "code",
      "source": [
        "sns.set_theme(style=\"whitegrid\")\n",
        "sns.histplot(data=df, x=\"Annual Income (k$)\", hue=\"Genre\", kde=True)"
      ],
      "metadata": {
        "colab": {
          "base_uri": "https://localhost:8080/",
          "height": 302
        },
        "id": "1QoTTXX3zzjL",
        "outputId": "5b4d519b-a8ab-459e-e449-bc400c5c6b8a"
      },
      "execution_count": 15,
      "outputs": [
        {
          "output_type": "execute_result",
          "data": {
            "text/plain": [
              "<matplotlib.axes._subplots.AxesSubplot at 0x7f8bd940daf0>"
            ]
          },
          "metadata": {},
          "execution_count": 15
        },
        {
          "output_type": "display_data",
          "data": {
            "text/plain": [
              "<Figure size 432x288 with 1 Axes>"
            ],
            "image/png": "[encoded data removed]"
          },
          "metadata": {}
        }
      ]
    },
    {
      "cell_type": "markdown",
      "source": [
        "No geral, é cabível dizer que as mulheres recebem melhor do que os homens nessa base. Isso pode ser por conta de haver mais mulheres ou não, mas de acordo com o gráfico, para salários anuais de até \\$ 50 mil, as mulheres recebem mais. Salários no intervalo de \\$ 50 a \\$ 60 e de \\$ 70 a \\$ 100, os homens recebem mais e por fim salários maiores que \\$ 100 e menores que \\$ 130 as mulheres voltam a estar na frente.\n",
        "\n",
        "Vamos observar somado quem recebeu mais no período da base:"
      ],
      "metadata": {
        "id": "kimhSLDhQ2Bq"
      }
    },
    {
      "cell_type": "code",
      "source": [
        "print(\"Renda anual total masculina no período da base: \")\n",
        "print(df.query('Genre == \"Male\"')['Annual Income (k$)'].sum())\n",
        "print(\"Renda total feminina no período da base: \")\n",
        "print(df.query('Genre == \"Female\"')['Annual Income (k$)'].sum())"
      ],
      "metadata": {
        "colab": {
          "base_uri": "https://localhost:8080/"
        },
        "id": "PaCRuxuESk_N",
        "outputId": "fbad4bf4-784c-46a8-e59f-c64c13ec1ef3"
      },
      "execution_count": 16,
      "outputs": [
        {
          "output_type": "stream",
          "name": "stdout",
          "text": [
            "Renda anual total masculina no período da base: \n",
            "5476\n",
            "Renda total feminina no período da base: \n",
            "6636\n"
          ]
        }
      ]
    },
    {
      "cell_type": "markdown",
      "source": [
        "\n",
        "Na base, as mulheres ganham mais dinheiro que os homens anualmente. Pode ser, novamente, por conta de haver mais mulheres no dataset, então não se pode afirmar muita coisa por hora.\n",
        "\n",
        "Vamos ver na média quanto ganha anualmente cada gênero:\n",
        "\n"
      ],
      "metadata": {
        "id": "FPw3ouwFSlNI"
      }
    },
    {
      "cell_type": "code",
      "source": [
        "print(\"Renda anual média masculina no período da base: \")\n",
        "print(df.query('Genre == \"Male\"')['Annual Income (k$)'].mean())\n",
        "print(\"Renda média feminina no período da base: \")\n",
        "print(df.query('Genre == \"Female\"')['Annual Income (k$)'].mean())"
      ],
      "metadata": {
        "colab": {
          "base_uri": "https://localhost:8080/"
        },
        "id": "73cmaxFPTcph",
        "outputId": "9d779f0c-adf3-4486-9f91-0362f696554c"
      },
      "execution_count": 17,
      "outputs": [
        {
          "output_type": "stream",
          "name": "stdout",
          "text": [
            "Renda anual média masculina no período da base: \n",
            "62.22727272727273\n",
            "Renda média feminina no período da base: \n",
            "59.25\n"
          ]
        }
      ]
    },
    {
      "cell_type": "markdown",
      "source": [
        "De fato, a média nos leva a crer que a soma do salário anual das mulheres é maior que o dos homens por haver mais mulheres na base, não por elas receberem mais. Entretanto, o gráfico que melhor explicou esse comportamento foi o histograma algumas células acima.\n",
        "\n",
        "Interessante. Agora vamos observar a última feature para avaliar quem gasta mais."
      ],
      "metadata": {
        "id": "HPDquvR3Tc0Z"
      }
    },
    {
      "cell_type": "code",
      "source": [
        "sns.set_theme(style=\"whitegrid\")\n",
        "sns.histplot(data=df, x=\"Spending Score (1-100)\", hue=\"Genre\", kde=True)"
      ],
      "metadata": {
        "colab": {
          "base_uri": "https://localhost:8080/",
          "height": 304
        },
        "id": "VZFv2-hz28iZ",
        "outputId": "dfa2d1ef-c4ca-4d17-91f2-a4a090f74dee"
      },
      "execution_count": 18,
      "outputs": [
        {
          "output_type": "execute_result",
          "data": {
            "text/plain": [
              "<matplotlib.axes._subplots.AxesSubplot at 0x7f8bd6e10760>"
            ]
          },
          "metadata": {},
          "execution_count": 18
        },
        {
          "output_type": "display_data",
          "data": {
            "text/plain": [
              "<Figure size 432x288 with 1 Axes>"
            ],
            "image/png": "[encoded data removed]"
          },
          "metadata": {}
        }
      ]
    },
    {
      "cell_type": "markdown",
      "source": [
        "Ao que os dados mostram, os homens gastam mais até \\$ 20 do que as mulheres, ou seja, os homens consomem mais produtos baratos que as mulheres.\n",
        "\n",
        "As mulheres praticamente lideram em gastos de \\$ 20 a \\$ 90. Gastos acima de \\$ 90 os homens voltam a gastar mais e consumir produtos caros.\n",
        "\n",
        "Vamos ver quem gasta mais somado:"
      ],
      "metadata": {
        "id": "CEZrzIJhRwJZ"
      }
    },
    {
      "cell_type": "code",
      "source": [
        "print(\"Gastos totais masculinos no período da base: \")\n",
        "print(df.query('Genre == \"Male\"')['Spending Score (1-100)'].sum())\n",
        "print(\"Gastos totais femininos no período da base: \")\n",
        "print(df.query('Genre == \"Female\"')['Spending Score (1-100)'].sum())"
      ],
      "metadata": {
        "colab": {
          "base_uri": "https://localhost:8080/"
        },
        "id": "ddqjUlMKSHrA",
        "outputId": "feb1d7b6-d71f-4f96-bea1-25739cd3c5df"
      },
      "execution_count": 19,
      "outputs": [
        {
          "output_type": "stream",
          "name": "stdout",
          "text": [
            "Gastos totais masculinos no período da base: \n",
            "4269\n",
            "Gastos totais femininos no período da base: \n",
            "5771\n"
          ]
        }
      ]
    },
    {
      "cell_type": "markdown",
      "source": [
        "As mulherers gastaram mais dinheiro no shopping que os homens.\n",
        "Novamente, há mais mulheres no dataset, então vamos ver quanto uma mulher e um homem gastam na média, ai elimina-se a interferência da quantidade em nossa análise:"
      ],
      "metadata": {
        "id": "cSRHpIj4SY6h"
      }
    },
    {
      "cell_type": "code",
      "source": [
        "print(\"Gastos totais masculinos no período da base: \")\n",
        "print(df.query('Genre == \"Male\"')['Spending Score (1-100)'].mean())\n",
        "print(\"Gastos totais femininos no período da base: \")\n",
        "print(df.query('Genre == \"Female\"')['Spending Score (1-100)'].mean())"
      ],
      "metadata": {
        "colab": {
          "base_uri": "https://localhost:8080/"
        },
        "id": "gHC8A5x9UAWk",
        "outputId": "c1b123a3-cacb-4f5b-ae0b-1ecc1cf57203"
      },
      "execution_count": 20,
      "outputs": [
        {
          "output_type": "stream",
          "name": "stdout",
          "text": [
            "Gastos totais masculinos no período da base: \n",
            "48.51136363636363\n",
            "Gastos totais femininos no período da base: \n",
            "51.526785714285715\n"
          ]
        }
      ]
    },
    {
      "cell_type": "markdown",
      "source": [
        "De fato, mesmo tendo mais mulheres na base, elas gastam mais dinheiro no shopping na média do que os homens.\n",
        "\n",
        "Vamos analisar agora se pessoas que recebem mais anualmente tendem a gastar e se existe alguma relação entre quanto se ganha e quanto se gasta:"
      ],
      "metadata": {
        "id": "lNHqxoHlUEAv"
      }
    },
    {
      "cell_type": "code",
      "source": [
        "sns.scatterplot(data=df, x=\"Annual Income (k$)\", y=\"Spending Score (1-100)\", hue=\"Genre\")"
      ],
      "metadata": {
        "colab": {
          "base_uri": "https://localhost:8080/",
          "height": 302
        },
        "id": "xgqqNGD0UeKX",
        "outputId": "0911e882-5c68-4691-fe58-eccbeb32696f"
      },
      "execution_count": 21,
      "outputs": [
        {
          "output_type": "execute_result",
          "data": {
            "text/plain": [
              "<matplotlib.axes._subplots.AxesSubplot at 0x7f8bd6d9b790>"
            ]
          },
          "metadata": {},
          "execution_count": 21
        },
        {
          "output_type": "display_data",
          "data": {
            "text/plain": [
              "<Figure size 432x288 with 1 Axes>"
            ],
            "image/png": "[encoded data removed]"
          },
          "metadata": {}
        }
      ]
    },
    {
      "cell_type": "markdown",
      "source": [
        "Não parece haver uma regra muito clara.\n",
        "\n",
        "Existem pessoas que recebem pouco anualmente e gastam muito e também pessoas que recebem muito e gastam pouco. Entretanto, a impressão que dá é que existem mais pessoas com menor renda que gastam muito do que pessoas com muita renda anual que gastam muito. No geral, visualmente, os dados nos levam a crer que pessoas com maior renda gastam menos. No quesito gênero, o comportamento apareceu bem distribuído. \n",
        "\n",
        "Vamos avançar nessas análises:"
      ],
      "metadata": {
        "id": "Ko3Jls3QUtTB"
      }
    },
    {
      "cell_type": "code",
      "source": [
        "df['Annual Income (k$)'].describe()"
      ],
      "metadata": {
        "colab": {
          "base_uri": "https://localhost:8080/"
        },
        "id": "d7d0bmHJVQuB",
        "outputId": "2622210c-3fb5-482a-8f02-a67ba72e7995"
      },
      "execution_count": 22,
      "outputs": [
        {
          "output_type": "execute_result",
          "data": {
            "text/plain": [
              "count    200.000000\n",
              "mean      60.560000\n",
              "std       26.264721\n",
              "min       15.000000\n",
              "25%       41.500000\n",
              "50%       61.500000\n",
              "75%       78.000000\n",
              "max      137.000000\n",
              "Name: Annual Income (k$), dtype: float64"
            ]
          },
          "metadata": {},
          "execution_count": 22
        }
      ]
    },
    {
      "cell_type": "markdown",
      "source": [
        "A média de renda anual dos clientes no shopping, para homens e mulheres, é de \\$ 60k, mas o desvio é bem alto, de \\$ 26k, o que indica que esse valor varia bastante.\n",
        "\n",
        "Além disso, a maioria das pessoas recebe entre \\$ 41.5k e \\$ 78k, valores esses representantes do primeiro e terceiro quartil, respectivamente."
      ],
      "metadata": {
        "id": "Qt6th4uvUTR0"
      }
    },
    {
      "cell_type": "code",
      "source": [
        "df.rename(columns = {'Annual Income (k$)':'Annual_Income'}, inplace = True)"
      ],
      "metadata": {
        "id": "yrap5EUUYTBr"
      },
      "execution_count": 23,
      "outputs": []
    },
    {
      "cell_type": "markdown",
      "source": [
        "Vamos segmentar a renda anual por quanto as pessoas gastam e ver se encontramos uma relação:"
      ],
      "metadata": {
        "id": "CJgIpzd-Uxf7"
      }
    },
    {
      "cell_type": "code",
      "source": [
        "lista = [20, 40, 60, 80, 100, 120, 140]\n",
        "for x in lista:\n",
        "  print(f\"Gasto médio para renda anual inferior a $ {x} mil anuais:\")\n",
        "  print(df.query(f'Annual_Income < {x}')['Spending Score (1-100)'].mean())"
      ],
      "metadata": {
        "colab": {
          "base_uri": "https://localhost:8080/"
        },
        "id": "UbRS7IFdWJF9",
        "outputId": "db9c2ae1-7d8e-4a33-b900-c595ec322707"
      },
      "execution_count": 27,
      "outputs": [
        {
          "output_type": "stream",
          "name": "stdout",
          "text": [
            "Gasto médio para renda anual inferior a $ 20 mil anuais:\n",
            "50.583333333333336\n",
            "Gasto médio para renda anual inferior a $ 40 mil anuais:\n",
            "49.73913043478261\n",
            "Gasto médio para renda anual inferior a $ 60 mil anuais:\n",
            "50.23913043478261\n",
            "Gasto médio para renda anual inferior a $ 80 mil anuais:\n",
            "50.117283950617285\n",
            "Gasto médio para renda anual inferior a $ 100 mil anuais:\n",
            "50.306451612903224\n",
            "Gasto médio para renda anual inferior a $ 120 mil anuais:\n",
            "50.21649484536083\n",
            "Gasto médio para renda anual inferior a $ 140 mil anuais:\n",
            "50.2\n"
          ]
        }
      ]
    },
    {
      "cell_type": "markdown",
      "source": [
        "Não foi muito conclusivo, até porque clientes que tem renda anual alta ou gastaram muito dinheiro ou pouco e com isso fez com que o ticket médio ficasse na média mesmo.\n",
        "\n",
        "Por mais que seja praticamente insiginificamente, clientes com renda anual menor que \\$ 20k, os que menos recebem, gastaram \\$ 1 a mais em comparação aos outros. Interessante.\n",
        "\n",
        "Vamos ver por número de compras:"
      ],
      "metadata": {
        "id": "NWDPWCkWYz__"
      }
    },
    {
      "cell_type": "code",
      "source": [
        "for x in lista:\n",
        "  print(f\"Número de compras total para renda inferior a $ {x} mil anuais:\")\n",
        "  print(df.query(f'Annual_Income < {x}')['Spending Score (1-100)'].count())"
      ],
      "metadata": {
        "colab": {
          "base_uri": "https://localhost:8080/"
        },
        "id": "7_zhhpTdY515",
        "outputId": "c2824faf-64bb-44bd-d7fe-a6568139823b"
      },
      "execution_count": 28,
      "outputs": [
        {
          "output_type": "stream",
          "name": "stdout",
          "text": [
            "Número de compras total para renda inferior a $ 20 mil anuais:\n",
            "12\n",
            "Número de compras total para renda inferior a $ 40 mil anuais:\n",
            "46\n",
            "Número de compras total para renda inferior a $ 60 mil anuais:\n",
            "92\n",
            "Número de compras total para renda inferior a $ 80 mil anuais:\n",
            "162\n",
            "Número de compras total para renda inferior a $ 100 mil anuais:\n",
            "186\n",
            "Número de compras total para renda inferior a $ 120 mil anuais:\n",
            "194\n",
            "Número de compras total para renda inferior a $ 140 mil anuais:\n",
            "200\n"
          ]
        }
      ]
    },
    {
      "cell_type": "markdown",
      "source": [
        "Já deu pra ver que pessoas que ganham acima de \\$ 120 mil foram as compras apenas 6 vezes (200 - 194). Na verdade, dos 200 registros do dataset, apenas 14 compras foram realizadas por pessoas com mais de \\$ 100 mil.\n",
        "\n",
        "Em compensação, pessoas que faturam anualmente entre \\$ 80k e \\$ 60k foram os que mais compraram, um total de 70 vezes.\n",
        "\n",
        "Além disso, confirmamos que pessoas com maior renda anual compraram menos."
      ],
      "metadata": {
        "id": "oAUgWo6FZNsz"
      }
    },
    {
      "cell_type": "markdown",
      "source": [
        "Por fim, vamos ver qual a idade das pessoas de maior fortuna na base:"
      ],
      "metadata": {
        "id": "8bafncMAavTr"
      }
    },
    {
      "cell_type": "code",
      "source": [
        "lista2 = [18, 25, 32, 39, 46, 53, 60, 67]\n",
        "for x in lista2:\n",
        "  print(f\"Renda anual de pessoas entre {x} e {x+7} anos:\")\n",
        "  print(round(df.query(f'Age in [{x}, {x+7}]')['Annual_Income'].mean()))"
      ],
      "metadata": {
        "colab": {
          "base_uri": "https://localhost:8080/"
        },
        "id": "zjx5FL-Rar6j",
        "outputId": "ddecf598-f472-47c8-dca6-dde81d87256d"
      },
      "execution_count": 29,
      "outputs": [
        {
          "output_type": "stream",
          "name": "stdout",
          "text": [
            "Renda anual de pessoas entre 18 e 25 anos:\n",
            "54\n",
            "Renda anual de pessoas entre 25 e 32 anos:\n",
            "81\n",
            "Renda anual de pessoas entre 32 e 39 anos:\n",
            "84\n",
            "Renda anual de pessoas entre 39 e 46 anos:\n",
            "66\n",
            "Renda anual de pessoas entre 46 e 53 anos:\n",
            "51\n",
            "Renda anual de pessoas entre 53 e 60 anos:\n",
            "42\n",
            "Renda anual de pessoas entre 60 e 67 anos:\n",
            "45\n",
            "Renda anual de pessoas entre 67 e 74 anos:\n",
            "46\n"
          ]
        }
      ]
    },
    {
      "cell_type": "markdown",
      "source": [
        "Divide os dados de 7 em 7 na idade, ou seja, idade de 18 a 25, de 25 a 32 e assim por diante.\n",
        "\n",
        "Podemos observar que o intervalo que mais ganha dinheiro é o de 32 a 39 anos, seguido por 25 a 32. A menor renda é das pessoas entre 53 e 60 anos. E mesmo as pessoas entre 53 e 60 anos consomem bastante, como vimos nos gráficos acima."
      ],
      "metadata": {
        "id": "4knwPfLPdjra"
      }
    },
    {
      "cell_type": "markdown",
      "source": [
        "Para criar os clusters, vamos pensar da seguinte maneira.\n",
        "\n",
        "Cada época é marcada por determinados acontecimentos culturais, políticos, sociais e econômicos que impactam o contexto de vida, a visão de mundo e a forma de se relacionar das pessoas que nascem e vivem em determinado período. Impactam, também, portanto, em como essas pessoas consomem produtos.\n",
        "\n",
        "Essa é ideia que embasa a divisão por grupos geracionais e será por meio dela que criaremos os clusters.\n",
        "\n",
        "Não há um consenso sobre o ano em que começa e termina cada um, mas uma divisão possível é Baby Boomers (nascidos entre 1946 e 1964), Geração X (1965-1980), Geração Y ou Millennials (1981-1996) e Geração Z (1997-2010). Há ainda a Geração Alfa, que compreende os nascidos a partir de 2010.\n",
        "\n",
        "Assim, criaremos 4 clusters:\n",
        "- Baby Boomers (58 a 76 anos)\n",
        "- Geração X (42 a 57 anos)\n",
        "- Geração Y (Millenials) (26 a 41 anos)\n",
        "- Geração Z (12 a 25 anos)\n",
        "\n",
        "Não vamos incluir a geração Alfa porquê essa geração ainda não chegou na maioridade e os dados partem de 18 anos de idade, não faria sentido.\n",
        "\n",
        "É claro que esse foi um de vários possíveis jeitos de se chegar ao número de clusters (k). Vamos ver se a idade vai ser de fato um fator segmentante nos dados e se idades nesses intervalos vão ficar no mesmo cluster ou não. Aparentemente existe, de acordo com nossa análise exploratória, uma relação considerável entre idade e os gastos e ganhos.\n",
        "\n",
        "Antes vamos passar a feature Gênero para numérico e, por ser uma coluna categórica binária podemos comverter para 0 e 1."
      ],
      "metadata": {
        "id": "uj-LCXXRgoem"
      }
    },
    {
      "cell_type": "code",
      "source": [
        "df['Genre'].replace({\"Male\": 0, \"Female\": 1}, inplace=True)"
      ],
      "metadata": {
        "id": "3s9ofzU0jWEr"
      },
      "execution_count": 30,
      "outputs": []
    },
    {
      "cell_type": "code",
      "source": [
        "df.head()"
      ],
      "metadata": {
        "colab": {
          "base_uri": "https://localhost:8080/",
          "height": 206
        },
        "id": "mhCt0G4Lj2DY",
        "outputId": "e5c14c3f-c4f0-4522-981e-331aa6af6d34"
      },
      "execution_count": 31,
      "outputs": [
        {
          "output_type": "execute_result",
          "data": {
            "text/plain": [
              "   CustomerID  Genre  Age  Annual_Income  Spending Score (1-100)\n",
              "0           1      0   19             15                      39\n",
              "1           2      0   21             15                      81\n",
              "2           3      1   20             16                       6\n",
              "3           4      1   23             16                      77\n",
              "4           5      1   31             17                      40"
            ],
            "text/html": [
              "\n",
              "  <div id=\"df-f9edcf33-e78b-45d3-80c8-5a96e5169724\">\n",
              "    <div class=\"colab-df-container\">\n",
              "      <div>\n",
              "<style scoped>\n",
              "    .dataframe tbody tr th:only-of-type {\n",
              "        vertical-align: middle;\n",
              "    }\n",
              "\n",
              "    .dataframe tbody tr th {\n",
              "        vertical-align: top;\n",
              "    }\n",
              "\n",
              "    .dataframe thead th {\n",
              "        text-align: right;\n",
              "    }\n",
              "</style>\n",
              "<table border=\"1\" class=\"dataframe\">\n",
              "  <thead>\n",
              "    <tr style=\"text-align: right;\">\n",
              "      <th></th>\n",
              "      <th>CustomerID</th>\n",
              "      <th>Genre</th>\n",
              "      <th>Age</th>\n",
              "      <th>Annual_Income</th>\n",
              "      <th>Spending Score (1-100)</th>\n",
              "    </tr>\n",
              "  </thead>\n",
              "  <tbody>\n",
              "    <tr>\n",
              "      <th>0</th>\n",
              "      <td>1</td>\n",
              "      <td>0</td>\n",
              "      <td>19</td>\n",
              "      <td>15</td>\n",
              "      <td>39</td>\n",
              "    </tr>\n",
              "    <tr>\n",
              "      <th>1</th>\n",
              "      <td>2</td>\n",
              "      <td>0</td>\n",
              "      <td>21</td>\n",
              "      <td>15</td>\n",
              "      <td>81</td>\n",
              "    </tr>\n",
              "    <tr>\n",
              "      <th>2</th>\n",
              "      <td>3</td>\n",
              "      <td>1</td>\n",
              "      <td>20</td>\n",
              "      <td>16</td>\n",
              "      <td>6</td>\n",
              "    </tr>\n",
              "    <tr>\n",
              "      <th>3</th>\n",
              "      <td>4</td>\n",
              "      <td>1</td>\n",
              "      <td>23</td>\n",
              "      <td>16</td>\n",
              "      <td>77</td>\n",
              "    </tr>\n",
              "    <tr>\n",
              "      <th>4</th>\n",
              "      <td>5</td>\n",
              "      <td>1</td>\n",
              "      <td>31</td>\n",
              "      <td>17</td>\n",
              "      <td>40</td>\n",
              "    </tr>\n",
              "  </tbody>\n",
              "</table>\n",
              "</div>\n",
              "      <button class=\"colab-df-convert\" onclick=\"convertToInteractive('df-f9edcf33-e78b-45d3-80c8-5a96e5169724')\"\n",
              "              title=\"Convert this dataframe to an interactive table.\"\n",
              "              style=\"display:none;\">\n",
              "        \n",
              "  <svg xmlns=\"http://www.w3.org/2000/svg\" height=\"24px\"viewBox=\"0 0 24 24\"\n",
              "       width=\"24px\">\n",
              "    <path d=\"M0 0h24v24H0V0z\" fill=\"none\"/>\n",
              "    <path d=\"M18.56 5.44l.94 2.06.94-2.06 2.06-.94-2.06-.94-.94-2.06-.94 2.06-2.06.94zm-11 1L8.5 8.5l.94-2.06 2.06-.94-2.06-.94L8.5 2.5l-.94 2.06-2.06.94zm10 10l.94 2.06.94-2.06 2.06-.94-2.06-.94-.94-2.06-.94 2.06-2.06.94z\"/><path d=\"M17.41 7.96l-1.37-1.37c-.4-.4-.92-.59-1.43-.59-.52 0-1.04.2-1.43.59L10.3 9.45l-7.72 7.72c-.78.78-.78 2.05 0 2.83L4 21.41c.39.39.9.59 1.41.59.51 0 1.02-.2 1.41-.59l7.78-7.78 2.81-2.81c.8-.78.8-2.07 0-2.86zM5.41 20L4 18.59l7.72-7.72 1.47 1.35L5.41 20z\"/>\n",
              "  </svg>\n",
              "      </button>\n",
              "      \n",
              "  <style>\n",
              "    .colab-df-container {\n",
              "      display:flex;\n",
              "      flex-wrap:wrap;\n",
              "      gap: 12px;\n",
              "    }\n",
              "\n",
              "    .colab-df-convert {\n",
              "      background-color: #E8F0FE;\n",
              "      border: none;\n",
              "      border-radius: 50%;\n",
              "      cursor: pointer;\n",
              "      display: none;\n",
              "      fill: #1967D2;\n",
              "      height: 32px;\n",
              "      padding: 0 0 0 0;\n",
              "      width: 32px;\n",
              "    }\n",
              "\n",
              "    .colab-df-convert:hover {\n",
              "      background-color: #E2EBFA;\n",
              "      box-shadow: 0px 1px 2px rgba(60, 64, 67, 0.3), 0px 1px 3px 1px rgba(60, 64, 67, 0.15);\n",
              "      fill: #174EA6;\n",
              "    }\n",
              "\n",
              "    [theme=dark] .colab-df-convert {\n",
              "      background-color: #3B4455;\n",
              "      fill: #D2E3FC;\n",
              "    }\n",
              "\n",
              "    [theme=dark] .colab-df-convert:hover {\n",
              "      background-color: #434B5C;\n",
              "      box-shadow: 0px 1px 3px 1px rgba(0, 0, 0, 0.15);\n",
              "      filter: drop-shadow(0px 1px 2px rgba(0, 0, 0, 0.3));\n",
              "      fill: #FFFFFF;\n",
              "    }\n",
              "  </style>\n",
              "\n",
              "      <script>\n",
              "        const buttonEl =\n",
              "          document.querySelector('#df-f9edcf33-e78b-45d3-80c8-5a96e5169724 button.colab-df-convert');\n",
              "        buttonEl.style.display =\n",
              "          google.colab.kernel.accessAllowed ? 'block' : 'none';\n",
              "\n",
              "        async function convertToInteractive(key) {\n",
              "          const element = document.querySelector('#df-f9edcf33-e78b-45d3-80c8-5a96e5169724');\n",
              "          const dataTable =\n",
              "            await google.colab.kernel.invokeFunction('convertToInteractive',\n",
              "                                                     [key], {});\n",
              "          if (!dataTable) return;\n",
              "\n",
              "          const docLinkHtml = 'Like what you see? Visit the ' +\n",
              "            '<a target=\"_blank\" href=https://colab.research.google.com/notebooks/data_table.ipynb>data table notebook</a>'\n",
              "            + ' to learn more about interactive tables.';\n",
              "          element.innerHTML = '';\n",
              "          dataTable['output_type'] = 'display_data';\n",
              "          await google.colab.output.renderOutput(dataTable, element);\n",
              "          const docLink = document.createElement('div');\n",
              "          docLink.innerHTML = docLinkHtml;\n",
              "          element.appendChild(docLink);\n",
              "        }\n",
              "      </script>\n",
              "    </div>\n",
              "  </div>\n",
              "  "
            ]
          },
          "metadata": {},
          "execution_count": 31
        }
      ]
    },
    {
      "cell_type": "markdown",
      "source": [
        "Vamos tirar também a coluna de ID da análise que não ajuda em nada e só vai atrapalhar."
      ],
      "metadata": {
        "id": "iQJsQJh5j8ZB"
      }
    },
    {
      "cell_type": "code",
      "source": [
        "kmeans = KMeans(n_clusters = 4) \n",
        "pred_y = kmeans.fit_predict(df.drop(['CustomerID'], axis=1))\n",
        "df['clusters'] = pred_y"
      ],
      "metadata": {
        "id": "q9R4g5r1gQVA"
      },
      "execution_count": 32,
      "outputs": []
    },
    {
      "cell_type": "code",
      "source": [
        "df.head()"
      ],
      "metadata": {
        "colab": {
          "base_uri": "https://localhost:8080/",
          "height": 206
        },
        "id": "IK01OEbgkLi2",
        "outputId": "b5d3e259-1bde-4cf5-9f07-e89b6d9e62b3"
      },
      "execution_count": 33,
      "outputs": [
        {
          "output_type": "execute_result",
          "data": {
            "text/plain": [
              "   CustomerID  Genre  Age  Annual_Income  Spending Score (1-100)  clusters\n",
              "0           1      0   19             15                      39         0\n",
              "1           2      0   21             15                      81         0\n",
              "2           3      1   20             16                       6         3\n",
              "3           4      1   23             16                      77         0\n",
              "4           5      1   31             17                      40         3"
            ],
            "text/html": [
              "\n",
              "  <div id=\"df-2b03b2ca-06eb-432d-aaa8-28831f874a37\">\n",
              "    <div class=\"colab-df-container\">\n",
              "      <div>\n",
              "<style scoped>\n",
              "    .dataframe tbody tr th:only-of-type {\n",
              "        vertical-align: middle;\n",
              "    }\n",
              "\n",
              "    .dataframe tbody tr th {\n",
              "        vertical-align: top;\n",
              "    }\n",
              "\n",
              "    .dataframe thead th {\n",
              "        text-align: right;\n",
              "    }\n",
              "</style>\n",
              "<table border=\"1\" class=\"dataframe\">\n",
              "  <thead>\n",
              "    <tr style=\"text-align: right;\">\n",
              "      <th></th>\n",
              "      <th>CustomerID</th>\n",
              "      <th>Genre</th>\n",
              "      <th>Age</th>\n",
              "      <th>Annual_Income</th>\n",
              "      <th>Spending Score (1-100)</th>\n",
              "      <th>clusters</th>\n",
              "    </tr>\n",
              "  </thead>\n",
              "  <tbody>\n",
              "    <tr>\n",
              "      <th>0</th>\n",
              "      <td>1</td>\n",
              "      <td>0</td>\n",
              "      <td>19</td>\n",
              "      <td>15</td>\n",
              "      <td>39</td>\n",
              "      <td>0</td>\n",
              "    </tr>\n",
              "    <tr>\n",
              "      <th>1</th>\n",
              "      <td>2</td>\n",
              "      <td>0</td>\n",
              "      <td>21</td>\n",
              "      <td>15</td>\n",
              "      <td>81</td>\n",
              "      <td>0</td>\n",
              "    </tr>\n",
              "    <tr>\n",
              "      <th>2</th>\n",
              "      <td>3</td>\n",
              "      <td>1</td>\n",
              "      <td>20</td>\n",
              "      <td>16</td>\n",
              "      <td>6</td>\n",
              "      <td>3</td>\n",
              "    </tr>\n",
              "    <tr>\n",
              "      <th>3</th>\n",
              "      <td>4</td>\n",
              "      <td>1</td>\n",
              "      <td>23</td>\n",
              "      <td>16</td>\n",
              "      <td>77</td>\n",
              "      <td>0</td>\n",
              "    </tr>\n",
              "    <tr>\n",
              "      <th>4</th>\n",
              "      <td>5</td>\n",
              "      <td>1</td>\n",
              "      <td>31</td>\n",
              "      <td>17</td>\n",
              "      <td>40</td>\n",
              "      <td>3</td>\n",
              "    </tr>\n",
              "  </tbody>\n",
              "</table>\n",
              "</div>\n",
              "      <button class=\"colab-df-convert\" onclick=\"convertToInteractive('df-2b03b2ca-06eb-432d-aaa8-28831f874a37')\"\n",
              "              title=\"Convert this dataframe to an interactive table.\"\n",
              "              style=\"display:none;\">\n",
              "        \n",
              "  <svg xmlns=\"http://www.w3.org/2000/svg\" height=\"24px\"viewBox=\"0 0 24 24\"\n",
              "       width=\"24px\">\n",
              "    <path d=\"M0 0h24v24H0V0z\" fill=\"none\"/>\n",
              "    <path d=\"M18.56 5.44l.94 2.06.94-2.06 2.06-.94-2.06-.94-.94-2.06-.94 2.06-2.06.94zm-11 1L8.5 8.5l.94-2.06 2.06-.94-2.06-.94L8.5 2.5l-.94 2.06-2.06.94zm10 10l.94 2.06.94-2.06 2.06-.94-2.06-.94-.94-2.06-.94 2.06-2.06.94z\"/><path d=\"M17.41 7.96l-1.37-1.37c-.4-.4-.92-.59-1.43-.59-.52 0-1.04.2-1.43.59L10.3 9.45l-7.72 7.72c-.78.78-.78 2.05 0 2.83L4 21.41c.39.39.9.59 1.41.59.51 0 1.02-.2 1.41-.59l7.78-7.78 2.81-2.81c.8-.78.8-2.07 0-2.86zM5.41 20L4 18.59l7.72-7.72 1.47 1.35L5.41 20z\"/>\n",
              "  </svg>\n",
              "      </button>\n",
              "      \n",
              "  <style>\n",
              "    .colab-df-container {\n",
              "      display:flex;\n",
              "      flex-wrap:wrap;\n",
              "      gap: 12px;\n",
              "    }\n",
              "\n",
              "    .colab-df-convert {\n",
              "      background-color: #E8F0FE;\n",
              "      border: none;\n",
              "      border-radius: 50%;\n",
              "      cursor: pointer;\n",
              "      display: none;\n",
              "      fill: #1967D2;\n",
              "      height: 32px;\n",
              "      padding: 0 0 0 0;\n",
              "      width: 32px;\n",
              "    }\n",
              "\n",
              "    .colab-df-convert:hover {\n",
              "      background-color: #E2EBFA;\n",
              "      box-shadow: 0px 1px 2px rgba(60, 64, 67, 0.3), 0px 1px 3px 1px rgba(60, 64, 67, 0.15);\n",
              "      fill: #174EA6;\n",
              "    }\n",
              "\n",
              "    [theme=dark] .colab-df-convert {\n",
              "      background-color: #3B4455;\n",
              "      fill: #D2E3FC;\n",
              "    }\n",
              "\n",
              "    [theme=dark] .colab-df-convert:hover {\n",
              "      background-color: #434B5C;\n",
              "      box-shadow: 0px 1px 3px 1px rgba(0, 0, 0, 0.15);\n",
              "      filter: drop-shadow(0px 1px 2px rgba(0, 0, 0, 0.3));\n",
              "      fill: #FFFFFF;\n",
              "    }\n",
              "  </style>\n",
              "\n",
              "      <script>\n",
              "        const buttonEl =\n",
              "          document.querySelector('#df-2b03b2ca-06eb-432d-aaa8-28831f874a37 button.colab-df-convert');\n",
              "        buttonEl.style.display =\n",
              "          google.colab.kernel.accessAllowed ? 'block' : 'none';\n",
              "\n",
              "        async function convertToInteractive(key) {\n",
              "          const element = document.querySelector('#df-2b03b2ca-06eb-432d-aaa8-28831f874a37');\n",
              "          const dataTable =\n",
              "            await google.colab.kernel.invokeFunction('convertToInteractive',\n",
              "                                                     [key], {});\n",
              "          if (!dataTable) return;\n",
              "\n",
              "          const docLinkHtml = 'Like what you see? Visit the ' +\n",
              "            '<a target=\"_blank\" href=https://colab.research.google.com/notebooks/data_table.ipynb>data table notebook</a>'\n",
              "            + ' to learn more about interactive tables.';\n",
              "          element.innerHTML = '';\n",
              "          dataTable['output_type'] = 'display_data';\n",
              "          await google.colab.output.renderOutput(dataTable, element);\n",
              "          const docLink = document.createElement('div');\n",
              "          docLink.innerHTML = docLinkHtml;\n",
              "          element.appendChild(docLink);\n",
              "        }\n",
              "      </script>\n",
              "    </div>\n",
              "  </div>\n",
              "  "
            ]
          },
          "metadata": {},
          "execution_count": 33
        }
      ]
    },
    {
      "cell_type": "markdown",
      "source": [
        "Vamos ver os resultados:"
      ],
      "metadata": {
        "id": "BIlCTiDB8471"
      }
    },
    {
      "cell_type": "code",
      "source": [
        "print(pred_y)"
      ],
      "metadata": {
        "id": "_M2w79ex86Qe",
        "outputId": "b48ad6b3-a96f-4d90-cef4-2af43ab6054d",
        "colab": {
          "base_uri": "https://localhost:8080/"
        }
      },
      "execution_count": 34,
      "outputs": [
        {
          "output_type": "stream",
          "name": "stdout",
          "text": [
            "[0 0 3 0 3 0 3 0 3 0 3 0 3 0 3 0 3 0 3 0 3 0 3 0 3 0 3 0 3 0 3 0 3 0 3 0 3\n",
            " 0 3 0 3 0 3 0 3 0 3 3 3 3 3 0 3 3 3 3 3 3 3 3 3 0 3 3 3 0 3 3 0 3 3 3 3 3\n",
            " 3 3 3 3 3 3 3 3 3 3 3 3 3 3 3 3 3 3 3 3 3 3 3 3 3 3 3 3 3 3 3 3 3 3 3 3 3\n",
            " 3 3 3 3 3 3 3 3 3 3 3 3 1 2 1 2 1 2 1 2 1 2 1 2 1 2 1 2 1 2 1 2 1 2 1 2 1\n",
            " 2 1 2 1 2 1 2 1 2 1 2 1 2 1 2 1 2 1 2 1 2 1 2 1 2 1 2 1 2 1 2 1 2 1 2 1 2\n",
            " 1 2 1 2 1 2 1 2 1 2 1 2 1 2 1]\n"
          ]
        }
      ]
    },
    {
      "cell_type": "markdown",
      "source": [
        "Vamos avaliar agora e ver se a segmentação de fato está agrupando os dados como esperávamos:"
      ],
      "metadata": {
        "id": "35E9Rd-8kUmw"
      }
    },
    {
      "cell_type": "code",
      "source": [
        "sns.scatterplot(data=df, x=\"Age\", y=df.index, hue=\"clusters\")"
      ],
      "metadata": {
        "colab": {
          "base_uri": "https://localhost:8080/",
          "height": 302
        },
        "id": "aQQF6rWbkwpu",
        "outputId": "718d2d92-6b84-47d4-f3e9-2b4592c7a90c"
      },
      "execution_count": 35,
      "outputs": [
        {
          "output_type": "execute_result",
          "data": {
            "text/plain": [
              "<matplotlib.axes._subplots.AxesSubplot at 0x7f8bd94a78b0>"
            ]
          },
          "metadata": {},
          "execution_count": 35
        },
        {
          "output_type": "display_data",
          "data": {
            "text/plain": [
              "<Figure size 432x288 with 1 Axes>"
            ],
            "image/png": "[encoded data removed]"
          },
          "metadata": {}
        }
      ]
    },
    {
      "cell_type": "markdown",
      "source": [
        "Ao analisarmos a variável 'Age', variável essa em que nos baseamos para definir o número de clusters, vemos que existe uma relação entre os clusters e a idade, mas não muito claro.\n",
        "\n",
        "Por exemplo, aparentemente, clusters = 2 tem idade superior a 40 anos, mas ainda tem bastante representantes com idades fora desse padrão.\n",
        "\n",
        "Clusters = 3 seriam a geração mais nova, com a maioria dos representantes tendo entre 18 e 30 anos e mais bem segmentada.\n",
        "\n",
        "Clusters = 1 seriam os de meia idade, entre ~25 e ~40 anos, mas ainda bem divididos.\n",
        "\n",
        "Por fim os clusters = 0 são os que mais oscilam na base e esse grupo tem todas as idades.\n",
        "\n",
        "Vamos para a próxima variável:"
      ],
      "metadata": {
        "id": "8bTsUZ69OMSs"
      }
    },
    {
      "cell_type": "code",
      "source": [
        "sns.scatterplot(data=df, x=\"Annual_Income\", y=df.index, hue=\"clusters\")"
      ],
      "metadata": {
        "colab": {
          "base_uri": "https://localhost:8080/",
          "height": 302
        },
        "id": "p4-yIBVIlJ1Q",
        "outputId": "5ce05839-e8eb-4da9-e6ac-d33fd1687e3a"
      },
      "execution_count": 36,
      "outputs": [
        {
          "output_type": "execute_result",
          "data": {
            "text/plain": [
              "<matplotlib.axes._subplots.AxesSubplot at 0x7f8bd610edf0>"
            ]
          },
          "metadata": {},
          "execution_count": 36
        },
        {
          "output_type": "display_data",
          "data": {
            "text/plain": [
              "<Figure size 432x288 with 1 Axes>"
            ],
            "image/png": "[encoded data removed]"
          },
          "metadata": {}
        }
      ]
    },
    {
      "cell_type": "markdown",
      "source": [
        "A variável de renda anual parece mais bem definida. É muito claro que o cluster=3 apresenta menor renda, com a maioria dos representantes tendo renda anual de ~15 mil até ~40 mil. \n",
        "\n",
        "Clusters = 0 oscilam entre ~ 40 e 65 ~ mil enquanto clusters=1 seriam de 65 mil adiante, dividindo os valores mais altos com o cluster=2.\n",
        "\n",
        "Ainda não ficou muito bem segmentado, mas melhor que a idade visualmente."
      ],
      "metadata": {
        "id": "2fJ_kpr8PHX6"
      }
    },
    {
      "cell_type": "code",
      "source": [
        "sns.scatterplot(data=df, x=\"Spending Score (1-100)\", y=df.index, hue=\"clusters\")"
      ],
      "metadata": {
        "colab": {
          "base_uri": "https://localhost:8080/",
          "height": 302
        },
        "id": "m0CmpcyNlNb-",
        "outputId": "7b2ad03c-2581-4a4b-e285-3e682575c760"
      },
      "execution_count": 37,
      "outputs": [
        {
          "output_type": "execute_result",
          "data": {
            "text/plain": [
              "<matplotlib.axes._subplots.AxesSubplot at 0x7f8bd6d578e0>"
            ]
          },
          "metadata": {},
          "execution_count": 37
        },
        {
          "output_type": "display_data",
          "data": {
            "text/plain": [
              "<Figure size 432x288 with 1 Axes>"
            ],
            "image/png": "[encoded data removed]"
          },
          "metadata": {}
        }
      ]
    },
    {
      "cell_type": "markdown",
      "source": [
        "A variável de gastos no shopping está super bem segmentada: é nítido que cada grupo (cluster) gasta de maneira diferente.\n",
        "\n",
        "Os clusters=1, por exemplo, costumam gastar mais, valores superiores a 60 dólares.\n",
        "\n",
        "Clusters=0 gastam entre 40 e 60, embora tenham representantes que gastem menos que isso. Mais que isso, não tem. \n",
        "\n",
        "Clusters=3 gastam acima de 60 também, mas são classificados de outra maneira. Interessante.\n",
        "\n",
        "Por fim, os que foram classificados como clusters=2 são os que menos gastam e apesar de dividir valores com alguns clintes clusters=0,foram segmentados de outra maneira.\n",
        "\n",
        "Essa foi a variável que deixou mais claro os perfis de clientes encontrados."
      ],
      "metadata": {
        "id": "Ix9uhl8XPmfV"
      }
    },
    {
      "cell_type": "code",
      "source": [
        "sns.scatterplot(data=df, x=\"Genre\", y=df.index, hue=\"clusters\")"
      ],
      "metadata": {
        "colab": {
          "base_uri": "https://localhost:8080/",
          "height": 302
        },
        "id": "Ai9WwopClSv-",
        "outputId": "9334219e-4742-41f4-adb6-0e98367f542c"
      },
      "execution_count": 38,
      "outputs": [
        {
          "output_type": "execute_result",
          "data": {
            "text/plain": [
              "<matplotlib.axes._subplots.AxesSubplot at 0x7f8bd6126c40>"
            ]
          },
          "metadata": {},
          "execution_count": 38
        },
        {
          "output_type": "display_data",
          "data": {
            "text/plain": [
              "<Figure size 432x288 with 1 Axes>"
            ],
            "image/png": "[encoded data removed]"
          },
          "metadata": {}
        }
      ]
    },
    {
      "cell_type": "markdown",
      "source": [
        "Quanto ao gênero, não é possível concluir muita coisa a não ser que existe homens e mulheres bem distribuídos nos 4 perfis de clientes estabelecidos e que não existe, pelo menos não de maneira muito clara, algo que diferencie uma mulher e um homem em termos de idade, gasto e renda anual para o algoritmo e segmentação."
      ],
      "metadata": {
        "id": "5jVR0WP1QNFK"
      }
    },
    {
      "cell_type": "code",
      "source": [
        "sns.scatterplot(data=df, x=\"Age\", y=\"Annual_Income\", hue=\"clusters\")"
      ],
      "metadata": {
        "colab": {
          "base_uri": "https://localhost:8080/",
          "height": 302
        },
        "id": "SHX0Yt9rkfE3",
        "outputId": "01a33005-757f-4af6-a8c1-df53a24f6487"
      },
      "execution_count": 39,
      "outputs": [
        {
          "output_type": "execute_result",
          "data": {
            "text/plain": [
              "<matplotlib.axes._subplots.AxesSubplot at 0x7f8bd57da9a0>"
            ]
          },
          "metadata": {},
          "execution_count": 39
        },
        {
          "output_type": "display_data",
          "data": {
            "text/plain": [
              "<Figure size 432x288 with 1 Axes>"
            ],
            "image/png": "[encoded data removed]"
          },
          "metadata": {}
        }
      ]
    },
    {
      "cell_type": "markdown",
      "source": [
        "Podemos ainda misturar as variáveis e observar o comportamento integrado.\n",
        "\n",
        "No exemplo acima fica visível que clientes com perfil 3 (clusters=3) são os mais novos e com menor renda anual; perfis 0 oscilam entre todas as idades, mas anualmente não recebem mais que ~65 mil dólares. Os clientes com perfil 1 e 2 são os que mais recebem anualmente e, por incrivel que pareça, não são os mais velhos, mas sim pessoas entre 30 e 45 anos para os perfis = 1, e entre 25 e 60 para os perfis = 2, a grosso modo."
      ],
      "metadata": {
        "id": "w3nx8336QmIx"
      }
    },
    {
      "cell_type": "code",
      "source": [
        "df.groupby(['clusters']).count()"
      ],
      "metadata": {
        "colab": {
          "base_uri": "https://localhost:8080/",
          "height": 206
        },
        "id": "kRYKmgEplm-e",
        "outputId": "fc4238d5-03e6-4a26-cf71-2e00a60332f6"
      },
      "execution_count": 40,
      "outputs": [
        {
          "output_type": "execute_result",
          "data": {
            "text/plain": [
              "          CustomerID  Genre  Age  Annual_Income  Spending Score (1-100)\n",
              "clusters                                                               \n",
              "0                 28     28   28             28                      28\n",
              "1                 39     39   39             39                      39\n",
              "2                 38     38   38             38                      38\n",
              "3                 95     95   95             95                      95"
            ],
            "text/html": [
              "\n",
              "  <div id=\"df-7eeb2ceb-f896-47b3-b423-193905791bdd\">\n",
              "    <div class=\"colab-df-container\">\n",
              "      <div>\n",
              "<style scoped>\n",
              "    .dataframe tbody tr th:only-of-type {\n",
              "        vertical-align: middle;\n",
              "    }\n",
              "\n",
              "    .dataframe tbody tr th {\n",
              "        vertical-align: top;\n",
              "    }\n",
              "\n",
              "    .dataframe thead th {\n",
              "        text-align: right;\n",
              "    }\n",
              "</style>\n",
              "<table border=\"1\" class=\"dataframe\">\n",
              "  <thead>\n",
              "    <tr style=\"text-align: right;\">\n",
              "      <th></th>\n",
              "      <th>CustomerID</th>\n",
              "      <th>Genre</th>\n",
              "      <th>Age</th>\n",
              "      <th>Annual_Income</th>\n",
              "      <th>Spending Score (1-100)</th>\n",
              "    </tr>\n",
              "    <tr>\n",
              "      <th>clusters</th>\n",
              "      <th></th>\n",
              "      <th></th>\n",
              "      <th></th>\n",
              "      <th></th>\n",
              "      <th></th>\n",
              "    </tr>\n",
              "  </thead>\n",
              "  <tbody>\n",
              "    <tr>\n",
              "      <th>0</th>\n",
              "      <td>28</td>\n",
              "      <td>28</td>\n",
              "      <td>28</td>\n",
              "      <td>28</td>\n",
              "      <td>28</td>\n",
              "    </tr>\n",
              "    <tr>\n",
              "      <th>1</th>\n",
              "      <td>39</td>\n",
              "      <td>39</td>\n",
              "      <td>39</td>\n",
              "      <td>39</td>\n",
              "      <td>39</td>\n",
              "    </tr>\n",
              "    <tr>\n",
              "      <th>2</th>\n",
              "      <td>38</td>\n",
              "      <td>38</td>\n",
              "      <td>38</td>\n",
              "      <td>38</td>\n",
              "      <td>38</td>\n",
              "    </tr>\n",
              "    <tr>\n",
              "      <th>3</th>\n",
              "      <td>95</td>\n",
              "      <td>95</td>\n",
              "      <td>95</td>\n",
              "      <td>95</td>\n",
              "      <td>95</td>\n",
              "    </tr>\n",
              "  </tbody>\n",
              "</table>\n",
              "</div>\n",
              "      <button class=\"colab-df-convert\" onclick=\"convertToInteractive('df-7eeb2ceb-f896-47b3-b423-193905791bdd')\"\n",
              "              title=\"Convert this dataframe to an interactive table.\"\n",
              "              style=\"display:none;\">\n",
              "        \n",
              "  <svg xmlns=\"http://www.w3.org/2000/svg\" height=\"24px\"viewBox=\"0 0 24 24\"\n",
              "       width=\"24px\">\n",
              "    <path d=\"M0 0h24v24H0V0z\" fill=\"none\"/>\n",
              "    <path d=\"M18.56 5.44l.94 2.06.94-2.06 2.06-.94-2.06-.94-.94-2.06-.94 2.06-2.06.94zm-11 1L8.5 8.5l.94-2.06 2.06-.94-2.06-.94L8.5 2.5l-.94 2.06-2.06.94zm10 10l.94 2.06.94-2.06 2.06-.94-2.06-.94-.94-2.06-.94 2.06-2.06.94z\"/><path d=\"M17.41 7.96l-1.37-1.37c-.4-.4-.92-.59-1.43-.59-.52 0-1.04.2-1.43.59L10.3 9.45l-7.72 7.72c-.78.78-.78 2.05 0 2.83L4 21.41c.39.39.9.59 1.41.59.51 0 1.02-.2 1.41-.59l7.78-7.78 2.81-2.81c.8-.78.8-2.07 0-2.86zM5.41 20L4 18.59l7.72-7.72 1.47 1.35L5.41 20z\"/>\n",
              "  </svg>\n",
              "      </button>\n",
              "      \n",
              "  <style>\n",
              "    .colab-df-container {\n",
              "      display:flex;\n",
              "      flex-wrap:wrap;\n",
              "      gap: 12px;\n",
              "    }\n",
              "\n",
              "    .colab-df-convert {\n",
              "      background-color: #E8F0FE;\n",
              "      border: none;\n",
              "      border-radius: 50%;\n",
              "      cursor: pointer;\n",
              "      display: none;\n",
              "      fill: #1967D2;\n",
              "      height: 32px;\n",
              "      padding: 0 0 0 0;\n",
              "      width: 32px;\n",
              "    }\n",
              "\n",
              "    .colab-df-convert:hover {\n",
              "      background-color: #E2EBFA;\n",
              "      box-shadow: 0px 1px 2px rgba(60, 64, 67, 0.3), 0px 1px 3px 1px rgba(60, 64, 67, 0.15);\n",
              "      fill: #174EA6;\n",
              "    }\n",
              "\n",
              "    [theme=dark] .colab-df-convert {\n",
              "      background-color: #3B4455;\n",
              "      fill: #D2E3FC;\n",
              "    }\n",
              "\n",
              "    [theme=dark] .colab-df-convert:hover {\n",
              "      background-color: #434B5C;\n",
              "      box-shadow: 0px 1px 3px 1px rgba(0, 0, 0, 0.15);\n",
              "      filter: drop-shadow(0px 1px 2px rgba(0, 0, 0, 0.3));\n",
              "      fill: #FFFFFF;\n",
              "    }\n",
              "  </style>\n",
              "\n",
              "      <script>\n",
              "        const buttonEl =\n",
              "          document.querySelector('#df-7eeb2ceb-f896-47b3-b423-193905791bdd button.colab-df-convert');\n",
              "        buttonEl.style.display =\n",
              "          google.colab.kernel.accessAllowed ? 'block' : 'none';\n",
              "\n",
              "        async function convertToInteractive(key) {\n",
              "          const element = document.querySelector('#df-7eeb2ceb-f896-47b3-b423-193905791bdd');\n",
              "          const dataTable =\n",
              "            await google.colab.kernel.invokeFunction('convertToInteractive',\n",
              "                                                     [key], {});\n",
              "          if (!dataTable) return;\n",
              "\n",
              "          const docLinkHtml = 'Like what you see? Visit the ' +\n",
              "            '<a target=\"_blank\" href=https://colab.research.google.com/notebooks/data_table.ipynb>data table notebook</a>'\n",
              "            + ' to learn more about interactive tables.';\n",
              "          element.innerHTML = '';\n",
              "          dataTable['output_type'] = 'display_data';\n",
              "          await google.colab.output.renderOutput(dataTable, element);\n",
              "          const docLink = document.createElement('div');\n",
              "          docLink.innerHTML = docLinkHtml;\n",
              "          element.appendChild(docLink);\n",
              "        }\n",
              "      </script>\n",
              "    </div>\n",
              "  </div>\n",
              "  "
            ]
          },
          "metadata": {},
          "execution_count": 40
        }
      ]
    },
    {
      "cell_type": "markdown",
      "source": [
        "Observando a fundo, descobrimos que existem:\n",
        "- 95 clientes do tipo 0\n",
        "- 39 do tipo 1\n",
        "- 38 do tipo 2\n",
        "- 28 do tipo 3\n",
        "\n",
        "Além disso:"
      ],
      "metadata": {
        "id": "u961S0igREOe"
      }
    },
    {
      "cell_type": "code",
      "source": [
        "df.groupby(['clusters']).mean()"
      ],
      "metadata": {
        "colab": {
          "base_uri": "https://localhost:8080/",
          "height": 206
        },
        "id": "xucNT93Alc0F",
        "outputId": "5f4a747c-72a4-48c7-eb93-52b2d580aac9"
      },
      "execution_count": 41,
      "outputs": [
        {
          "output_type": "execute_result",
          "data": {
            "text/plain": [
              "          CustomerID     Genre        Age  Annual_Income  \\\n",
              "clusters                                                   \n",
              "0          28.642857  0.500000  24.821429      28.714286   \n",
              "1         162.000000  0.538462  32.692308      86.538462   \n",
              "2         162.000000  0.473684  40.394737      87.000000   \n",
              "3          71.831579  0.621053  44.894737      48.705263   \n",
              "\n",
              "          Spending Score (1-100)  \n",
              "clusters                          \n",
              "0                      74.250000  \n",
              "1                      82.128205  \n",
              "2                      18.631579  \n",
              "3                      42.631579  "
            ],
            "text/html": [
              "\n",
              "  <div id=\"df-3faa4d3f-d26f-4665-a29d-ec2daadb563e\">\n",
              "    <div class=\"colab-df-container\">\n",
              "      <div>\n",
              "<style scoped>\n",
              "    .dataframe tbody tr th:only-of-type {\n",
              "        vertical-align: middle;\n",
              "    }\n",
              "\n",
              "    .dataframe tbody tr th {\n",
              "        vertical-align: top;\n",
              "    }\n",
              "\n",
              "    .dataframe thead th {\n",
              "        text-align: right;\n",
              "    }\n",
              "</style>\n",
              "<table border=\"1\" class=\"dataframe\">\n",
              "  <thead>\n",
              "    <tr style=\"text-align: right;\">\n",
              "      <th></th>\n",
              "      <th>CustomerID</th>\n",
              "      <th>Genre</th>\n",
              "      <th>Age</th>\n",
              "      <th>Annual_Income</th>\n",
              "      <th>Spending Score (1-100)</th>\n",
              "    </tr>\n",
              "    <tr>\n",
              "      <th>clusters</th>\n",
              "      <th></th>\n",
              "      <th></th>\n",
              "      <th></th>\n",
              "      <th></th>\n",
              "      <th></th>\n",
              "    </tr>\n",
              "  </thead>\n",
              "  <tbody>\n",
              "    <tr>\n",
              "      <th>0</th>\n",
              "      <td>28.642857</td>\n",
              "      <td>0.500000</td>\n",
              "      <td>24.821429</td>\n",
              "      <td>28.714286</td>\n",
              "      <td>74.250000</td>\n",
              "    </tr>\n",
              "    <tr>\n",
              "      <th>1</th>\n",
              "      <td>162.000000</td>\n",
              "      <td>0.538462</td>\n",
              "      <td>32.692308</td>\n",
              "      <td>86.538462</td>\n",
              "      <td>82.128205</td>\n",
              "    </tr>\n",
              "    <tr>\n",
              "      <th>2</th>\n",
              "      <td>162.000000</td>\n",
              "      <td>0.473684</td>\n",
              "      <td>40.394737</td>\n",
              "      <td>87.000000</td>\n",
              "      <td>18.631579</td>\n",
              "    </tr>\n",
              "    <tr>\n",
              "      <th>3</th>\n",
              "      <td>71.831579</td>\n",
              "      <td>0.621053</td>\n",
              "      <td>44.894737</td>\n",
              "      <td>48.705263</td>\n",
              "      <td>42.631579</td>\n",
              "    </tr>\n",
              "  </tbody>\n",
              "</table>\n",
              "</div>\n",
              "      <button class=\"colab-df-convert\" onclick=\"convertToInteractive('df-3faa4d3f-d26f-4665-a29d-ec2daadb563e')\"\n",
              "              title=\"Convert this dataframe to an interactive table.\"\n",
              "              style=\"display:none;\">\n",
              "        \n",
              "  <svg xmlns=\"http://www.w3.org/2000/svg\" height=\"24px\"viewBox=\"0 0 24 24\"\n",
              "       width=\"24px\">\n",
              "    <path d=\"M0 0h24v24H0V0z\" fill=\"none\"/>\n",
              "    <path d=\"M18.56 5.44l.94 2.06.94-2.06 2.06-.94-2.06-.94-.94-2.06-.94 2.06-2.06.94zm-11 1L8.5 8.5l.94-2.06 2.06-.94-2.06-.94L8.5 2.5l-.94 2.06-2.06.94zm10 10l.94 2.06.94-2.06 2.06-.94-2.06-.94-.94-2.06-.94 2.06-2.06.94z\"/><path d=\"M17.41 7.96l-1.37-1.37c-.4-.4-.92-.59-1.43-.59-.52 0-1.04.2-1.43.59L10.3 9.45l-7.72 7.72c-.78.78-.78 2.05 0 2.83L4 21.41c.39.39.9.59 1.41.59.51 0 1.02-.2 1.41-.59l7.78-7.78 2.81-2.81c.8-.78.8-2.07 0-2.86zM5.41 20L4 18.59l7.72-7.72 1.47 1.35L5.41 20z\"/>\n",
              "  </svg>\n",
              "      </button>\n",
              "      \n",
              "  <style>\n",
              "    .colab-df-container {\n",
              "      display:flex;\n",
              "      flex-wrap:wrap;\n",
              "      gap: 12px;\n",
              "    }\n",
              "\n",
              "    .colab-df-convert {\n",
              "      background-color: #E8F0FE;\n",
              "      border: none;\n",
              "      border-radius: 50%;\n",
              "      cursor: pointer;\n",
              "      display: none;\n",
              "      fill: #1967D2;\n",
              "      height: 32px;\n",
              "      padding: 0 0 0 0;\n",
              "      width: 32px;\n",
              "    }\n",
              "\n",
              "    .colab-df-convert:hover {\n",
              "      background-color: #E2EBFA;\n",
              "      box-shadow: 0px 1px 2px rgba(60, 64, 67, 0.3), 0px 1px 3px 1px rgba(60, 64, 67, 0.15);\n",
              "      fill: #174EA6;\n",
              "    }\n",
              "\n",
              "    [theme=dark] .colab-df-convert {\n",
              "      background-color: #3B4455;\n",
              "      fill: #D2E3FC;\n",
              "    }\n",
              "\n",
              "    [theme=dark] .colab-df-convert:hover {\n",
              "      background-color: #434B5C;\n",
              "      box-shadow: 0px 1px 3px 1px rgba(0, 0, 0, 0.15);\n",
              "      filter: drop-shadow(0px 1px 2px rgba(0, 0, 0, 0.3));\n",
              "      fill: #FFFFFF;\n",
              "    }\n",
              "  </style>\n",
              "\n",
              "      <script>\n",
              "        const buttonEl =\n",
              "          document.querySelector('#df-3faa4d3f-d26f-4665-a29d-ec2daadb563e button.colab-df-convert');\n",
              "        buttonEl.style.display =\n",
              "          google.colab.kernel.accessAllowed ? 'block' : 'none';\n",
              "\n",
              "        async function convertToInteractive(key) {\n",
              "          const element = document.querySelector('#df-3faa4d3f-d26f-4665-a29d-ec2daadb563e');\n",
              "          const dataTable =\n",
              "            await google.colab.kernel.invokeFunction('convertToInteractive',\n",
              "                                                     [key], {});\n",
              "          if (!dataTable) return;\n",
              "\n",
              "          const docLinkHtml = 'Like what you see? Visit the ' +\n",
              "            '<a target=\"_blank\" href=https://colab.research.google.com/notebooks/data_table.ipynb>data table notebook</a>'\n",
              "            + ' to learn more about interactive tables.';\n",
              "          element.innerHTML = '';\n",
              "          dataTable['output_type'] = 'display_data';\n",
              "          await google.colab.output.renderOutput(dataTable, element);\n",
              "          const docLink = document.createElement('div');\n",
              "          docLink.innerHTML = docLinkHtml;\n",
              "          element.appendChild(docLink);\n",
              "        }\n",
              "      </script>\n",
              "    </div>\n",
              "  </div>\n",
              "  "
            ]
          },
          "metadata": {},
          "execution_count": 41
        }
      ]
    },
    {
      "cell_type": "markdown",
      "source": [
        "Na média, o cliente do tipo 0 tem 24 anos, recebe anualmentte 28 mil dólares e gasta bastante, 72 dólares. Esse cliente pode ser tanto homem quanto mulher, literalmente tem 50% de chance de ser um ou outro.\n",
        "\n",
        "Já o cliente do tipo 3 tem em média 44 anos e gasta consideravelmete menos: 42 dólares apenas por ida no shopping. Além disso, esse cliente recebe anualmente quase o dobro do tipo 3, cerca de 48 mil dólares. De maneira interessante, descobrimos ainda que esse cliente tende a ser mulher (mulher = 1 e homem = 0). Ou seja, a cada 100 pessoas do perfil 1, há aproximadamente 62 mulheres e apenas 38 homens. Muito bacana.\n",
        "\n",
        "O perfil 1 tende a ser mulher também, mas é praticamente igual o número de homens e mulheres. A idade média é de 32 anos e a renda é a maior da base, 86 mil dólares anuais. Por fim, é esse perfil o que mais gasta no shopping também, cerca de 82 dólares por ida. No fim das contas existia uma relação entre quanto uma pessoa ganha e quanto ela: quem ganha bem gasta mais mesmo, pelo menos de acordo com a segmentação. Agora, quem mais ganha na base é quem gasta menos como veremos a seguir:\n",
        "\n",
        "O último perfil, o do tipo 2, tem a idade média de 40 anos e gasta na ida ao shopping em média 18 dólares, são os que gastam menos. Sua maioria é homem, mas também é um grupo bem heterogêneo (porquê a média está abaixo de 0.5 e mais perto de 0 (homem), portanto). Além disso, é o grupo com maior renda, recebendo em média 87 mil dólares por ano. Interessante que o grupo que mais ganha é o que menos gasta, achei contra-intuitivo. Legal.\n",
        "\n",
        "Vamos observar agora qual é o cluster mais homogêneo, ou seja, com características de fato parecidas. Para isso vamos avaliar o desvio padrão médio: se o desvio for baixo, significa que a maioria dos dados encontra-se muito perto da média e portanto os valores são parecidos e o cluster homogêneo. Um desvio padrão muito grande nos mostra que há muitos valores significativamente maiores ou menores que a média e que o grupo não é tão homogêneo assim:"
      ],
      "metadata": {
        "id": "-ZUqONvLRaig"
      }
    },
    {
      "cell_type": "code",
      "source": [
        "df.groupby(['clusters']).std()"
      ],
      "metadata": {
        "colab": {
          "base_uri": "https://localhost:8080/",
          "height": 206
        },
        "id": "Cj8QARTvTit7",
        "outputId": "f93b353d-9456-421a-d13b-775bbb478b40"
      },
      "execution_count": 42,
      "outputs": [
        {
          "output_type": "execute_result",
          "data": {
            "text/plain": [
              "          CustomerID     Genre        Age  Annual_Income  \\\n",
              "clusters                                                   \n",
              "0          19.235797  0.509175   5.571446      10.384665   \n",
              "1          22.803509  0.505035   3.728650      16.312485   \n",
              "2          22.226111  0.506009  11.376931      16.271348   \n",
              "3          33.379396  0.487699  15.341831      14.522817   \n",
              "\n",
              "          Spending Score (1-100)  \n",
              "clusters                          \n",
              "0                      14.075524  \n",
              "1                       9.364489  \n",
              "2                      10.915947  \n",
              "3                      14.713616  "
            ],
            "text/html": [
              "\n",
              "  <div id=\"df-a2331a14-3cb5-4cc8-b772-31a38229efd2\">\n",
              "    <div class=\"colab-df-container\">\n",
              "      <div>\n",
              "<style scoped>\n",
              "    .dataframe tbody tr th:only-of-type {\n",
              "        vertical-align: middle;\n",
              "    }\n",
              "\n",
              "    .dataframe tbody tr th {\n",
              "        vertical-align: top;\n",
              "    }\n",
              "\n",
              "    .dataframe thead th {\n",
              "        text-align: right;\n",
              "    }\n",
              "</style>\n",
              "<table border=\"1\" class=\"dataframe\">\n",
              "  <thead>\n",
              "    <tr style=\"text-align: right;\">\n",
              "      <th></th>\n",
              "      <th>CustomerID</th>\n",
              "      <th>Genre</th>\n",
              "      <th>Age</th>\n",
              "      <th>Annual_Income</th>\n",
              "      <th>Spending Score (1-100)</th>\n",
              "    </tr>\n",
              "    <tr>\n",
              "      <th>clusters</th>\n",
              "      <th></th>\n",
              "      <th></th>\n",
              "      <th></th>\n",
              "      <th></th>\n",
              "      <th></th>\n",
              "    </tr>\n",
              "  </thead>\n",
              "  <tbody>\n",
              "    <tr>\n",
              "      <th>0</th>\n",
              "      <td>19.235797</td>\n",
              "      <td>0.509175</td>\n",
              "      <td>5.571446</td>\n",
              "      <td>10.384665</td>\n",
              "      <td>14.075524</td>\n",
              "    </tr>\n",
              "    <tr>\n",
              "      <th>1</th>\n",
              "      <td>22.803509</td>\n",
              "      <td>0.505035</td>\n",
              "      <td>3.728650</td>\n",
              "      <td>16.312485</td>\n",
              "      <td>9.364489</td>\n",
              "    </tr>\n",
              "    <tr>\n",
              "      <th>2</th>\n",
              "      <td>22.226111</td>\n",
              "      <td>0.506009</td>\n",
              "      <td>11.376931</td>\n",
              "      <td>16.271348</td>\n",
              "      <td>10.915947</td>\n",
              "    </tr>\n",
              "    <tr>\n",
              "      <th>3</th>\n",
              "      <td>33.379396</td>\n",
              "      <td>0.487699</td>\n",
              "      <td>15.341831</td>\n",
              "      <td>14.522817</td>\n",
              "      <td>14.713616</td>\n",
              "    </tr>\n",
              "  </tbody>\n",
              "</table>\n",
              "</div>\n",
              "      <button class=\"colab-df-convert\" onclick=\"convertToInteractive('df-a2331a14-3cb5-4cc8-b772-31a38229efd2')\"\n",
              "              title=\"Convert this dataframe to an interactive table.\"\n",
              "              style=\"display:none;\">\n",
              "        \n",
              "  <svg xmlns=\"http://www.w3.org/2000/svg\" height=\"24px\"viewBox=\"0 0 24 24\"\n",
              "       width=\"24px\">\n",
              "    <path d=\"M0 0h24v24H0V0z\" fill=\"none\"/>\n",
              "    <path d=\"M18.56 5.44l.94 2.06.94-2.06 2.06-.94-2.06-.94-.94-2.06-.94 2.06-2.06.94zm-11 1L8.5 8.5l.94-2.06 2.06-.94-2.06-.94L8.5 2.5l-.94 2.06-2.06.94zm10 10l.94 2.06.94-2.06 2.06-.94-2.06-.94-.94-2.06-.94 2.06-2.06.94z\"/><path d=\"M17.41 7.96l-1.37-1.37c-.4-.4-.92-.59-1.43-.59-.52 0-1.04.2-1.43.59L10.3 9.45l-7.72 7.72c-.78.78-.78 2.05 0 2.83L4 21.41c.39.39.9.59 1.41.59.51 0 1.02-.2 1.41-.59l7.78-7.78 2.81-2.81c.8-.78.8-2.07 0-2.86zM5.41 20L4 18.59l7.72-7.72 1.47 1.35L5.41 20z\"/>\n",
              "  </svg>\n",
              "      </button>\n",
              "      \n",
              "  <style>\n",
              "    .colab-df-container {\n",
              "      display:flex;\n",
              "      flex-wrap:wrap;\n",
              "      gap: 12px;\n",
              "    }\n",
              "\n",
              "    .colab-df-convert {\n",
              "      background-color: #E8F0FE;\n",
              "      border: none;\n",
              "      border-radius: 50%;\n",
              "      cursor: pointer;\n",
              "      display: none;\n",
              "      fill: #1967D2;\n",
              "      height: 32px;\n",
              "      padding: 0 0 0 0;\n",
              "      width: 32px;\n",
              "    }\n",
              "\n",
              "    .colab-df-convert:hover {\n",
              "      background-color: #E2EBFA;\n",
              "      box-shadow: 0px 1px 2px rgba(60, 64, 67, 0.3), 0px 1px 3px 1px rgba(60, 64, 67, 0.15);\n",
              "      fill: #174EA6;\n",
              "    }\n",
              "\n",
              "    [theme=dark] .colab-df-convert {\n",
              "      background-color: #3B4455;\n",
              "      fill: #D2E3FC;\n",
              "    }\n",
              "\n",
              "    [theme=dark] .colab-df-convert:hover {\n",
              "      background-color: #434B5C;\n",
              "      box-shadow: 0px 1px 3px 1px rgba(0, 0, 0, 0.15);\n",
              "      filter: drop-shadow(0px 1px 2px rgba(0, 0, 0, 0.3));\n",
              "      fill: #FFFFFF;\n",
              "    }\n",
              "  </style>\n",
              "\n",
              "      <script>\n",
              "        const buttonEl =\n",
              "          document.querySelector('#df-a2331a14-3cb5-4cc8-b772-31a38229efd2 button.colab-df-convert');\n",
              "        buttonEl.style.display =\n",
              "          google.colab.kernel.accessAllowed ? 'block' : 'none';\n",
              "\n",
              "        async function convertToInteractive(key) {\n",
              "          const element = document.querySelector('#df-a2331a14-3cb5-4cc8-b772-31a38229efd2');\n",
              "          const dataTable =\n",
              "            await google.colab.kernel.invokeFunction('convertToInteractive',\n",
              "                                                     [key], {});\n",
              "          if (!dataTable) return;\n",
              "\n",
              "          const docLinkHtml = 'Like what you see? Visit the ' +\n",
              "            '<a target=\"_blank\" href=https://colab.research.google.com/notebooks/data_table.ipynb>data table notebook</a>'\n",
              "            + ' to learn more about interactive tables.';\n",
              "          element.innerHTML = '';\n",
              "          dataTable['output_type'] = 'display_data';\n",
              "          await google.colab.output.renderOutput(dataTable, element);\n",
              "          const docLink = document.createElement('div');\n",
              "          docLink.innerHTML = docLinkHtml;\n",
              "          element.appendChild(docLink);\n",
              "        }\n",
              "      </script>\n",
              "    </div>\n",
              "  </div>\n",
              "  "
            ]
          },
          "metadata": {},
          "execution_count": 42
        }
      ]
    },
    {
      "cell_type": "markdown",
      "source": [
        "Com relação a idade, os perfis mais homogêneos são os tipo 1 e 2, sendo que o 1 é o mais. Isso siginfica que o grupo 1, que em média tem 32 anos tem em sua vasta maioria pessoas com idade muito próxima a isso. Em compensação, o grupo de pessoas do perfil 0, que tem em média 44 anos, apresenta pessoas do grupo com até 15 anos de diferença, para mais ou menos. \n",
        "\n",
        "Com relação a renda anual, o desvio padrão foi no geral alto, ou seja, essa característica varia bastante entre os clusters, assim como quanto essas pessoas gastam, apesar das médias diferirem. Nesses casos, é possível e provável que haja poucos casos que fogem muito à média, mas esses casos são significantes a ponto de influenciar o desvio padrão."
      ],
      "metadata": {
        "id": "R3l2B-ZHT-4a"
      }
    }
  ]
}